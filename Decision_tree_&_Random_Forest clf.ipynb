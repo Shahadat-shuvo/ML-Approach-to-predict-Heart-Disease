{
  "nbformat": 4,
  "nbformat_minor": 0,
  "metadata": {
    "colab": {
      "provenance": []
    },
    "kernelspec": {
      "name": "python3",
      "display_name": "Python 3"
    },
    "language_info": {
      "name": "python"
    }
  },
  "cells": [
    {
      "cell_type": "markdown",
      "source": [
        "**Decision Tree & Random Forest**\n",
        "\n",
        "---\n",
        "\n",
        "\n",
        "\n",
        "---\n",
        "1. Data Cleaning\n",
        "2. Data Processing\n",
        "3. Checking best Parameter for Decision Tree\n",
        "4. Applying Decision Tree Model\n",
        "5. Evaluationg the Model\n",
        "6. Check whethere Overfit or not\n",
        "7. Applying Random Forest Classifier.\n",
        "8. Evauationg Model (CV)"
      ],
      "metadata": {
        "id": "H4t5VAygVQ1m"
      }
    },
    {
      "cell_type": "code",
      "execution_count": null,
      "metadata": {
        "id": "abzuwr1r2Wzr"
      },
      "outputs": [],
      "source": [
        "import pandas as pd\n",
        "import seaborn as sns\n",
        "import matplotlib.pyplot as plt\n",
        "import warnings\n",
        "warnings.filterwarnings('ignore')"
      ]
    },
    {
      "cell_type": "code",
      "source": [
        "df = pd.read_csv('/content/drive/MyDrive/Colab Notebooks/Heart Disease.csv')"
      ],
      "metadata": {
        "id": "UWub4OYp3ARx"
      },
      "execution_count": null,
      "outputs": []
    },
    {
      "cell_type": "code",
      "source": [
        "df1 = df.copy()"
      ],
      "metadata": {
        "id": "wk6USHJe1sUx"
      },
      "execution_count": null,
      "outputs": []
    },
    {
      "cell_type": "code",
      "source": [
        "df.head()"
      ],
      "metadata": {
        "colab": {
          "base_uri": "https://localhost:8080/",
          "height": 270
        },
        "id": "rNiSr-Ik3Fdq",
        "outputId": "b0cd164f-191b-487c-b115-bb73813b1169"
      },
      "execution_count": null,
      "outputs": [
        {
          "output_type": "execute_result",
          "data": {
            "text/plain": [
              "  HeartDisease    BMI Smoking AlcoholDrinking Stroke  PhysicalHealth  \\\n",
              "0           No  16.60     Yes              No     No               3   \n",
              "1           No  20.34      No              No    Yes               0   \n",
              "2           No  26.58     Yes              No     No              20   \n",
              "3           No  24.21      No              No     No               0   \n",
              "4           No  23.71      No              No     No              28   \n",
              "\n",
              "   MentalHealth DiffWalking     Sex  AgeCategory   Race Diabetic  \\\n",
              "0            30          No  Female        55-59  White      Yes   \n",
              "1             0          No  Female  80 or older  White       No   \n",
              "2            30          No    Male        65-69  White      Yes   \n",
              "3             0          No  Female        75-79  White       No   \n",
              "4             0         Yes  Female        40-44  White       No   \n",
              "\n",
              "  PhysicalActivity  GenHealth  SleepTime Asthma KidneyDisease SkinCancer  \n",
              "0              Yes  Very good          5    Yes            No        Yes  \n",
              "1              Yes  Very good          7     No            No         No  \n",
              "2              Yes       Fair          8    Yes            No         No  \n",
              "3               No       Good          6     No            No        Yes  \n",
              "4              Yes  Very good          8     No            No         No  "
            ],
            "text/html": [
              "\n",
              "  <div id=\"df-6d2acbb4-cf9a-49d2-a263-8e291e6ab0e1\">\n",
              "    <div class=\"colab-df-container\">\n",
              "      <div>\n",
              "<style scoped>\n",
              "    .dataframe tbody tr th:only-of-type {\n",
              "        vertical-align: middle;\n",
              "    }\n",
              "\n",
              "    .dataframe tbody tr th {\n",
              "        vertical-align: top;\n",
              "    }\n",
              "\n",
              "    .dataframe thead th {\n",
              "        text-align: right;\n",
              "    }\n",
              "</style>\n",
              "<table border=\"1\" class=\"dataframe\">\n",
              "  <thead>\n",
              "    <tr style=\"text-align: right;\">\n",
              "      <th></th>\n",
              "      <th>HeartDisease</th>\n",
              "      <th>BMI</th>\n",
              "      <th>Smoking</th>\n",
              "      <th>AlcoholDrinking</th>\n",
              "      <th>Stroke</th>\n",
              "      <th>PhysicalHealth</th>\n",
              "      <th>MentalHealth</th>\n",
              "      <th>DiffWalking</th>\n",
              "      <th>Sex</th>\n",
              "      <th>AgeCategory</th>\n",
              "      <th>Race</th>\n",
              "      <th>Diabetic</th>\n",
              "      <th>PhysicalActivity</th>\n",
              "      <th>GenHealth</th>\n",
              "      <th>SleepTime</th>\n",
              "      <th>Asthma</th>\n",
              "      <th>KidneyDisease</th>\n",
              "      <th>SkinCancer</th>\n",
              "    </tr>\n",
              "  </thead>\n",
              "  <tbody>\n",
              "    <tr>\n",
              "      <th>0</th>\n",
              "      <td>No</td>\n",
              "      <td>16.60</td>\n",
              "      <td>Yes</td>\n",
              "      <td>No</td>\n",
              "      <td>No</td>\n",
              "      <td>3</td>\n",
              "      <td>30</td>\n",
              "      <td>No</td>\n",
              "      <td>Female</td>\n",
              "      <td>55-59</td>\n",
              "      <td>White</td>\n",
              "      <td>Yes</td>\n",
              "      <td>Yes</td>\n",
              "      <td>Very good</td>\n",
              "      <td>5</td>\n",
              "      <td>Yes</td>\n",
              "      <td>No</td>\n",
              "      <td>Yes</td>\n",
              "    </tr>\n",
              "    <tr>\n",
              "      <th>1</th>\n",
              "      <td>No</td>\n",
              "      <td>20.34</td>\n",
              "      <td>No</td>\n",
              "      <td>No</td>\n",
              "      <td>Yes</td>\n",
              "      <td>0</td>\n",
              "      <td>0</td>\n",
              "      <td>No</td>\n",
              "      <td>Female</td>\n",
              "      <td>80 or older</td>\n",
              "      <td>White</td>\n",
              "      <td>No</td>\n",
              "      <td>Yes</td>\n",
              "      <td>Very good</td>\n",
              "      <td>7</td>\n",
              "      <td>No</td>\n",
              "      <td>No</td>\n",
              "      <td>No</td>\n",
              "    </tr>\n",
              "    <tr>\n",
              "      <th>2</th>\n",
              "      <td>No</td>\n",
              "      <td>26.58</td>\n",
              "      <td>Yes</td>\n",
              "      <td>No</td>\n",
              "      <td>No</td>\n",
              "      <td>20</td>\n",
              "      <td>30</td>\n",
              "      <td>No</td>\n",
              "      <td>Male</td>\n",
              "      <td>65-69</td>\n",
              "      <td>White</td>\n",
              "      <td>Yes</td>\n",
              "      <td>Yes</td>\n",
              "      <td>Fair</td>\n",
              "      <td>8</td>\n",
              "      <td>Yes</td>\n",
              "      <td>No</td>\n",
              "      <td>No</td>\n",
              "    </tr>\n",
              "    <tr>\n",
              "      <th>3</th>\n",
              "      <td>No</td>\n",
              "      <td>24.21</td>\n",
              "      <td>No</td>\n",
              "      <td>No</td>\n",
              "      <td>No</td>\n",
              "      <td>0</td>\n",
              "      <td>0</td>\n",
              "      <td>No</td>\n",
              "      <td>Female</td>\n",
              "      <td>75-79</td>\n",
              "      <td>White</td>\n",
              "      <td>No</td>\n",
              "      <td>No</td>\n",
              "      <td>Good</td>\n",
              "      <td>6</td>\n",
              "      <td>No</td>\n",
              "      <td>No</td>\n",
              "      <td>Yes</td>\n",
              "    </tr>\n",
              "    <tr>\n",
              "      <th>4</th>\n",
              "      <td>No</td>\n",
              "      <td>23.71</td>\n",
              "      <td>No</td>\n",
              "      <td>No</td>\n",
              "      <td>No</td>\n",
              "      <td>28</td>\n",
              "      <td>0</td>\n",
              "      <td>Yes</td>\n",
              "      <td>Female</td>\n",
              "      <td>40-44</td>\n",
              "      <td>White</td>\n",
              "      <td>No</td>\n",
              "      <td>Yes</td>\n",
              "      <td>Very good</td>\n",
              "      <td>8</td>\n",
              "      <td>No</td>\n",
              "      <td>No</td>\n",
              "      <td>No</td>\n",
              "    </tr>\n",
              "  </tbody>\n",
              "</table>\n",
              "</div>\n",
              "      <button class=\"colab-df-convert\" onclick=\"convertToInteractive('df-6d2acbb4-cf9a-49d2-a263-8e291e6ab0e1')\"\n",
              "              title=\"Convert this dataframe to an interactive table.\"\n",
              "              style=\"display:none;\">\n",
              "        \n",
              "  <svg xmlns=\"http://www.w3.org/2000/svg\" height=\"24px\"viewBox=\"0 0 24 24\"\n",
              "       width=\"24px\">\n",
              "    <path d=\"M0 0h24v24H0V0z\" fill=\"none\"/>\n",
              "    <path d=\"M18.56 5.44l.94 2.06.94-2.06 2.06-.94-2.06-.94-.94-2.06-.94 2.06-2.06.94zm-11 1L8.5 8.5l.94-2.06 2.06-.94-2.06-.94L8.5 2.5l-.94 2.06-2.06.94zm10 10l.94 2.06.94-2.06 2.06-.94-2.06-.94-.94-2.06-.94 2.06-2.06.94z\"/><path d=\"M17.41 7.96l-1.37-1.37c-.4-.4-.92-.59-1.43-.59-.52 0-1.04.2-1.43.59L10.3 9.45l-7.72 7.72c-.78.78-.78 2.05 0 2.83L4 21.41c.39.39.9.59 1.41.59.51 0 1.02-.2 1.41-.59l7.78-7.78 2.81-2.81c.8-.78.8-2.07 0-2.86zM5.41 20L4 18.59l7.72-7.72 1.47 1.35L5.41 20z\"/>\n",
              "  </svg>\n",
              "      </button>\n",
              "      \n",
              "  <style>\n",
              "    .colab-df-container {\n",
              "      display:flex;\n",
              "      flex-wrap:wrap;\n",
              "      gap: 12px;\n",
              "    }\n",
              "\n",
              "    .colab-df-convert {\n",
              "      background-color: #E8F0FE;\n",
              "      border: none;\n",
              "      border-radius: 50%;\n",
              "      cursor: pointer;\n",
              "      display: none;\n",
              "      fill: #1967D2;\n",
              "      height: 32px;\n",
              "      padding: 0 0 0 0;\n",
              "      width: 32px;\n",
              "    }\n",
              "\n",
              "    .colab-df-convert:hover {\n",
              "      background-color: #E2EBFA;\n",
              "      box-shadow: 0px 1px 2px rgba(60, 64, 67, 0.3), 0px 1px 3px 1px rgba(60, 64, 67, 0.15);\n",
              "      fill: #174EA6;\n",
              "    }\n",
              "\n",
              "    [theme=dark] .colab-df-convert {\n",
              "      background-color: #3B4455;\n",
              "      fill: #D2E3FC;\n",
              "    }\n",
              "\n",
              "    [theme=dark] .colab-df-convert:hover {\n",
              "      background-color: #434B5C;\n",
              "      box-shadow: 0px 1px 3px 1px rgba(0, 0, 0, 0.15);\n",
              "      filter: drop-shadow(0px 1px 2px rgba(0, 0, 0, 0.3));\n",
              "      fill: #FFFFFF;\n",
              "    }\n",
              "  </style>\n",
              "\n",
              "      <script>\n",
              "        const buttonEl =\n",
              "          document.querySelector('#df-6d2acbb4-cf9a-49d2-a263-8e291e6ab0e1 button.colab-df-convert');\n",
              "        buttonEl.style.display =\n",
              "          google.colab.kernel.accessAllowed ? 'block' : 'none';\n",
              "\n",
              "        async function convertToInteractive(key) {\n",
              "          const element = document.querySelector('#df-6d2acbb4-cf9a-49d2-a263-8e291e6ab0e1');\n",
              "          const dataTable =\n",
              "            await google.colab.kernel.invokeFunction('convertToInteractive',\n",
              "                                                     [key], {});\n",
              "          if (!dataTable) return;\n",
              "\n",
              "          const docLinkHtml = 'Like what you see? Visit the ' +\n",
              "            '<a target=\"_blank\" href=https://colab.research.google.com/notebooks/data_table.ipynb>data table notebook</a>'\n",
              "            + ' to learn more about interactive tables.';\n",
              "          element.innerHTML = '';\n",
              "          dataTable['output_type'] = 'display_data';\n",
              "          await google.colab.output.renderOutput(dataTable, element);\n",
              "          const docLink = document.createElement('div');\n",
              "          docLink.innerHTML = docLinkHtml;\n",
              "          element.appendChild(docLink);\n",
              "        }\n",
              "      </script>\n",
              "    </div>\n",
              "  </div>\n",
              "  "
            ]
          },
          "metadata": {},
          "execution_count": 4
        }
      ]
    },
    {
      "cell_type": "markdown",
      "source": [
        "**1. Data Cleaning**\n",
        "\n",
        "---\n",
        "\n"
      ],
      "metadata": {
        "id": "QdNal8pxPjgA"
      }
    },
    {
      "cell_type": "code",
      "source": [
        "df.isnull().sum()"
      ],
      "metadata": {
        "id": "eqZdWJAa4ij7",
        "colab": {
          "base_uri": "https://localhost:8080/"
        },
        "outputId": "e7867d22-c6cd-4c1f-aabd-e783e726037c"
      },
      "execution_count": null,
      "outputs": [
        {
          "output_type": "execute_result",
          "data": {
            "text/plain": [
              "HeartDisease        0\n",
              "BMI                 0\n",
              "Smoking             0\n",
              "AlcoholDrinking     0\n",
              "Stroke              0\n",
              "PhysicalHealth      0\n",
              "MentalHealth        0\n",
              "DiffWalking         0\n",
              "Sex                 0\n",
              "AgeCategory         0\n",
              "Race                0\n",
              "Diabetic            0\n",
              "PhysicalActivity    0\n",
              "GenHealth           0\n",
              "SleepTime           0\n",
              "Asthma              0\n",
              "KidneyDisease       0\n",
              "SkinCancer          0\n",
              "dtype: int64"
            ]
          },
          "metadata": {},
          "execution_count": 5
        }
      ]
    },
    {
      "cell_type": "code",
      "source": [
        "df.head()"
      ],
      "metadata": {
        "colab": {
          "base_uri": "https://localhost:8080/",
          "height": 270
        },
        "id": "5eGCiDbW6OG4",
        "outputId": "38f5d083-bdc9-42cf-fc45-12ecadf6552e"
      },
      "execution_count": null,
      "outputs": [
        {
          "output_type": "execute_result",
          "data": {
            "text/plain": [
              "  HeartDisease    BMI Smoking AlcoholDrinking Stroke  PhysicalHealth  \\\n",
              "0           No  16.60     Yes              No     No               3   \n",
              "1           No  20.34      No              No    Yes               0   \n",
              "2           No  26.58     Yes              No     No              20   \n",
              "3           No  24.21      No              No     No               0   \n",
              "4           No  23.71      No              No     No              28   \n",
              "\n",
              "   MentalHealth DiffWalking     Sex  AgeCategory   Race Diabetic  \\\n",
              "0            30          No  Female        55-59  White      Yes   \n",
              "1             0          No  Female  80 or older  White       No   \n",
              "2            30          No    Male        65-69  White      Yes   \n",
              "3             0          No  Female        75-79  White       No   \n",
              "4             0         Yes  Female        40-44  White       No   \n",
              "\n",
              "  PhysicalActivity  GenHealth  SleepTime Asthma KidneyDisease SkinCancer  \n",
              "0              Yes  Very good          5    Yes            No        Yes  \n",
              "1              Yes  Very good          7     No            No         No  \n",
              "2              Yes       Fair          8    Yes            No         No  \n",
              "3               No       Good          6     No            No        Yes  \n",
              "4              Yes  Very good          8     No            No         No  "
            ],
            "text/html": [
              "\n",
              "  <div id=\"df-bc38eaf7-3309-43a8-a95f-54ac6288a11b\">\n",
              "    <div class=\"colab-df-container\">\n",
              "      <div>\n",
              "<style scoped>\n",
              "    .dataframe tbody tr th:only-of-type {\n",
              "        vertical-align: middle;\n",
              "    }\n",
              "\n",
              "    .dataframe tbody tr th {\n",
              "        vertical-align: top;\n",
              "    }\n",
              "\n",
              "    .dataframe thead th {\n",
              "        text-align: right;\n",
              "    }\n",
              "</style>\n",
              "<table border=\"1\" class=\"dataframe\">\n",
              "  <thead>\n",
              "    <tr style=\"text-align: right;\">\n",
              "      <th></th>\n",
              "      <th>HeartDisease</th>\n",
              "      <th>BMI</th>\n",
              "      <th>Smoking</th>\n",
              "      <th>AlcoholDrinking</th>\n",
              "      <th>Stroke</th>\n",
              "      <th>PhysicalHealth</th>\n",
              "      <th>MentalHealth</th>\n",
              "      <th>DiffWalking</th>\n",
              "      <th>Sex</th>\n",
              "      <th>AgeCategory</th>\n",
              "      <th>Race</th>\n",
              "      <th>Diabetic</th>\n",
              "      <th>PhysicalActivity</th>\n",
              "      <th>GenHealth</th>\n",
              "      <th>SleepTime</th>\n",
              "      <th>Asthma</th>\n",
              "      <th>KidneyDisease</th>\n",
              "      <th>SkinCancer</th>\n",
              "    </tr>\n",
              "  </thead>\n",
              "  <tbody>\n",
              "    <tr>\n",
              "      <th>0</th>\n",
              "      <td>No</td>\n",
              "      <td>16.60</td>\n",
              "      <td>Yes</td>\n",
              "      <td>No</td>\n",
              "      <td>No</td>\n",
              "      <td>3</td>\n",
              "      <td>30</td>\n",
              "      <td>No</td>\n",
              "      <td>Female</td>\n",
              "      <td>55-59</td>\n",
              "      <td>White</td>\n",
              "      <td>Yes</td>\n",
              "      <td>Yes</td>\n",
              "      <td>Very good</td>\n",
              "      <td>5</td>\n",
              "      <td>Yes</td>\n",
              "      <td>No</td>\n",
              "      <td>Yes</td>\n",
              "    </tr>\n",
              "    <tr>\n",
              "      <th>1</th>\n",
              "      <td>No</td>\n",
              "      <td>20.34</td>\n",
              "      <td>No</td>\n",
              "      <td>No</td>\n",
              "      <td>Yes</td>\n",
              "      <td>0</td>\n",
              "      <td>0</td>\n",
              "      <td>No</td>\n",
              "      <td>Female</td>\n",
              "      <td>80 or older</td>\n",
              "      <td>White</td>\n",
              "      <td>No</td>\n",
              "      <td>Yes</td>\n",
              "      <td>Very good</td>\n",
              "      <td>7</td>\n",
              "      <td>No</td>\n",
              "      <td>No</td>\n",
              "      <td>No</td>\n",
              "    </tr>\n",
              "    <tr>\n",
              "      <th>2</th>\n",
              "      <td>No</td>\n",
              "      <td>26.58</td>\n",
              "      <td>Yes</td>\n",
              "      <td>No</td>\n",
              "      <td>No</td>\n",
              "      <td>20</td>\n",
              "      <td>30</td>\n",
              "      <td>No</td>\n",
              "      <td>Male</td>\n",
              "      <td>65-69</td>\n",
              "      <td>White</td>\n",
              "      <td>Yes</td>\n",
              "      <td>Yes</td>\n",
              "      <td>Fair</td>\n",
              "      <td>8</td>\n",
              "      <td>Yes</td>\n",
              "      <td>No</td>\n",
              "      <td>No</td>\n",
              "    </tr>\n",
              "    <tr>\n",
              "      <th>3</th>\n",
              "      <td>No</td>\n",
              "      <td>24.21</td>\n",
              "      <td>No</td>\n",
              "      <td>No</td>\n",
              "      <td>No</td>\n",
              "      <td>0</td>\n",
              "      <td>0</td>\n",
              "      <td>No</td>\n",
              "      <td>Female</td>\n",
              "      <td>75-79</td>\n",
              "      <td>White</td>\n",
              "      <td>No</td>\n",
              "      <td>No</td>\n",
              "      <td>Good</td>\n",
              "      <td>6</td>\n",
              "      <td>No</td>\n",
              "      <td>No</td>\n",
              "      <td>Yes</td>\n",
              "    </tr>\n",
              "    <tr>\n",
              "      <th>4</th>\n",
              "      <td>No</td>\n",
              "      <td>23.71</td>\n",
              "      <td>No</td>\n",
              "      <td>No</td>\n",
              "      <td>No</td>\n",
              "      <td>28</td>\n",
              "      <td>0</td>\n",
              "      <td>Yes</td>\n",
              "      <td>Female</td>\n",
              "      <td>40-44</td>\n",
              "      <td>White</td>\n",
              "      <td>No</td>\n",
              "      <td>Yes</td>\n",
              "      <td>Very good</td>\n",
              "      <td>8</td>\n",
              "      <td>No</td>\n",
              "      <td>No</td>\n",
              "      <td>No</td>\n",
              "    </tr>\n",
              "  </tbody>\n",
              "</table>\n",
              "</div>\n",
              "      <button class=\"colab-df-convert\" onclick=\"convertToInteractive('df-bc38eaf7-3309-43a8-a95f-54ac6288a11b')\"\n",
              "              title=\"Convert this dataframe to an interactive table.\"\n",
              "              style=\"display:none;\">\n",
              "        \n",
              "  <svg xmlns=\"http://www.w3.org/2000/svg\" height=\"24px\"viewBox=\"0 0 24 24\"\n",
              "       width=\"24px\">\n",
              "    <path d=\"M0 0h24v24H0V0z\" fill=\"none\"/>\n",
              "    <path d=\"M18.56 5.44l.94 2.06.94-2.06 2.06-.94-2.06-.94-.94-2.06-.94 2.06-2.06.94zm-11 1L8.5 8.5l.94-2.06 2.06-.94-2.06-.94L8.5 2.5l-.94 2.06-2.06.94zm10 10l.94 2.06.94-2.06 2.06-.94-2.06-.94-.94-2.06-.94 2.06-2.06.94z\"/><path d=\"M17.41 7.96l-1.37-1.37c-.4-.4-.92-.59-1.43-.59-.52 0-1.04.2-1.43.59L10.3 9.45l-7.72 7.72c-.78.78-.78 2.05 0 2.83L4 21.41c.39.39.9.59 1.41.59.51 0 1.02-.2 1.41-.59l7.78-7.78 2.81-2.81c.8-.78.8-2.07 0-2.86zM5.41 20L4 18.59l7.72-7.72 1.47 1.35L5.41 20z\"/>\n",
              "  </svg>\n",
              "      </button>\n",
              "      \n",
              "  <style>\n",
              "    .colab-df-container {\n",
              "      display:flex;\n",
              "      flex-wrap:wrap;\n",
              "      gap: 12px;\n",
              "    }\n",
              "\n",
              "    .colab-df-convert {\n",
              "      background-color: #E8F0FE;\n",
              "      border: none;\n",
              "      border-radius: 50%;\n",
              "      cursor: pointer;\n",
              "      display: none;\n",
              "      fill: #1967D2;\n",
              "      height: 32px;\n",
              "      padding: 0 0 0 0;\n",
              "      width: 32px;\n",
              "    }\n",
              "\n",
              "    .colab-df-convert:hover {\n",
              "      background-color: #E2EBFA;\n",
              "      box-shadow: 0px 1px 2px rgba(60, 64, 67, 0.3), 0px 1px 3px 1px rgba(60, 64, 67, 0.15);\n",
              "      fill: #174EA6;\n",
              "    }\n",
              "\n",
              "    [theme=dark] .colab-df-convert {\n",
              "      background-color: #3B4455;\n",
              "      fill: #D2E3FC;\n",
              "    }\n",
              "\n",
              "    [theme=dark] .colab-df-convert:hover {\n",
              "      background-color: #434B5C;\n",
              "      box-shadow: 0px 1px 3px 1px rgba(0, 0, 0, 0.15);\n",
              "      filter: drop-shadow(0px 1px 2px rgba(0, 0, 0, 0.3));\n",
              "      fill: #FFFFFF;\n",
              "    }\n",
              "  </style>\n",
              "\n",
              "      <script>\n",
              "        const buttonEl =\n",
              "          document.querySelector('#df-bc38eaf7-3309-43a8-a95f-54ac6288a11b button.colab-df-convert');\n",
              "        buttonEl.style.display =\n",
              "          google.colab.kernel.accessAllowed ? 'block' : 'none';\n",
              "\n",
              "        async function convertToInteractive(key) {\n",
              "          const element = document.querySelector('#df-bc38eaf7-3309-43a8-a95f-54ac6288a11b');\n",
              "          const dataTable =\n",
              "            await google.colab.kernel.invokeFunction('convertToInteractive',\n",
              "                                                     [key], {});\n",
              "          if (!dataTable) return;\n",
              "\n",
              "          const docLinkHtml = 'Like what you see? Visit the ' +\n",
              "            '<a target=\"_blank\" href=https://colab.research.google.com/notebooks/data_table.ipynb>data table notebook</a>'\n",
              "            + ' to learn more about interactive tables.';\n",
              "          element.innerHTML = '';\n",
              "          dataTable['output_type'] = 'display_data';\n",
              "          await google.colab.output.renderOutput(dataTable, element);\n",
              "          const docLink = document.createElement('div');\n",
              "          docLink.innerHTML = docLinkHtml;\n",
              "          element.appendChild(docLink);\n",
              "        }\n",
              "      </script>\n",
              "    </div>\n",
              "  </div>\n",
              "  "
            ]
          },
          "metadata": {},
          "execution_count": 6
        }
      ]
    },
    {
      "cell_type": "code",
      "source": [
        "df = df[~(df['BMI']>42)] # Droping outliers"
      ],
      "metadata": {
        "id": "YqbyH5oY2Zdd"
      },
      "execution_count": null,
      "outputs": []
    },
    {
      "cell_type": "code",
      "source": [
        "df.shape"
      ],
      "metadata": {
        "colab": {
          "base_uri": "https://localhost:8080/"
        },
        "id": "a4MASHZ32a5I",
        "outputId": "f7e2c538-f225-4388-d38e-737d9ce96505"
      },
      "execution_count": null,
      "outputs": [
        {
          "output_type": "execute_result",
          "data": {
            "text/plain": [
              "(308648, 18)"
            ]
          },
          "metadata": {},
          "execution_count": 8
        }
      ]
    },
    {
      "cell_type": "code",
      "source": [
        "df.drop_duplicates() # Droping Duplicates"
      ],
      "metadata": {
        "colab": {
          "base_uri": "https://localhost:8080/",
          "height": 487
        },
        "id": "ejl6rDIf2dda",
        "outputId": "e0532c7f-07bb-41ae-81ab-39e9fc49d1ba"
      },
      "execution_count": null,
      "outputs": [
        {
          "output_type": "execute_result",
          "data": {
            "text/plain": [
              "       HeartDisease    BMI Smoking AlcoholDrinking Stroke  PhysicalHealth  \\\n",
              "0                No  16.60     Yes              No     No               3   \n",
              "1                No  20.34      No              No    Yes               0   \n",
              "2                No  26.58     Yes              No     No              20   \n",
              "3                No  24.21      No              No     No               0   \n",
              "4                No  23.71      No              No     No              28   \n",
              "...             ...    ...     ...             ...    ...             ...   \n",
              "319789           No  22.22      No              No     No               0   \n",
              "319790          Yes  27.41     Yes              No     No               7   \n",
              "319791           No  29.84     Yes              No     No               0   \n",
              "319792           No  24.24      No              No     No               0   \n",
              "319793           No  32.81      No              No     No               0   \n",
              "\n",
              "        MentalHealth DiffWalking     Sex  AgeCategory      Race Diabetic  \\\n",
              "0                 30          No  Female        55-59     White      Yes   \n",
              "1                  0          No  Female  80 or older     White       No   \n",
              "2                 30          No    Male        65-69     White      Yes   \n",
              "3                  0          No  Female        75-79     White       No   \n",
              "4                  0         Yes  Female        40-44     White       No   \n",
              "...              ...         ...     ...          ...       ...      ...   \n",
              "319789             0          No  Female        18-24  Hispanic       No   \n",
              "319790             0         Yes    Male        60-64  Hispanic      Yes   \n",
              "319791             0          No    Male        35-39  Hispanic       No   \n",
              "319792             0          No  Female        45-49  Hispanic       No   \n",
              "319793             0          No  Female        25-29  Hispanic       No   \n",
              "\n",
              "       PhysicalActivity  GenHealth  SleepTime Asthma KidneyDisease SkinCancer  \n",
              "0                   Yes  Very good          5    Yes            No        Yes  \n",
              "1                   Yes  Very good          7     No            No         No  \n",
              "2                   Yes       Fair          8    Yes            No         No  \n",
              "3                    No       Good          6     No            No        Yes  \n",
              "4                   Yes  Very good          8     No            No         No  \n",
              "...                 ...        ...        ...    ...           ...        ...  \n",
              "319789              Yes  Excellent          8     No            No         No  \n",
              "319790               No       Fair          6    Yes            No         No  \n",
              "319791              Yes  Very good          5    Yes            No         No  \n",
              "319792              Yes       Good          6     No            No         No  \n",
              "319793               No       Good         12     No            No         No  \n",
              "\n",
              "[290579 rows x 18 columns]"
            ],
            "text/html": [
              "\n",
              "  <div id=\"df-ad5bfa2c-495c-489c-ae5f-ad0d38918da5\">\n",
              "    <div class=\"colab-df-container\">\n",
              "      <div>\n",
              "<style scoped>\n",
              "    .dataframe tbody tr th:only-of-type {\n",
              "        vertical-align: middle;\n",
              "    }\n",
              "\n",
              "    .dataframe tbody tr th {\n",
              "        vertical-align: top;\n",
              "    }\n",
              "\n",
              "    .dataframe thead th {\n",
              "        text-align: right;\n",
              "    }\n",
              "</style>\n",
              "<table border=\"1\" class=\"dataframe\">\n",
              "  <thead>\n",
              "    <tr style=\"text-align: right;\">\n",
              "      <th></th>\n",
              "      <th>HeartDisease</th>\n",
              "      <th>BMI</th>\n",
              "      <th>Smoking</th>\n",
              "      <th>AlcoholDrinking</th>\n",
              "      <th>Stroke</th>\n",
              "      <th>PhysicalHealth</th>\n",
              "      <th>MentalHealth</th>\n",
              "      <th>DiffWalking</th>\n",
              "      <th>Sex</th>\n",
              "      <th>AgeCategory</th>\n",
              "      <th>Race</th>\n",
              "      <th>Diabetic</th>\n",
              "      <th>PhysicalActivity</th>\n",
              "      <th>GenHealth</th>\n",
              "      <th>SleepTime</th>\n",
              "      <th>Asthma</th>\n",
              "      <th>KidneyDisease</th>\n",
              "      <th>SkinCancer</th>\n",
              "    </tr>\n",
              "  </thead>\n",
              "  <tbody>\n",
              "    <tr>\n",
              "      <th>0</th>\n",
              "      <td>No</td>\n",
              "      <td>16.60</td>\n",
              "      <td>Yes</td>\n",
              "      <td>No</td>\n",
              "      <td>No</td>\n",
              "      <td>3</td>\n",
              "      <td>30</td>\n",
              "      <td>No</td>\n",
              "      <td>Female</td>\n",
              "      <td>55-59</td>\n",
              "      <td>White</td>\n",
              "      <td>Yes</td>\n",
              "      <td>Yes</td>\n",
              "      <td>Very good</td>\n",
              "      <td>5</td>\n",
              "      <td>Yes</td>\n",
              "      <td>No</td>\n",
              "      <td>Yes</td>\n",
              "    </tr>\n",
              "    <tr>\n",
              "      <th>1</th>\n",
              "      <td>No</td>\n",
              "      <td>20.34</td>\n",
              "      <td>No</td>\n",
              "      <td>No</td>\n",
              "      <td>Yes</td>\n",
              "      <td>0</td>\n",
              "      <td>0</td>\n",
              "      <td>No</td>\n",
              "      <td>Female</td>\n",
              "      <td>80 or older</td>\n",
              "      <td>White</td>\n",
              "      <td>No</td>\n",
              "      <td>Yes</td>\n",
              "      <td>Very good</td>\n",
              "      <td>7</td>\n",
              "      <td>No</td>\n",
              "      <td>No</td>\n",
              "      <td>No</td>\n",
              "    </tr>\n",
              "    <tr>\n",
              "      <th>2</th>\n",
              "      <td>No</td>\n",
              "      <td>26.58</td>\n",
              "      <td>Yes</td>\n",
              "      <td>No</td>\n",
              "      <td>No</td>\n",
              "      <td>20</td>\n",
              "      <td>30</td>\n",
              "      <td>No</td>\n",
              "      <td>Male</td>\n",
              "      <td>65-69</td>\n",
              "      <td>White</td>\n",
              "      <td>Yes</td>\n",
              "      <td>Yes</td>\n",
              "      <td>Fair</td>\n",
              "      <td>8</td>\n",
              "      <td>Yes</td>\n",
              "      <td>No</td>\n",
              "      <td>No</td>\n",
              "    </tr>\n",
              "    <tr>\n",
              "      <th>3</th>\n",
              "      <td>No</td>\n",
              "      <td>24.21</td>\n",
              "      <td>No</td>\n",
              "      <td>No</td>\n",
              "      <td>No</td>\n",
              "      <td>0</td>\n",
              "      <td>0</td>\n",
              "      <td>No</td>\n",
              "      <td>Female</td>\n",
              "      <td>75-79</td>\n",
              "      <td>White</td>\n",
              "      <td>No</td>\n",
              "      <td>No</td>\n",
              "      <td>Good</td>\n",
              "      <td>6</td>\n",
              "      <td>No</td>\n",
              "      <td>No</td>\n",
              "      <td>Yes</td>\n",
              "    </tr>\n",
              "    <tr>\n",
              "      <th>4</th>\n",
              "      <td>No</td>\n",
              "      <td>23.71</td>\n",
              "      <td>No</td>\n",
              "      <td>No</td>\n",
              "      <td>No</td>\n",
              "      <td>28</td>\n",
              "      <td>0</td>\n",
              "      <td>Yes</td>\n",
              "      <td>Female</td>\n",
              "      <td>40-44</td>\n",
              "      <td>White</td>\n",
              "      <td>No</td>\n",
              "      <td>Yes</td>\n",
              "      <td>Very good</td>\n",
              "      <td>8</td>\n",
              "      <td>No</td>\n",
              "      <td>No</td>\n",
              "      <td>No</td>\n",
              "    </tr>\n",
              "    <tr>\n",
              "      <th>...</th>\n",
              "      <td>...</td>\n",
              "      <td>...</td>\n",
              "      <td>...</td>\n",
              "      <td>...</td>\n",
              "      <td>...</td>\n",
              "      <td>...</td>\n",
              "      <td>...</td>\n",
              "      <td>...</td>\n",
              "      <td>...</td>\n",
              "      <td>...</td>\n",
              "      <td>...</td>\n",
              "      <td>...</td>\n",
              "      <td>...</td>\n",
              "      <td>...</td>\n",
              "      <td>...</td>\n",
              "      <td>...</td>\n",
              "      <td>...</td>\n",
              "      <td>...</td>\n",
              "    </tr>\n",
              "    <tr>\n",
              "      <th>319789</th>\n",
              "      <td>No</td>\n",
              "      <td>22.22</td>\n",
              "      <td>No</td>\n",
              "      <td>No</td>\n",
              "      <td>No</td>\n",
              "      <td>0</td>\n",
              "      <td>0</td>\n",
              "      <td>No</td>\n",
              "      <td>Female</td>\n",
              "      <td>18-24</td>\n",
              "      <td>Hispanic</td>\n",
              "      <td>No</td>\n",
              "      <td>Yes</td>\n",
              "      <td>Excellent</td>\n",
              "      <td>8</td>\n",
              "      <td>No</td>\n",
              "      <td>No</td>\n",
              "      <td>No</td>\n",
              "    </tr>\n",
              "    <tr>\n",
              "      <th>319790</th>\n",
              "      <td>Yes</td>\n",
              "      <td>27.41</td>\n",
              "      <td>Yes</td>\n",
              "      <td>No</td>\n",
              "      <td>No</td>\n",
              "      <td>7</td>\n",
              "      <td>0</td>\n",
              "      <td>Yes</td>\n",
              "      <td>Male</td>\n",
              "      <td>60-64</td>\n",
              "      <td>Hispanic</td>\n",
              "      <td>Yes</td>\n",
              "      <td>No</td>\n",
              "      <td>Fair</td>\n",
              "      <td>6</td>\n",
              "      <td>Yes</td>\n",
              "      <td>No</td>\n",
              "      <td>No</td>\n",
              "    </tr>\n",
              "    <tr>\n",
              "      <th>319791</th>\n",
              "      <td>No</td>\n",
              "      <td>29.84</td>\n",
              "      <td>Yes</td>\n",
              "      <td>No</td>\n",
              "      <td>No</td>\n",
              "      <td>0</td>\n",
              "      <td>0</td>\n",
              "      <td>No</td>\n",
              "      <td>Male</td>\n",
              "      <td>35-39</td>\n",
              "      <td>Hispanic</td>\n",
              "      <td>No</td>\n",
              "      <td>Yes</td>\n",
              "      <td>Very good</td>\n",
              "      <td>5</td>\n",
              "      <td>Yes</td>\n",
              "      <td>No</td>\n",
              "      <td>No</td>\n",
              "    </tr>\n",
              "    <tr>\n",
              "      <th>319792</th>\n",
              "      <td>No</td>\n",
              "      <td>24.24</td>\n",
              "      <td>No</td>\n",
              "      <td>No</td>\n",
              "      <td>No</td>\n",
              "      <td>0</td>\n",
              "      <td>0</td>\n",
              "      <td>No</td>\n",
              "      <td>Female</td>\n",
              "      <td>45-49</td>\n",
              "      <td>Hispanic</td>\n",
              "      <td>No</td>\n",
              "      <td>Yes</td>\n",
              "      <td>Good</td>\n",
              "      <td>6</td>\n",
              "      <td>No</td>\n",
              "      <td>No</td>\n",
              "      <td>No</td>\n",
              "    </tr>\n",
              "    <tr>\n",
              "      <th>319793</th>\n",
              "      <td>No</td>\n",
              "      <td>32.81</td>\n",
              "      <td>No</td>\n",
              "      <td>No</td>\n",
              "      <td>No</td>\n",
              "      <td>0</td>\n",
              "      <td>0</td>\n",
              "      <td>No</td>\n",
              "      <td>Female</td>\n",
              "      <td>25-29</td>\n",
              "      <td>Hispanic</td>\n",
              "      <td>No</td>\n",
              "      <td>No</td>\n",
              "      <td>Good</td>\n",
              "      <td>12</td>\n",
              "      <td>No</td>\n",
              "      <td>No</td>\n",
              "      <td>No</td>\n",
              "    </tr>\n",
              "  </tbody>\n",
              "</table>\n",
              "<p>290579 rows × 18 columns</p>\n",
              "</div>\n",
              "      <button class=\"colab-df-convert\" onclick=\"convertToInteractive('df-ad5bfa2c-495c-489c-ae5f-ad0d38918da5')\"\n",
              "              title=\"Convert this dataframe to an interactive table.\"\n",
              "              style=\"display:none;\">\n",
              "        \n",
              "  <svg xmlns=\"http://www.w3.org/2000/svg\" height=\"24px\"viewBox=\"0 0 24 24\"\n",
              "       width=\"24px\">\n",
              "    <path d=\"M0 0h24v24H0V0z\" fill=\"none\"/>\n",
              "    <path d=\"M18.56 5.44l.94 2.06.94-2.06 2.06-.94-2.06-.94-.94-2.06-.94 2.06-2.06.94zm-11 1L8.5 8.5l.94-2.06 2.06-.94-2.06-.94L8.5 2.5l-.94 2.06-2.06.94zm10 10l.94 2.06.94-2.06 2.06-.94-2.06-.94-.94-2.06-.94 2.06-2.06.94z\"/><path d=\"M17.41 7.96l-1.37-1.37c-.4-.4-.92-.59-1.43-.59-.52 0-1.04.2-1.43.59L10.3 9.45l-7.72 7.72c-.78.78-.78 2.05 0 2.83L4 21.41c.39.39.9.59 1.41.59.51 0 1.02-.2 1.41-.59l7.78-7.78 2.81-2.81c.8-.78.8-2.07 0-2.86zM5.41 20L4 18.59l7.72-7.72 1.47 1.35L5.41 20z\"/>\n",
              "  </svg>\n",
              "      </button>\n",
              "      \n",
              "  <style>\n",
              "    .colab-df-container {\n",
              "      display:flex;\n",
              "      flex-wrap:wrap;\n",
              "      gap: 12px;\n",
              "    }\n",
              "\n",
              "    .colab-df-convert {\n",
              "      background-color: #E8F0FE;\n",
              "      border: none;\n",
              "      border-radius: 50%;\n",
              "      cursor: pointer;\n",
              "      display: none;\n",
              "      fill: #1967D2;\n",
              "      height: 32px;\n",
              "      padding: 0 0 0 0;\n",
              "      width: 32px;\n",
              "    }\n",
              "\n",
              "    .colab-df-convert:hover {\n",
              "      background-color: #E2EBFA;\n",
              "      box-shadow: 0px 1px 2px rgba(60, 64, 67, 0.3), 0px 1px 3px 1px rgba(60, 64, 67, 0.15);\n",
              "      fill: #174EA6;\n",
              "    }\n",
              "\n",
              "    [theme=dark] .colab-df-convert {\n",
              "      background-color: #3B4455;\n",
              "      fill: #D2E3FC;\n",
              "    }\n",
              "\n",
              "    [theme=dark] .colab-df-convert:hover {\n",
              "      background-color: #434B5C;\n",
              "      box-shadow: 0px 1px 3px 1px rgba(0, 0, 0, 0.15);\n",
              "      filter: drop-shadow(0px 1px 2px rgba(0, 0, 0, 0.3));\n",
              "      fill: #FFFFFF;\n",
              "    }\n",
              "  </style>\n",
              "\n",
              "      <script>\n",
              "        const buttonEl =\n",
              "          document.querySelector('#df-ad5bfa2c-495c-489c-ae5f-ad0d38918da5 button.colab-df-convert');\n",
              "        buttonEl.style.display =\n",
              "          google.colab.kernel.accessAllowed ? 'block' : 'none';\n",
              "\n",
              "        async function convertToInteractive(key) {\n",
              "          const element = document.querySelector('#df-ad5bfa2c-495c-489c-ae5f-ad0d38918da5');\n",
              "          const dataTable =\n",
              "            await google.colab.kernel.invokeFunction('convertToInteractive',\n",
              "                                                     [key], {});\n",
              "          if (!dataTable) return;\n",
              "\n",
              "          const docLinkHtml = 'Like what you see? Visit the ' +\n",
              "            '<a target=\"_blank\" href=https://colab.research.google.com/notebooks/data_table.ipynb>data table notebook</a>'\n",
              "            + ' to learn more about interactive tables.';\n",
              "          element.innerHTML = '';\n",
              "          dataTable['output_type'] = 'display_data';\n",
              "          await google.colab.output.renderOutput(dataTable, element);\n",
              "          const docLink = document.createElement('div');\n",
              "          docLink.innerHTML = docLinkHtml;\n",
              "          element.appendChild(docLink);\n",
              "        }\n",
              "      </script>\n",
              "    </div>\n",
              "  </div>\n",
              "  "
            ]
          },
          "metadata": {},
          "execution_count": 4
        }
      ]
    },
    {
      "cell_type": "code",
      "source": [
        "# Filtering minimum age from Age Category Column]\n",
        "\n",
        "df['AgeCategory'] = df['AgeCategory'].replace(('80 or older'), ('80-0'))\n",
        "df['AgeCategory']=df['AgeCategory'].str.replace(pat=r'-',repl=' ', regex=False)\n",
        "df['AgeCategory']=df['AgeCategory'].str.split()\n",
        "df['Min AgeCategory'] = df['AgeCategory'].apply(lambda x: x[0])\n",
        "df['AgeCategory'] = df['Min AgeCategory'].astype('int')"
      ],
      "metadata": {
        "id": "2rCRgd2E2z96"
      },
      "execution_count": null,
      "outputs": []
    },
    {
      "cell_type": "code",
      "source": [
        "df['AgeCategory']"
      ],
      "metadata": {
        "colab": {
          "base_uri": "https://localhost:8080/"
        },
        "id": "gt7uh2xN3KSu",
        "outputId": "493d124f-f811-4470-b6fd-e8ff8eab4030"
      },
      "execution_count": null,
      "outputs": [
        {
          "output_type": "execute_result",
          "data": {
            "text/plain": [
              "0         55\n",
              "1         80\n",
              "2         65\n",
              "3         75\n",
              "4         40\n",
              "          ..\n",
              "319789    18\n",
              "319790    60\n",
              "319791    35\n",
              "319792    45\n",
              "319793    25\n",
              "Name: AgeCategory, Length: 308648, dtype: int64"
            ]
          },
          "metadata": {},
          "execution_count": 6
        }
      ]
    },
    {
      "cell_type": "code",
      "source": [
        "df = df.drop(['Min AgeCategory'], axis = 1)"
      ],
      "metadata": {
        "id": "VNmKInXq3Oc3"
      },
      "execution_count": null,
      "outputs": []
    },
    {
      "cell_type": "code",
      "source": [
        "df.head()"
      ],
      "metadata": {
        "colab": {
          "base_uri": "https://localhost:8080/",
          "height": 270
        },
        "id": "KRLoYZo03TAA",
        "outputId": "840ed123-d7b3-4ab8-8afc-1b91feb239ee"
      },
      "execution_count": null,
      "outputs": [
        {
          "output_type": "execute_result",
          "data": {
            "text/plain": [
              "  HeartDisease    BMI Smoking AlcoholDrinking Stroke  PhysicalHealth  \\\n",
              "0           No  16.60     Yes              No     No               3   \n",
              "1           No  20.34      No              No    Yes               0   \n",
              "2           No  26.58     Yes              No     No              20   \n",
              "3           No  24.21      No              No     No               0   \n",
              "4           No  23.71      No              No     No              28   \n",
              "\n",
              "   MentalHealth DiffWalking     Sex  AgeCategory   Race Diabetic  \\\n",
              "0            30          No  Female           55  White      Yes   \n",
              "1             0          No  Female           80  White       No   \n",
              "2            30          No    Male           65  White      Yes   \n",
              "3             0          No  Female           75  White       No   \n",
              "4             0         Yes  Female           40  White       No   \n",
              "\n",
              "  PhysicalActivity  GenHealth  SleepTime Asthma KidneyDisease SkinCancer  \n",
              "0              Yes  Very good          5    Yes            No        Yes  \n",
              "1              Yes  Very good          7     No            No         No  \n",
              "2              Yes       Fair          8    Yes            No         No  \n",
              "3               No       Good          6     No            No        Yes  \n",
              "4              Yes  Very good          8     No            No         No  "
            ],
            "text/html": [
              "\n",
              "  <div id=\"df-3650b717-dd6f-4fcb-9a97-ce20d80ff0f7\">\n",
              "    <div class=\"colab-df-container\">\n",
              "      <div>\n",
              "<style scoped>\n",
              "    .dataframe tbody tr th:only-of-type {\n",
              "        vertical-align: middle;\n",
              "    }\n",
              "\n",
              "    .dataframe tbody tr th {\n",
              "        vertical-align: top;\n",
              "    }\n",
              "\n",
              "    .dataframe thead th {\n",
              "        text-align: right;\n",
              "    }\n",
              "</style>\n",
              "<table border=\"1\" class=\"dataframe\">\n",
              "  <thead>\n",
              "    <tr style=\"text-align: right;\">\n",
              "      <th></th>\n",
              "      <th>HeartDisease</th>\n",
              "      <th>BMI</th>\n",
              "      <th>Smoking</th>\n",
              "      <th>AlcoholDrinking</th>\n",
              "      <th>Stroke</th>\n",
              "      <th>PhysicalHealth</th>\n",
              "      <th>MentalHealth</th>\n",
              "      <th>DiffWalking</th>\n",
              "      <th>Sex</th>\n",
              "      <th>AgeCategory</th>\n",
              "      <th>Race</th>\n",
              "      <th>Diabetic</th>\n",
              "      <th>PhysicalActivity</th>\n",
              "      <th>GenHealth</th>\n",
              "      <th>SleepTime</th>\n",
              "      <th>Asthma</th>\n",
              "      <th>KidneyDisease</th>\n",
              "      <th>SkinCancer</th>\n",
              "    </tr>\n",
              "  </thead>\n",
              "  <tbody>\n",
              "    <tr>\n",
              "      <th>0</th>\n",
              "      <td>No</td>\n",
              "      <td>16.60</td>\n",
              "      <td>Yes</td>\n",
              "      <td>No</td>\n",
              "      <td>No</td>\n",
              "      <td>3</td>\n",
              "      <td>30</td>\n",
              "      <td>No</td>\n",
              "      <td>Female</td>\n",
              "      <td>55</td>\n",
              "      <td>White</td>\n",
              "      <td>Yes</td>\n",
              "      <td>Yes</td>\n",
              "      <td>Very good</td>\n",
              "      <td>5</td>\n",
              "      <td>Yes</td>\n",
              "      <td>No</td>\n",
              "      <td>Yes</td>\n",
              "    </tr>\n",
              "    <tr>\n",
              "      <th>1</th>\n",
              "      <td>No</td>\n",
              "      <td>20.34</td>\n",
              "      <td>No</td>\n",
              "      <td>No</td>\n",
              "      <td>Yes</td>\n",
              "      <td>0</td>\n",
              "      <td>0</td>\n",
              "      <td>No</td>\n",
              "      <td>Female</td>\n",
              "      <td>80</td>\n",
              "      <td>White</td>\n",
              "      <td>No</td>\n",
              "      <td>Yes</td>\n",
              "      <td>Very good</td>\n",
              "      <td>7</td>\n",
              "      <td>No</td>\n",
              "      <td>No</td>\n",
              "      <td>No</td>\n",
              "    </tr>\n",
              "    <tr>\n",
              "      <th>2</th>\n",
              "      <td>No</td>\n",
              "      <td>26.58</td>\n",
              "      <td>Yes</td>\n",
              "      <td>No</td>\n",
              "      <td>No</td>\n",
              "      <td>20</td>\n",
              "      <td>30</td>\n",
              "      <td>No</td>\n",
              "      <td>Male</td>\n",
              "      <td>65</td>\n",
              "      <td>White</td>\n",
              "      <td>Yes</td>\n",
              "      <td>Yes</td>\n",
              "      <td>Fair</td>\n",
              "      <td>8</td>\n",
              "      <td>Yes</td>\n",
              "      <td>No</td>\n",
              "      <td>No</td>\n",
              "    </tr>\n",
              "    <tr>\n",
              "      <th>3</th>\n",
              "      <td>No</td>\n",
              "      <td>24.21</td>\n",
              "      <td>No</td>\n",
              "      <td>No</td>\n",
              "      <td>No</td>\n",
              "      <td>0</td>\n",
              "      <td>0</td>\n",
              "      <td>No</td>\n",
              "      <td>Female</td>\n",
              "      <td>75</td>\n",
              "      <td>White</td>\n",
              "      <td>No</td>\n",
              "      <td>No</td>\n",
              "      <td>Good</td>\n",
              "      <td>6</td>\n",
              "      <td>No</td>\n",
              "      <td>No</td>\n",
              "      <td>Yes</td>\n",
              "    </tr>\n",
              "    <tr>\n",
              "      <th>4</th>\n",
              "      <td>No</td>\n",
              "      <td>23.71</td>\n",
              "      <td>No</td>\n",
              "      <td>No</td>\n",
              "      <td>No</td>\n",
              "      <td>28</td>\n",
              "      <td>0</td>\n",
              "      <td>Yes</td>\n",
              "      <td>Female</td>\n",
              "      <td>40</td>\n",
              "      <td>White</td>\n",
              "      <td>No</td>\n",
              "      <td>Yes</td>\n",
              "      <td>Very good</td>\n",
              "      <td>8</td>\n",
              "      <td>No</td>\n",
              "      <td>No</td>\n",
              "      <td>No</td>\n",
              "    </tr>\n",
              "  </tbody>\n",
              "</table>\n",
              "</div>\n",
              "      <button class=\"colab-df-convert\" onclick=\"convertToInteractive('df-3650b717-dd6f-4fcb-9a97-ce20d80ff0f7')\"\n",
              "              title=\"Convert this dataframe to an interactive table.\"\n",
              "              style=\"display:none;\">\n",
              "        \n",
              "  <svg xmlns=\"http://www.w3.org/2000/svg\" height=\"24px\"viewBox=\"0 0 24 24\"\n",
              "       width=\"24px\">\n",
              "    <path d=\"M0 0h24v24H0V0z\" fill=\"none\"/>\n",
              "    <path d=\"M18.56 5.44l.94 2.06.94-2.06 2.06-.94-2.06-.94-.94-2.06-.94 2.06-2.06.94zm-11 1L8.5 8.5l.94-2.06 2.06-.94-2.06-.94L8.5 2.5l-.94 2.06-2.06.94zm10 10l.94 2.06.94-2.06 2.06-.94-2.06-.94-.94-2.06-.94 2.06-2.06.94z\"/><path d=\"M17.41 7.96l-1.37-1.37c-.4-.4-.92-.59-1.43-.59-.52 0-1.04.2-1.43.59L10.3 9.45l-7.72 7.72c-.78.78-.78 2.05 0 2.83L4 21.41c.39.39.9.59 1.41.59.51 0 1.02-.2 1.41-.59l7.78-7.78 2.81-2.81c.8-.78.8-2.07 0-2.86zM5.41 20L4 18.59l7.72-7.72 1.47 1.35L5.41 20z\"/>\n",
              "  </svg>\n",
              "      </button>\n",
              "      \n",
              "  <style>\n",
              "    .colab-df-container {\n",
              "      display:flex;\n",
              "      flex-wrap:wrap;\n",
              "      gap: 12px;\n",
              "    }\n",
              "\n",
              "    .colab-df-convert {\n",
              "      background-color: #E8F0FE;\n",
              "      border: none;\n",
              "      border-radius: 50%;\n",
              "      cursor: pointer;\n",
              "      display: none;\n",
              "      fill: #1967D2;\n",
              "      height: 32px;\n",
              "      padding: 0 0 0 0;\n",
              "      width: 32px;\n",
              "    }\n",
              "\n",
              "    .colab-df-convert:hover {\n",
              "      background-color: #E2EBFA;\n",
              "      box-shadow: 0px 1px 2px rgba(60, 64, 67, 0.3), 0px 1px 3px 1px rgba(60, 64, 67, 0.15);\n",
              "      fill: #174EA6;\n",
              "    }\n",
              "\n",
              "    [theme=dark] .colab-df-convert {\n",
              "      background-color: #3B4455;\n",
              "      fill: #D2E3FC;\n",
              "    }\n",
              "\n",
              "    [theme=dark] .colab-df-convert:hover {\n",
              "      background-color: #434B5C;\n",
              "      box-shadow: 0px 1px 3px 1px rgba(0, 0, 0, 0.15);\n",
              "      filter: drop-shadow(0px 1px 2px rgba(0, 0, 0, 0.3));\n",
              "      fill: #FFFFFF;\n",
              "    }\n",
              "  </style>\n",
              "\n",
              "      <script>\n",
              "        const buttonEl =\n",
              "          document.querySelector('#df-3650b717-dd6f-4fcb-9a97-ce20d80ff0f7 button.colab-df-convert');\n",
              "        buttonEl.style.display =\n",
              "          google.colab.kernel.accessAllowed ? 'block' : 'none';\n",
              "\n",
              "        async function convertToInteractive(key) {\n",
              "          const element = document.querySelector('#df-3650b717-dd6f-4fcb-9a97-ce20d80ff0f7');\n",
              "          const dataTable =\n",
              "            await google.colab.kernel.invokeFunction('convertToInteractive',\n",
              "                                                     [key], {});\n",
              "          if (!dataTable) return;\n",
              "\n",
              "          const docLinkHtml = 'Like what you see? Visit the ' +\n",
              "            '<a target=\"_blank\" href=https://colab.research.google.com/notebooks/data_table.ipynb>data table notebook</a>'\n",
              "            + ' to learn more about interactive tables.';\n",
              "          element.innerHTML = '';\n",
              "          dataTable['output_type'] = 'display_data';\n",
              "          await google.colab.output.renderOutput(dataTable, element);\n",
              "          const docLink = document.createElement('div');\n",
              "          docLink.innerHTML = docLinkHtml;\n",
              "          element.appendChild(docLink);\n",
              "        }\n",
              "      </script>\n",
              "    </div>\n",
              "  </div>\n",
              "  "
            ]
          },
          "metadata": {},
          "execution_count": 13
        }
      ]
    },
    {
      "cell_type": "markdown",
      "source": [
        "**2. Data Processing**\n",
        "\n",
        "---\n",
        "\n"
      ],
      "metadata": {
        "id": "BULSEKIxQED-"
      }
    },
    {
      "cell_type": "code",
      "source": [
        "# Encoding using Label Encoder\n",
        "from sklearn.preprocessing import LabelEncoder\n",
        "le = LabelEncoder()"
      ],
      "metadata": {
        "id": "-hmYDq5C3vLl"
      },
      "execution_count": null,
      "outputs": []
    },
    {
      "cell_type": "code",
      "source": [
        "for i in df.columns:\n",
        "  if df[i].dtype == 'object':\n",
        "    df[i] = le.fit_transform(df[i])"
      ],
      "metadata": {
        "id": "1RAqgYMj311d"
      },
      "execution_count": null,
      "outputs": []
    },
    {
      "cell_type": "code",
      "source": [
        "df.head()"
      ],
      "metadata": {
        "colab": {
          "base_uri": "https://localhost:8080/",
          "height": 270
        },
        "id": "h--M_5q234i_",
        "outputId": "9c7eafd6-05d4-4393-92e9-b901aa9d5a04"
      },
      "execution_count": null,
      "outputs": [
        {
          "output_type": "execute_result",
          "data": {
            "text/plain": [
              "   HeartDisease    BMI  Smoking  AlcoholDrinking  Stroke  PhysicalHealth  \\\n",
              "0             0  16.60        1                0       0               3   \n",
              "1             0  20.34        0                0       1               0   \n",
              "2             0  26.58        1                0       0              20   \n",
              "3             0  24.21        0                0       0               0   \n",
              "4             0  23.71        0                0       0              28   \n",
              "\n",
              "   MentalHealth  DiffWalking  Sex  AgeCategory  Race  Diabetic  \\\n",
              "0            30            0    0           55     5         2   \n",
              "1             0            0    0           80     5         0   \n",
              "2            30            0    1           65     5         2   \n",
              "3             0            0    0           75     5         0   \n",
              "4             0            1    0           40     5         0   \n",
              "\n",
              "   PhysicalActivity  GenHealth  SleepTime  Asthma  KidneyDisease  SkinCancer  \n",
              "0                 1          4          5       1              0           1  \n",
              "1                 1          4          7       0              0           0  \n",
              "2                 1          1          8       1              0           0  \n",
              "3                 0          2          6       0              0           1  \n",
              "4                 1          4          8       0              0           0  "
            ],
            "text/html": [
              "\n",
              "  <div id=\"df-a57d69fa-540f-4d12-a673-417549b02fa4\">\n",
              "    <div class=\"colab-df-container\">\n",
              "      <div>\n",
              "<style scoped>\n",
              "    .dataframe tbody tr th:only-of-type {\n",
              "        vertical-align: middle;\n",
              "    }\n",
              "\n",
              "    .dataframe tbody tr th {\n",
              "        vertical-align: top;\n",
              "    }\n",
              "\n",
              "    .dataframe thead th {\n",
              "        text-align: right;\n",
              "    }\n",
              "</style>\n",
              "<table border=\"1\" class=\"dataframe\">\n",
              "  <thead>\n",
              "    <tr style=\"text-align: right;\">\n",
              "      <th></th>\n",
              "      <th>HeartDisease</th>\n",
              "      <th>BMI</th>\n",
              "      <th>Smoking</th>\n",
              "      <th>AlcoholDrinking</th>\n",
              "      <th>Stroke</th>\n",
              "      <th>PhysicalHealth</th>\n",
              "      <th>MentalHealth</th>\n",
              "      <th>DiffWalking</th>\n",
              "      <th>Sex</th>\n",
              "      <th>AgeCategory</th>\n",
              "      <th>Race</th>\n",
              "      <th>Diabetic</th>\n",
              "      <th>PhysicalActivity</th>\n",
              "      <th>GenHealth</th>\n",
              "      <th>SleepTime</th>\n",
              "      <th>Asthma</th>\n",
              "      <th>KidneyDisease</th>\n",
              "      <th>SkinCancer</th>\n",
              "    </tr>\n",
              "  </thead>\n",
              "  <tbody>\n",
              "    <tr>\n",
              "      <th>0</th>\n",
              "      <td>0</td>\n",
              "      <td>16.60</td>\n",
              "      <td>1</td>\n",
              "      <td>0</td>\n",
              "      <td>0</td>\n",
              "      <td>3</td>\n",
              "      <td>30</td>\n",
              "      <td>0</td>\n",
              "      <td>0</td>\n",
              "      <td>55</td>\n",
              "      <td>5</td>\n",
              "      <td>2</td>\n",
              "      <td>1</td>\n",
              "      <td>4</td>\n",
              "      <td>5</td>\n",
              "      <td>1</td>\n",
              "      <td>0</td>\n",
              "      <td>1</td>\n",
              "    </tr>\n",
              "    <tr>\n",
              "      <th>1</th>\n",
              "      <td>0</td>\n",
              "      <td>20.34</td>\n",
              "      <td>0</td>\n",
              "      <td>0</td>\n",
              "      <td>1</td>\n",
              "      <td>0</td>\n",
              "      <td>0</td>\n",
              "      <td>0</td>\n",
              "      <td>0</td>\n",
              "      <td>80</td>\n",
              "      <td>5</td>\n",
              "      <td>0</td>\n",
              "      <td>1</td>\n",
              "      <td>4</td>\n",
              "      <td>7</td>\n",
              "      <td>0</td>\n",
              "      <td>0</td>\n",
              "      <td>0</td>\n",
              "    </tr>\n",
              "    <tr>\n",
              "      <th>2</th>\n",
              "      <td>0</td>\n",
              "      <td>26.58</td>\n",
              "      <td>1</td>\n",
              "      <td>0</td>\n",
              "      <td>0</td>\n",
              "      <td>20</td>\n",
              "      <td>30</td>\n",
              "      <td>0</td>\n",
              "      <td>1</td>\n",
              "      <td>65</td>\n",
              "      <td>5</td>\n",
              "      <td>2</td>\n",
              "      <td>1</td>\n",
              "      <td>1</td>\n",
              "      <td>8</td>\n",
              "      <td>1</td>\n",
              "      <td>0</td>\n",
              "      <td>0</td>\n",
              "    </tr>\n",
              "    <tr>\n",
              "      <th>3</th>\n",
              "      <td>0</td>\n",
              "      <td>24.21</td>\n",
              "      <td>0</td>\n",
              "      <td>0</td>\n",
              "      <td>0</td>\n",
              "      <td>0</td>\n",
              "      <td>0</td>\n",
              "      <td>0</td>\n",
              "      <td>0</td>\n",
              "      <td>75</td>\n",
              "      <td>5</td>\n",
              "      <td>0</td>\n",
              "      <td>0</td>\n",
              "      <td>2</td>\n",
              "      <td>6</td>\n",
              "      <td>0</td>\n",
              "      <td>0</td>\n",
              "      <td>1</td>\n",
              "    </tr>\n",
              "    <tr>\n",
              "      <th>4</th>\n",
              "      <td>0</td>\n",
              "      <td>23.71</td>\n",
              "      <td>0</td>\n",
              "      <td>0</td>\n",
              "      <td>0</td>\n",
              "      <td>28</td>\n",
              "      <td>0</td>\n",
              "      <td>1</td>\n",
              "      <td>0</td>\n",
              "      <td>40</td>\n",
              "      <td>5</td>\n",
              "      <td>0</td>\n",
              "      <td>1</td>\n",
              "      <td>4</td>\n",
              "      <td>8</td>\n",
              "      <td>0</td>\n",
              "      <td>0</td>\n",
              "      <td>0</td>\n",
              "    </tr>\n",
              "  </tbody>\n",
              "</table>\n",
              "</div>\n",
              "      <button class=\"colab-df-convert\" onclick=\"convertToInteractive('df-a57d69fa-540f-4d12-a673-417549b02fa4')\"\n",
              "              title=\"Convert this dataframe to an interactive table.\"\n",
              "              style=\"display:none;\">\n",
              "        \n",
              "  <svg xmlns=\"http://www.w3.org/2000/svg\" height=\"24px\"viewBox=\"0 0 24 24\"\n",
              "       width=\"24px\">\n",
              "    <path d=\"M0 0h24v24H0V0z\" fill=\"none\"/>\n",
              "    <path d=\"M18.56 5.44l.94 2.06.94-2.06 2.06-.94-2.06-.94-.94-2.06-.94 2.06-2.06.94zm-11 1L8.5 8.5l.94-2.06 2.06-.94-2.06-.94L8.5 2.5l-.94 2.06-2.06.94zm10 10l.94 2.06.94-2.06 2.06-.94-2.06-.94-.94-2.06-.94 2.06-2.06.94z\"/><path d=\"M17.41 7.96l-1.37-1.37c-.4-.4-.92-.59-1.43-.59-.52 0-1.04.2-1.43.59L10.3 9.45l-7.72 7.72c-.78.78-.78 2.05 0 2.83L4 21.41c.39.39.9.59 1.41.59.51 0 1.02-.2 1.41-.59l7.78-7.78 2.81-2.81c.8-.78.8-2.07 0-2.86zM5.41 20L4 18.59l7.72-7.72 1.47 1.35L5.41 20z\"/>\n",
              "  </svg>\n",
              "      </button>\n",
              "      \n",
              "  <style>\n",
              "    .colab-df-container {\n",
              "      display:flex;\n",
              "      flex-wrap:wrap;\n",
              "      gap: 12px;\n",
              "    }\n",
              "\n",
              "    .colab-df-convert {\n",
              "      background-color: #E8F0FE;\n",
              "      border: none;\n",
              "      border-radius: 50%;\n",
              "      cursor: pointer;\n",
              "      display: none;\n",
              "      fill: #1967D2;\n",
              "      height: 32px;\n",
              "      padding: 0 0 0 0;\n",
              "      width: 32px;\n",
              "    }\n",
              "\n",
              "    .colab-df-convert:hover {\n",
              "      background-color: #E2EBFA;\n",
              "      box-shadow: 0px 1px 2px rgba(60, 64, 67, 0.3), 0px 1px 3px 1px rgba(60, 64, 67, 0.15);\n",
              "      fill: #174EA6;\n",
              "    }\n",
              "\n",
              "    [theme=dark] .colab-df-convert {\n",
              "      background-color: #3B4455;\n",
              "      fill: #D2E3FC;\n",
              "    }\n",
              "\n",
              "    [theme=dark] .colab-df-convert:hover {\n",
              "      background-color: #434B5C;\n",
              "      box-shadow: 0px 1px 3px 1px rgba(0, 0, 0, 0.15);\n",
              "      filter: drop-shadow(0px 1px 2px rgba(0, 0, 0, 0.3));\n",
              "      fill: #FFFFFF;\n",
              "    }\n",
              "  </style>\n",
              "\n",
              "      <script>\n",
              "        const buttonEl =\n",
              "          document.querySelector('#df-a57d69fa-540f-4d12-a673-417549b02fa4 button.colab-df-convert');\n",
              "        buttonEl.style.display =\n",
              "          google.colab.kernel.accessAllowed ? 'block' : 'none';\n",
              "\n",
              "        async function convertToInteractive(key) {\n",
              "          const element = document.querySelector('#df-a57d69fa-540f-4d12-a673-417549b02fa4');\n",
              "          const dataTable =\n",
              "            await google.colab.kernel.invokeFunction('convertToInteractive',\n",
              "                                                     [key], {});\n",
              "          if (!dataTable) return;\n",
              "\n",
              "          const docLinkHtml = 'Like what you see? Visit the ' +\n",
              "            '<a target=\"_blank\" href=https://colab.research.google.com/notebooks/data_table.ipynb>data table notebook</a>'\n",
              "            + ' to learn more about interactive tables.';\n",
              "          element.innerHTML = '';\n",
              "          dataTable['output_type'] = 'display_data';\n",
              "          await google.colab.output.renderOutput(dataTable, element);\n",
              "          const docLink = document.createElement('div');\n",
              "          docLink.innerHTML = docLinkHtml;\n",
              "          element.appendChild(docLink);\n",
              "        }\n",
              "      </script>\n",
              "    </div>\n",
              "  </div>\n",
              "  "
            ]
          },
          "metadata": {},
          "execution_count": 16
        }
      ]
    },
    {
      "cell_type": "code",
      "source": [
        "# separating test, target attribute\n",
        "x = df.drop('HeartDisease', axis = 1)\n",
        "y = df['HeartDisease']"
      ],
      "metadata": {
        "id": "sS-mBNrV62cL"
      },
      "execution_count": null,
      "outputs": []
    },
    {
      "cell_type": "code",
      "source": [
        "# Under Sampling Using Near Miss\n",
        "from imblearn.under_sampling import NearMiss\n",
        "nrms = NearMiss()"
      ],
      "metadata": {
        "id": "qLgkx8Ug4EV5"
      },
      "execution_count": null,
      "outputs": []
    },
    {
      "cell_type": "code",
      "source": [
        "X, Y = nrms.fit_resample(x, y) # resampling Data"
      ],
      "metadata": {
        "id": "7KReYVcr4FgL"
      },
      "execution_count": null,
      "outputs": []
    },
    {
      "cell_type": "code",
      "source": [
        "Y.value_counts() # Data resampled"
      ],
      "metadata": {
        "colab": {
          "base_uri": "https://localhost:8080/"
        },
        "id": "WQ8oLOCJ4mZs",
        "outputId": "1d5509c0-fa9f-40a6-9957-1f400fab1980"
      },
      "execution_count": null,
      "outputs": [
        {
          "output_type": "execute_result",
          "data": {
            "text/plain": [
              "0    26102\n",
              "1    26102\n",
              "Name: HeartDisease, dtype: int64"
            ]
          },
          "metadata": {},
          "execution_count": 13
        }
      ]
    },
    {
      "cell_type": "code",
      "source": [
        "# Separating Training and testing data set\n",
        "\n",
        "from sklearn.model_selection import train_test_split\n",
        "xtrain, xtest, ytrain, ytest = train_test_split(X, Y, train_size=.70, random_state=42)"
      ],
      "metadata": {
        "id": "81tzI9a79F-B"
      },
      "execution_count": null,
      "outputs": []
    },
    {
      "cell_type": "code",
      "source": [
        "xtest.shape"
      ],
      "metadata": {
        "colab": {
          "base_uri": "https://localhost:8080/"
        },
        "id": "_wnwfVzC9rGO",
        "outputId": "0b50cedc-84ac-4238-ee58-ac5d94b3602a"
      },
      "execution_count": null,
      "outputs": [
        {
          "output_type": "execute_result",
          "data": {
            "text/plain": [
              "(15662, 17)"
            ]
          },
          "metadata": {},
          "execution_count": 22
        }
      ]
    },
    {
      "cell_type": "markdown",
      "source": [
        "**3. Checking best parameter** \n",
        "\n",
        "---\n",
        "\n"
      ],
      "metadata": {
        "id": "d57gsGKpX2V5"
      }
    },
    {
      "cell_type": "code",
      "source": [
        "\n",
        "from sklearn.tree import DecisionTreeClassifier \n",
        "model = DecisionTreeClassifier() # creating model object\n",
        "# model.fit(xtrain, ytrain)"
      ],
      "metadata": {
        "id": "U33CQneV9wK-"
      },
      "execution_count": null,
      "outputs": []
    },
    {
      "cell_type": "code",
      "source": [
        "pruning_path = model.cost_complexity_pruning_path(xtrain, ytrain) # storing cost complexity\n",
        "ccp_alpha_values, impurity_values = pruning_path.ccp_alphas, pruning_path.impurities # storing ccp alpha and imurity values"
      ],
      "metadata": {
        "id": "sbOrXDnGlHHi"
      },
      "execution_count": null,
      "outputs": []
    },
    {
      "cell_type": "code",
      "source": [
        "ccp_alpha_values"
      ],
      "metadata": {
        "colab": {
          "base_uri": "https://localhost:8080/"
        },
        "id": "6vtPUsVelM3u",
        "outputId": "302cd9df-595e-47ad-bb59-e51964d895cb"
      },
      "execution_count": null,
      "outputs": [
        {
          "output_type": "execute_result",
          "data": {
            "text/plain": [
              "array([0.        , 0.        , 0.        , ..., 0.0374749 , 0.04378193,\n",
              "       0.14816915])"
            ]
          },
          "metadata": {},
          "execution_count": 25
        }
      ]
    },
    {
      "cell_type": "code",
      "source": [
        "impurity_values"
      ],
      "metadata": {
        "colab": {
          "base_uri": "https://localhost:8080/"
        },
        "id": "rQobCE9ilSM-",
        "outputId": "80216afe-b5db-4520-fe96-945be7a57fb9"
      },
      "execution_count": null,
      "outputs": [
        {
          "output_type": "execute_result",
          "data": {
            "text/plain": [
              "array([0.01962964, 0.01962964, 0.01962964, ..., 0.30804719, 0.35182912,\n",
              "       0.49999827])"
            ]
          },
          "metadata": {},
          "execution_count": 26
        }
      ]
    },
    {
      "cell_type": "code",
      "source": [
        "ccp_alpha_values.shape"
      ],
      "metadata": {
        "colab": {
          "base_uri": "https://localhost:8080/"
        },
        "id": "ZNLy6XT8n2mu",
        "outputId": "4fad49b8-6074-4333-db43-b67b399f6d60"
      },
      "execution_count": null,
      "outputs": [
        {
          "output_type": "execute_result",
          "data": {
            "text/plain": [
              "(2340,)"
            ]
          },
          "metadata": {},
          "execution_count": 27
        }
      ]
    },
    {
      "cell_type": "code",
      "source": [
        "clfs_list = []  # save diffrent classifiers\n",
        "\n",
        "for x in ccp_alpha_values:\n",
        "    clf = DecisionTreeClassifier(random_state=42, ccp_alpha=x)\n",
        "    clf.fit(xtrain, ytrain)\n",
        "    clfs_list.append(clf)"
      ],
      "metadata": {
        "id": "ofO52mwHlaeX"
      },
      "execution_count": null,
      "outputs": []
    },
    {
      "cell_type": "code",
      "source": [
        "clfs_list"
      ],
      "metadata": {
        "colab": {
          "base_uri": "https://localhost:8080/"
        },
        "id": "qiJl2FE6ljvY",
        "outputId": "723f26b4-cee7-4693-9a5d-4f9191423639"
      },
      "execution_count": null,
      "outputs": [
        {
          "output_type": "execute_result",
          "data": {
            "text/plain": [
              "[DecisionTreeClassifier(random_state=42),\n",
              " DecisionTreeClassifier(random_state=42),\n",
              " DecisionTreeClassifier(random_state=42),\n",
              " DecisionTreeClassifier(random_state=42),\n",
              " DecisionTreeClassifier(random_state=42),\n",
              " DecisionTreeClassifier(random_state=42),\n",
              " DecisionTreeClassifier(random_state=42),\n",
              " DecisionTreeClassifier(random_state=42),\n",
              " DecisionTreeClassifier(random_state=42),\n",
              " DecisionTreeClassifier(random_state=42),\n",
              " DecisionTreeClassifier(random_state=42),\n",
              " DecisionTreeClassifier(random_state=42),\n",
              " DecisionTreeClassifier(random_state=42),\n",
              " DecisionTreeClassifier(random_state=42),\n",
              " DecisionTreeClassifier(random_state=42),\n",
              " DecisionTreeClassifier(random_state=42),\n",
              " DecisionTreeClassifier(random_state=42),\n",
              " DecisionTreeClassifier(random_state=42),\n",
              " DecisionTreeClassifier(random_state=42),\n",
              " DecisionTreeClassifier(random_state=42),\n",
              " DecisionTreeClassifier(random_state=42),\n",
              " DecisionTreeClassifier(ccp_alpha=5.212527789288961e-07, random_state=42),\n",
              " DecisionTreeClassifier(ccp_alpha=9.121923631255039e-07, random_state=42),\n",
              " DecisionTreeClassifier(ccp_alpha=9.472766847842178e-07, random_state=42),\n",
              " DecisionTreeClassifier(ccp_alpha=1.1056877128794453e-06, random_state=42),\n",
              " DecisionTreeClassifier(ccp_alpha=1.2028910282974297e-06, random_state=42),\n",
              " DecisionTreeClassifier(ccp_alpha=1.3031319473221997e-06, random_state=42),\n",
              " DecisionTreeClassifier(ccp_alpha=1.3031319473221997e-06, random_state=42),\n",
              " DecisionTreeClassifier(ccp_alpha=1.3031319473221997e-06, random_state=42),\n",
              " DecisionTreeClassifier(ccp_alpha=1.3031319473221997e-06, random_state=42),\n",
              " DecisionTreeClassifier(ccp_alpha=1.3031319473221997e-06, random_state=42),\n",
              " DecisionTreeClassifier(ccp_alpha=1.3031319473221997e-06, random_state=42),\n",
              " DecisionTreeClassifier(ccp_alpha=1.3031319473221997e-06, random_state=42),\n",
              " DecisionTreeClassifier(ccp_alpha=1.3031319473221997e-06, random_state=42),\n",
              " DecisionTreeClassifier(ccp_alpha=1.3931665182280818e-06, random_state=42),\n",
              " DecisionTreeClassifier(ccp_alpha=1.5637583367866444e-06, random_state=42),\n",
              " DecisionTreeClassifier(ccp_alpha=1.5637583367866444e-06, random_state=42),\n",
              " DecisionTreeClassifier(ccp_alpha=1.737509263096246e-06, random_state=42),\n",
              " DecisionTreeClassifier(ccp_alpha=1.737509263096246e-06, random_state=42),\n",
              " DecisionTreeClassifier(ccp_alpha=1.737509263096246e-06, random_state=42),\n",
              " DecisionTreeClassifier(ccp_alpha=1.737509263096246e-06, random_state=42),\n",
              " DecisionTreeClassifier(ccp_alpha=1.824384726251062e-06, random_state=42),\n",
              " DecisionTreeClassifier(ccp_alpha=1.824384726251062e-06, random_state=42),\n",
              " DecisionTreeClassifier(ccp_alpha=1.824384726251062e-06, random_state=42),\n",
              " DecisionTreeClassifier(ccp_alpha=1.824384726251062e-06, random_state=42),\n",
              " DecisionTreeClassifier(ccp_alpha=1.824384726251062e-06, random_state=42),\n",
              " DecisionTreeClassifier(ccp_alpha=1.824384726251062e-06, random_state=42),\n",
              " DecisionTreeClassifier(ccp_alpha=1.824384726251062e-06, random_state=42),\n",
              " DecisionTreeClassifier(ccp_alpha=1.824384726251062e-06, random_state=42),\n",
              " DecisionTreeClassifier(ccp_alpha=1.824384726251062e-06, random_state=42),\n",
              " DecisionTreeClassifier(ccp_alpha=1.824384726251062e-06, random_state=42),\n",
              " DecisionTreeClassifier(ccp_alpha=1.824384726251062e-06, random_state=42),\n",
              " DecisionTreeClassifier(ccp_alpha=1.824384726251089e-06, random_state=42),\n",
              " DecisionTreeClassifier(ccp_alpha=1.824384726251089e-06, random_state=42),\n",
              " DecisionTreeClassifier(ccp_alpha=1.824384726251089e-06, random_state=42),\n",
              " DecisionTreeClassifier(ccp_alpha=1.824384726251089e-06, random_state=42),\n",
              " DecisionTreeClassifier(ccp_alpha=1.824384726251089e-06, random_state=42),\n",
              " DecisionTreeClassifier(ccp_alpha=1.824384726251089e-06, random_state=42),\n",
              " DecisionTreeClassifier(ccp_alpha=1.824384726251089e-06, random_state=42),\n",
              " DecisionTreeClassifier(ccp_alpha=1.9546979209832928e-06, random_state=42),\n",
              " DecisionTreeClassifier(ccp_alpha=1.954697920983294e-06, random_state=42),\n",
              " DecisionTreeClassifier(ccp_alpha=2.2804809078138342e-06, random_state=42),\n",
              " DecisionTreeClassifier(ccp_alpha=2.2804809078138342e-06, random_state=42),\n",
              " DecisionTreeClassifier(ccp_alpha=2.2804809078138342e-06, random_state=42),\n",
              " DecisionTreeClassifier(ccp_alpha=2.280480907813841e-06, random_state=42),\n",
              " DecisionTreeClassifier(ccp_alpha=2.280480907813841e-06, random_state=42),\n",
              " DecisionTreeClassifier(ccp_alpha=2.3456375051799513e-06, random_state=42),\n",
              " DecisionTreeClassifier(ccp_alpha=2.3456375051799513e-06, random_state=42),\n",
              " DecisionTreeClassifier(ccp_alpha=2.4325129683347674e-06, random_state=42),\n",
              " DecisionTreeClassifier(ccp_alpha=2.5248181479367496e-06, random_state=42),\n",
              " DecisionTreeClassifier(ccp_alpha=2.606263894644386e-06, random_state=42),\n",
              " DecisionTreeClassifier(ccp_alpha=2.648866285229886e-06, random_state=42),\n",
              " DecisionTreeClassifier(ccp_alpha=2.6951138001436186e-06, random_state=42),\n",
              " DecisionTreeClassifier(ccp_alpha=2.736577089376593e-06, random_state=42),\n",
              " DecisionTreeClassifier(ccp_alpha=2.736577089376593e-06, random_state=42),\n",
              " DecisionTreeClassifier(ccp_alpha=2.736577089376593e-06, random_state=42),\n",
              " DecisionTreeClassifier(ccp_alpha=2.736577089376593e-06, random_state=42),\n",
              " DecisionTreeClassifier(ccp_alpha=2.736577089376593e-06, random_state=42),\n",
              " DecisionTreeClassifier(ccp_alpha=2.736577089376593e-06, random_state=42),\n",
              " DecisionTreeClassifier(ccp_alpha=2.736577089376593e-06, random_state=42),\n",
              " DecisionTreeClassifier(ccp_alpha=2.736577089376593e-06, random_state=42),\n",
              " DecisionTreeClassifier(ccp_alpha=2.736577089376593e-06, random_state=42),\n",
              " DecisionTreeClassifier(ccp_alpha=2.736577089376593e-06, random_state=42),\n",
              " DecisionTreeClassifier(ccp_alpha=2.736577089376593e-06, random_state=42),\n",
              " DecisionTreeClassifier(ccp_alpha=2.73657708937662e-06, random_state=42),\n",
              " DecisionTreeClassifier(ccp_alpha=2.850601134767298e-06, random_state=42),\n",
              " DecisionTreeClassifier(ccp_alpha=2.9853568247744934e-06, random_state=42),\n",
              " DecisionTreeClassifier(ccp_alpha=3.019671271036247e-06, random_state=42),\n",
              " DecisionTreeClassifier(ccp_alpha=3.0406412104184545e-06, random_state=42),\n",
              " DecisionTreeClassifier(ccp_alpha=3.1275166735732888e-06, random_state=42),\n",
              " DecisionTreeClassifier(ccp_alpha=3.1275166735732888e-06, random_state=42),\n",
              " DecisionTreeClassifier(ccp_alpha=3.1275166735732888e-06, random_state=42),\n",
              " DecisionTreeClassifier(ccp_alpha=3.1926732709393652e-06, random_state=42),\n",
              " DecisionTreeClassifier(ccp_alpha=3.2341365601723553e-06, random_state=42),\n",
              " DecisionTreeClassifier(ccp_alpha=3.275158750583722e-06, random_state=42),\n",
              " DecisionTreeClassifier(ccp_alpha=3.371145689811769e-06, random_state=42),\n",
              " DecisionTreeClassifier(ccp_alpha=3.4583117063550642e-06, random_state=42),\n",
              " DecisionTreeClassifier(ccp_alpha=3.475018526192492e-06, random_state=42),\n",
              " DecisionTreeClassifier(ccp_alpha=3.475018526192521e-06, random_state=42),\n",
              " DecisionTreeClassifier(ccp_alpha=3.535629314440063e-06, random_state=42),\n",
              " DecisionTreeClassifier(ccp_alpha=3.583998397132275e-06, random_state=42),\n",
              " DecisionTreeClassifier(ccp_alpha=3.5858596343555003e-06, random_state=42),\n",
              " DecisionTreeClassifier(ccp_alpha=3.608673084892201e-06, random_state=42),\n",
              " DecisionTreeClassifier(ccp_alpha=3.6487694525021104e-06, random_state=42),\n",
              " DecisionTreeClassifier(ccp_alpha=3.6487694525021375e-06, random_state=42),\n",
              " DecisionTreeClassifier(ccp_alpha=3.6487694525021375e-06, random_state=42),\n",
              " DecisionTreeClassifier(ccp_alpha=3.6487694525021375e-06, random_state=42),\n",
              " DecisionTreeClassifier(ccp_alpha=3.6487694525021375e-06, random_state=42),\n",
              " DecisionTreeClassifier(ccp_alpha=3.648769452502178e-06, random_state=42),\n",
              " DecisionTreeClassifier(ccp_alpha=3.65122819202533e-06, random_state=42),\n",
              " DecisionTreeClassifier(ccp_alpha=3.840809950002264e-06, random_state=42),\n",
              " DecisionTreeClassifier(ccp_alpha=3.85927538245419e-06, random_state=42),\n",
              " DecisionTreeClassifier(ccp_alpha=3.876817543283527e-06, random_state=42),\n",
              " DecisionTreeClassifier(ccp_alpha=3.9093958419665856e-06, random_state=42),\n",
              " DecisionTreeClassifier(ccp_alpha=4.019238381587615e-06, random_state=42),\n",
              " DecisionTreeClassifier(ccp_alpha=4.054188280557936e-06, random_state=42),\n",
              " DecisionTreeClassifier(ccp_alpha=4.1048656340649165e-06, random_state=42),\n",
              " DecisionTreeClassifier(ccp_alpha=4.104865634064923e-06, random_state=42),\n",
              " DecisionTreeClassifier(ccp_alpha=4.104865634064923e-06, random_state=42),\n",
              " DecisionTreeClassifier(ccp_alpha=4.11515351785956e-06, random_state=42),\n",
              " DecisionTreeClassifier(ccp_alpha=4.142924072093938e-06, random_state=42),\n",
              " DecisionTreeClassifier(ccp_alpha=4.1608774458357755e-06, random_state=42),\n",
              " DecisionTreeClassifier(ccp_alpha=4.196084870377471e-06, random_state=42),\n",
              " DecisionTreeClassifier(ccp_alpha=4.229255501763826e-06, random_state=42),\n",
              " DecisionTreeClassifier(ccp_alpha=4.33291372484632e-06, random_state=42),\n",
              " DecisionTreeClassifier(ccp_alpha=4.33291372484632e-06, random_state=42),\n",
              " DecisionTreeClassifier(ccp_alpha=4.3437731577406504e-06, random_state=42),\n",
              " DecisionTreeClassifier(ccp_alpha=4.398070322212396e-06, random_state=42),\n",
              " DecisionTreeClassifier(ccp_alpha=4.425487702292194e-06, random_state=42),\n",
              " DecisionTreeClassifier(ccp_alpha=4.495805218261575e-06, random_state=42),\n",
              " DecisionTreeClassifier(ccp_alpha=4.495805218261575e-06, random_state=42),\n",
              " DecisionTreeClassifier(ccp_alpha=4.560961815627675e-06, random_state=42),\n",
              " DecisionTreeClassifier(ccp_alpha=4.560961815627675e-06, random_state=42),\n",
              " DecisionTreeClassifier(ccp_alpha=4.560961815627679e-06, random_state=42),\n",
              " DecisionTreeClassifier(ccp_alpha=4.560961815627682e-06, random_state=42),\n",
              " DecisionTreeClassifier(ccp_alpha=4.560961815627682e-06, random_state=42),\n",
              " DecisionTreeClassifier(ccp_alpha=4.560961815627682e-06, random_state=42),\n",
              " DecisionTreeClassifier(ccp_alpha=4.560961815627682e-06, random_state=42),\n",
              " DecisionTreeClassifier(ccp_alpha=4.560961815627682e-06, random_state=42),\n",
              " DecisionTreeClassifier(ccp_alpha=4.560961815627682e-06, random_state=42),\n",
              " DecisionTreeClassifier(ccp_alpha=4.560961815627682e-06, random_state=42),\n",
              " DecisionTreeClassifier(ccp_alpha=4.560961815627682e-06, random_state=42),\n",
              " DecisionTreeClassifier(ccp_alpha=4.560961815627682e-06, random_state=42),\n",
              " DecisionTreeClassifier(ccp_alpha=4.560961815627682e-06, random_state=42),\n",
              " DecisionTreeClassifier(ccp_alpha=4.560961815627682e-06, random_state=42),\n",
              " DecisionTreeClassifier(ccp_alpha=4.560961815627682e-06, random_state=42),\n",
              " DecisionTreeClassifier(ccp_alpha=4.560961815627682e-06, random_state=42),\n",
              " DecisionTreeClassifier(ccp_alpha=4.560961815627682e-06, random_state=42),\n",
              " DecisionTreeClassifier(ccp_alpha=4.560961815627682e-06, random_state=42),\n",
              " DecisionTreeClassifier(ccp_alpha=4.560961815627682e-06, random_state=42),\n",
              " DecisionTreeClassifier(ccp_alpha=4.560961815627682e-06, random_state=42),\n",
              " DecisionTreeClassifier(ccp_alpha=4.560961815627682e-06, random_state=42),\n",
              " DecisionTreeClassifier(ccp_alpha=4.560961815627682e-06, random_state=42),\n",
              " DecisionTreeClassifier(ccp_alpha=4.560961815627682e-06, random_state=42),\n",
              " DecisionTreeClassifier(ccp_alpha=4.560961815627682e-06, random_state=42),\n",
              " DecisionTreeClassifier(ccp_alpha=4.560961815627682e-06, random_state=42),\n",
              " DecisionTreeClassifier(ccp_alpha=4.560961815627682e-06, random_state=42),\n",
              " DecisionTreeClassifier(ccp_alpha=4.560961815627682e-06, random_state=42),\n",
              " DecisionTreeClassifier(ccp_alpha=4.560961815627682e-06, random_state=42),\n",
              " DecisionTreeClassifier(ccp_alpha=4.560961815627682e-06, random_state=42),\n",
              " DecisionTreeClassifier(ccp_alpha=4.560961815627682e-06, random_state=42),\n",
              " DecisionTreeClassifier(ccp_alpha=4.560961815627682e-06, random_state=42),\n",
              " DecisionTreeClassifier(ccp_alpha=4.560961815627682e-06, random_state=42),\n",
              " DecisionTreeClassifier(ccp_alpha=4.560961815627682e-06, random_state=42),\n",
              " DecisionTreeClassifier(ccp_alpha=4.560961815627682e-06, random_state=42),\n",
              " DecisionTreeClassifier(ccp_alpha=4.560961815627682e-06, random_state=42),\n",
              " DecisionTreeClassifier(ccp_alpha=4.560961815627682e-06, random_state=42),\n",
              " DecisionTreeClassifier(ccp_alpha=4.560961815627682e-06, random_state=42),\n",
              " DecisionTreeClassifier(ccp_alpha=4.560961815627682e-06, random_state=42),\n",
              " DecisionTreeClassifier(ccp_alpha=4.560961815627682e-06, random_state=42),\n",
              " DecisionTreeClassifier(ccp_alpha=4.560961815627682e-06, random_state=42),\n",
              " DecisionTreeClassifier(ccp_alpha=4.560961815627682e-06, random_state=42),\n",
              " DecisionTreeClassifier(ccp_alpha=4.560961815627682e-06, random_state=42),\n",
              " DecisionTreeClassifier(ccp_alpha=4.560961815627682e-06, random_state=42),\n",
              " DecisionTreeClassifier(ccp_alpha=4.560961815627682e-06, random_state=42),\n",
              " DecisionTreeClassifier(ccp_alpha=4.560961815627682e-06, random_state=42),\n",
              " DecisionTreeClassifier(ccp_alpha=4.637616636058421e-06, random_state=42),\n",
              " DecisionTreeClassifier(ccp_alpha=4.640978689586014e-06, random_state=42),\n",
              " DecisionTreeClassifier(ccp_alpha=4.668278564230683e-06, random_state=42),\n",
              " DecisionTreeClassifier(ccp_alpha=4.705754254219045e-06, random_state=42),\n",
              " DecisionTreeClassifier(ccp_alpha=4.733538749192004e-06, random_state=42),\n",
              " DecisionTreeClassifier(ccp_alpha=4.829253687135182e-06, random_state=42),\n",
              " DecisionTreeClassifier(ccp_alpha=4.865025936669535e-06, random_state=42),\n",
              " DecisionTreeClassifier(ccp_alpha=4.865025936669535e-06, random_state=42),\n",
              " DecisionTreeClassifier(ccp_alpha=4.865025936669562e-06, random_state=42),\n",
              " DecisionTreeClassifier(ccp_alpha=4.911805032214401e-06, random_state=42),\n",
              " DecisionTreeClassifier(ccp_alpha=4.911805032214401e-06, random_state=42),\n",
              " DecisionTreeClassifier(ccp_alpha=4.911805032214401e-06, random_state=42),\n",
              " DecisionTreeClassifier(ccp_alpha=5.0170579971904475e-06, random_state=42),\n",
              " DecisionTreeClassifier(ccp_alpha=5.126752015540986e-06, random_state=42),\n",
              " DecisionTreeClassifier(ccp_alpha=5.131082042581139e-06, random_state=42),\n",
              " DecisionTreeClassifier(ccp_alpha=5.18419883391221e-06, random_state=42),\n",
              " DecisionTreeClassifier(ccp_alpha=5.212527789288785e-06, random_state=42),\n",
              " DecisionTreeClassifier(ccp_alpha=5.212527789288785e-06, random_state=42),\n",
              " DecisionTreeClassifier(ccp_alpha=5.473154178753213e-06, random_state=42),\n",
              " DecisionTreeClassifier(ccp_alpha=5.473154178753213e-06, random_state=42),\n",
              " DecisionTreeClassifier(ccp_alpha=5.473154178753213e-06, random_state=42),\n",
              " DecisionTreeClassifier(ccp_alpha=5.473154178753213e-06, random_state=42),\n",
              " DecisionTreeClassifier(ccp_alpha=5.473154178753213e-06, random_state=42),\n",
              " DecisionTreeClassifier(ccp_alpha=5.473154178753213e-06, random_state=42),\n",
              " DecisionTreeClassifier(ccp_alpha=5.473154178753213e-06, random_state=42),\n",
              " DecisionTreeClassifier(ccp_alpha=5.47315417875324e-06, random_state=42),\n",
              " DecisionTreeClassifier(ccp_alpha=5.47315417875324e-06, random_state=42),\n",
              " DecisionTreeClassifier(ccp_alpha=5.560029641908029e-06, random_state=42),\n",
              " DecisionTreeClassifier(ccp_alpha=5.701202269534596e-06, random_state=42),\n",
              " DecisionTreeClassifier(ccp_alpha=5.701202269534599e-06, random_state=42),\n",
              " DecisionTreeClassifier(ccp_alpha=5.701202269534599e-06, random_state=42),\n",
              " DecisionTreeClassifier(ccp_alpha=5.701202269534616e-06, random_state=42),\n",
              " DecisionTreeClassifier(ccp_alpha=5.864093762949868e-06, random_state=42),\n",
              " DecisionTreeClassifier(ccp_alpha=5.864093762949882e-06, random_state=42),\n",
              " DecisionTreeClassifier(ccp_alpha=5.864093762949882e-06, random_state=42),\n",
              " DecisionTreeClassifier(ccp_alpha=5.864093762949882e-06, random_state=42),\n",
              " DecisionTreeClassifier(ccp_alpha=5.864093762949882e-06, random_state=42),\n",
              " DecisionTreeClassifier(ccp_alpha=5.8802152096568305e-06, random_state=42),\n",
              " DecisionTreeClassifier(ccp_alpha=5.929250360315972e-06, random_state=42),\n",
              " DecisionTreeClassifier(ccp_alpha=5.949080629079551e-06, random_state=42),\n",
              " DecisionTreeClassifier(ccp_alpha=5.97071364954898e-06, random_state=42),\n",
              " DecisionTreeClassifier(ccp_alpha=6.012176938781941e-06, random_state=42),\n",
              " DecisionTreeClassifier(ccp_alpha=6.081282420836905e-06, random_state=42),\n",
              " DecisionTreeClassifier(ccp_alpha=6.081282420836905e-06, random_state=42),\n",
              " DecisionTreeClassifier(ccp_alpha=6.081282420836918e-06, random_state=42),\n",
              " DecisionTreeClassifier(ccp_alpha=6.2050294468423296e-06, random_state=42),\n",
              " DecisionTreeClassifier(ccp_alpha=6.315177898561442e-06, random_state=42),\n",
              " DecisionTreeClassifier(ccp_alpha=6.411487801153894e-06, random_state=42),\n",
              " DecisionTreeClassifier(ccp_alpha=6.5077138101029555e-06, random_state=42),\n",
              " DecisionTreeClassifier(ccp_alpha=6.515659736610974e-06, random_state=42),\n",
              " DecisionTreeClassifier(ccp_alpha=6.613394632660142e-06, random_state=42),\n",
              " DecisionTreeClassifier(ccp_alpha=6.61835219985101e-06, random_state=42),\n",
              " DecisionTreeClassifier(ccp_alpha=6.6514026477903854e-06, random_state=42),\n",
              " DecisionTreeClassifier(ccp_alpha=6.65400593649789e-06, random_state=42),\n",
              " DecisionTreeClassifier(ccp_alpha=6.73618975846549e-06, random_state=42),\n",
              " DecisionTreeClassifier(ccp_alpha=6.76316534674315e-06, random_state=42),\n",
              " DecisionTreeClassifier(ccp_alpha=6.8414427234415095e-06, random_state=42),\n",
              " DecisionTreeClassifier(ccp_alpha=6.841442723441516e-06, random_state=42),\n",
              " DecisionTreeClassifier(ccp_alpha=6.84144272344152e-06, random_state=42),\n",
              " DecisionTreeClassifier(ccp_alpha=6.84144272344152e-06, random_state=42),\n",
              " DecisionTreeClassifier(ccp_alpha=6.84144272344152e-06, random_state=42),\n",
              " DecisionTreeClassifier(ccp_alpha=6.84144272344152e-06, random_state=42),\n",
              " DecisionTreeClassifier(ccp_alpha=6.84144272344152e-06, random_state=42),\n",
              " DecisionTreeClassifier(ccp_alpha=6.84144272344152e-06, random_state=42),\n",
              " DecisionTreeClassifier(ccp_alpha=6.84144272344152e-06, random_state=42),\n",
              " DecisionTreeClassifier(ccp_alpha=6.84144272344152e-06, random_state=42),\n",
              " DecisionTreeClassifier(ccp_alpha=6.84144272344152e-06, random_state=42),\n",
              " DecisionTreeClassifier(ccp_alpha=6.84144272344152e-06, random_state=42),\n",
              " DecisionTreeClassifier(ccp_alpha=6.84144272344152e-06, random_state=42),\n",
              " DecisionTreeClassifier(ccp_alpha=6.84144272344152e-06, random_state=42),\n",
              " DecisionTreeClassifier(ccp_alpha=6.841442723441523e-06, random_state=42),\n",
              " DecisionTreeClassifier(ccp_alpha=6.841442723441523e-06, random_state=42),\n",
              " DecisionTreeClassifier(ccp_alpha=6.841442723441523e-06, random_state=42),\n",
              " DecisionTreeClassifier(ccp_alpha=7.016864331734882e-06, random_state=42),\n",
              " DecisionTreeClassifier(ccp_alpha=7.036912515539861e-06, random_state=42),\n",
              " DecisionTreeClassifier(ccp_alpha=7.094829490976389e-06, random_state=42),\n",
              " DecisionTreeClassifier(ccp_alpha=7.151137661539683e-06, random_state=42),\n",
              " DecisionTreeClassifier(ccp_alpha=7.297538905004275e-06, random_state=42),\n",
              " DecisionTreeClassifier(ccp_alpha=7.297538905004275e-06, random_state=42),\n",
              " DecisionTreeClassifier(ccp_alpha=7.297538905004275e-06, random_state=42),\n",
              " DecisionTreeClassifier(ccp_alpha=7.297538905004275e-06, random_state=42),\n",
              " DecisionTreeClassifier(ccp_alpha=7.2975389050042885e-06, random_state=42),\n",
              " DecisionTreeClassifier(ccp_alpha=7.2975389050042885e-06, random_state=42),\n",
              " DecisionTreeClassifier(ccp_alpha=7.2975389050042885e-06, random_state=42),\n",
              " DecisionTreeClassifier(ccp_alpha=7.2975389050042885e-06, random_state=42),\n",
              " DecisionTreeClassifier(ccp_alpha=7.297538905004291e-06, random_state=42),\n",
              " DecisionTreeClassifier(ccp_alpha=7.297538905004291e-06, random_state=42),\n",
              " DecisionTreeClassifier(ccp_alpha=7.3082078215320655e-06, random_state=42),\n",
              " DecisionTreeClassifier(ccp_alpha=7.37950641911076e-06, random_state=42),\n",
              " DecisionTreeClassifier(ccp_alpha=7.41156295039498e-06, random_state=42),\n",
              " DecisionTreeClassifier(ccp_alpha=7.4633920619361996e-06, random_state=42),\n",
              " DecisionTreeClassifier(ccp_alpha=7.463392061936204e-06, random_state=42),\n",
              " DecisionTreeClassifier(ccp_alpha=7.601603026046128e-06, random_state=42),\n",
              " DecisionTreeClassifier(ccp_alpha=7.601603026046128e-06, random_state=42),\n",
              " DecisionTreeClassifier(ccp_alpha=7.601603026046128e-06, random_state=42),\n",
              " DecisionTreeClassifier(ccp_alpha=7.818791683933158e-06, random_state=42),\n",
              " DecisionTreeClassifier(ccp_alpha=7.818791683933175e-06, random_state=42),\n",
              " DecisionTreeClassifier(ccp_alpha=7.905667147087982e-06, random_state=42),\n",
              " DecisionTreeClassifier(ccp_alpha=7.932107505439451e-06, random_state=42),\n",
              " DecisionTreeClassifier(ccp_alpha=7.981683177348438e-06, random_state=42),\n",
              " DecisionTreeClassifier(ccp_alpha=7.981683177348457e-06, random_state=42),\n",
              " DecisionTreeClassifier(ccp_alpha=8.02729279550471e-06, random_state=42),\n",
              " DecisionTreeClassifier(ccp_alpha=8.02729279550472e-06, random_state=42),\n",
              " DecisionTreeClassifier(ccp_alpha=8.04875614522532e-06, random_state=42),\n",
              " DecisionTreeClassifier(ccp_alpha=8.079418073397604e-06, random_state=42),\n",
              " DecisionTreeClassifier(ccp_alpha=8.144574670763723e-06, random_state=42),\n",
              " DecisionTreeClassifier(ccp_alpha=8.209731268129816e-06, random_state=42),\n",
              " DecisionTreeClassifier(ccp_alpha=8.209731268129816e-06, random_state=42),\n",
              " DecisionTreeClassifier(ccp_alpha=8.209731268129816e-06, random_state=42),\n",
              " DecisionTreeClassifier(ccp_alpha=8.209731268129816e-06, random_state=42),\n",
              " DecisionTreeClassifier(ccp_alpha=8.209731268129816e-06, random_state=42),\n",
              " DecisionTreeClassifier(ccp_alpha=8.209731268129816e-06, random_state=42),\n",
              " DecisionTreeClassifier(ccp_alpha=8.209731268129816e-06, random_state=42),\n",
              " DecisionTreeClassifier(ccp_alpha=8.209731268129816e-06, random_state=42),\n",
              " DecisionTreeClassifier(ccp_alpha=8.209731268129816e-06, random_state=42),\n",
              " DecisionTreeClassifier(ccp_alpha=8.209731268129826e-06, random_state=42),\n",
              " DecisionTreeClassifier(ccp_alpha=8.209731268129833e-06, random_state=42),\n",
              " DecisionTreeClassifier(ccp_alpha=8.20973126812986e-06, random_state=42),\n",
              " DecisionTreeClassifier(ccp_alpha=8.245659049183843e-06, random_state=42),\n",
              " DecisionTreeClassifier(ccp_alpha=8.41112438726143e-06, random_state=42),\n",
              " DecisionTreeClassifier(ccp_alpha=8.470357657594266e-06, random_state=42),\n",
              " DecisionTreeClassifier(ccp_alpha=8.533412429238872e-06, random_state=42),\n",
              " DecisionTreeClassifier(ccp_alpha=8.584249270876494e-06, random_state=42),\n",
              " DecisionTreeClassifier(ccp_alpha=8.64182238750506e-06, random_state=42),\n",
              " DecisionTreeClassifier(ccp_alpha=8.641822387505087e-06, random_state=42),\n",
              " DecisionTreeClassifier(ccp_alpha=8.665827449692585e-06, random_state=42),\n",
              " DecisionTreeClassifier(ccp_alpha=8.665827449692599e-06, random_state=42),\n",
              " DecisionTreeClassifier(ccp_alpha=8.73375666822323e-06, random_state=42),\n",
              " DecisionTreeClassifier(ccp_alpha=8.741843479953074e-06, random_state=42),\n",
              " DecisionTreeClassifier(ccp_alpha=8.757046686005149e-06, random_state=42),\n",
              " DecisionTreeClassifier(ccp_alpha=8.79614064442482e-06, random_state=42),\n",
              " DecisionTreeClassifier(ccp_alpha=8.817859510213511e-06, random_state=42),\n",
              " DecisionTreeClassifier(ccp_alpha=8.817859510213516e-06, random_state=42),\n",
              " DecisionTreeClassifier(ccp_alpha=8.93576192449506e-06, random_state=42),\n",
              " DecisionTreeClassifier(ccp_alpha=8.94981186462786e-06, random_state=42),\n",
              " DecisionTreeClassifier(ccp_alpha=9.031972930466739e-06, random_state=42),\n",
              " DecisionTreeClassifier(ccp_alpha=9.04936287509766e-06, random_state=42),\n",
              " DecisionTreeClassifier(ccp_alpha=9.110758486051775e-06, random_state=42),\n",
              " DecisionTreeClassifier(ccp_alpha=9.121923631255356e-06, random_state=42),\n",
              " DecisionTreeClassifier(ccp_alpha=9.121923631255357e-06, random_state=42),\n",
              " DecisionTreeClassifier(ccp_alpha=9.121923631255357e-06, random_state=42),\n",
              " DecisionTreeClassifier(ccp_alpha=9.121923631255357e-06, random_state=42),\n",
              " DecisionTreeClassifier(ccp_alpha=9.121923631255357e-06, random_state=42),\n",
              " DecisionTreeClassifier(ccp_alpha=9.121923631255357e-06, random_state=42),\n",
              " DecisionTreeClassifier(ccp_alpha=9.121923631255357e-06, random_state=42),\n",
              " DecisionTreeClassifier(ccp_alpha=9.121923631255357e-06, random_state=42),\n",
              " DecisionTreeClassifier(ccp_alpha=9.121923631255357e-06, random_state=42),\n",
              " DecisionTreeClassifier(ccp_alpha=9.121923631255357e-06, random_state=42),\n",
              " DecisionTreeClassifier(ccp_alpha=9.121923631255357e-06, random_state=42),\n",
              " DecisionTreeClassifier(ccp_alpha=9.121923631255357e-06, random_state=42),\n",
              " DecisionTreeClassifier(ccp_alpha=9.121923631255357e-06, random_state=42),\n",
              " DecisionTreeClassifier(ccp_alpha=9.121923631255357e-06, random_state=42),\n",
              " DecisionTreeClassifier(ccp_alpha=9.121923631255357e-06, random_state=42),\n",
              " DecisionTreeClassifier(ccp_alpha=9.121923631255357e-06, random_state=42),\n",
              " DecisionTreeClassifier(ccp_alpha=9.121923631255357e-06, random_state=42),\n",
              " DecisionTreeClassifier(ccp_alpha=9.121923631255357e-06, random_state=42),\n",
              " DecisionTreeClassifier(ccp_alpha=9.121923631255357e-06, random_state=42),\n",
              " DecisionTreeClassifier(ccp_alpha=9.121923631255357e-06, random_state=42),\n",
              " DecisionTreeClassifier(ccp_alpha=9.121923631255357e-06, random_state=42),\n",
              " DecisionTreeClassifier(ccp_alpha=9.121923631255357e-06, random_state=42),\n",
              " DecisionTreeClassifier(ccp_alpha=9.121923631255357e-06, random_state=42),\n",
              " DecisionTreeClassifier(ccp_alpha=9.121923631255357e-06, random_state=42),\n",
              " DecisionTreeClassifier(ccp_alpha=9.121923631255357e-06, random_state=42),\n",
              " DecisionTreeClassifier(ccp_alpha=9.121923631255357e-06, random_state=42),\n",
              " DecisionTreeClassifier(ccp_alpha=9.121923631255357e-06, random_state=42),\n",
              " DecisionTreeClassifier(ccp_alpha=9.121923631255357e-06, random_state=42),\n",
              " DecisionTreeClassifier(ccp_alpha=9.121923631255357e-06, random_state=42),\n",
              " DecisionTreeClassifier(ccp_alpha=9.121923631255357e-06, random_state=42),\n",
              " DecisionTreeClassifier(ccp_alpha=9.121923631255357e-06, random_state=42),\n",
              " DecisionTreeClassifier(ccp_alpha=9.121923631255357e-06, random_state=42),\n",
              " DecisionTreeClassifier(ccp_alpha=9.121923631255357e-06, random_state=42),\n",
              " DecisionTreeClassifier(ccp_alpha=9.121923631255357e-06, random_state=42),\n",
              " DecisionTreeClassifier(ccp_alpha=9.121923631255357e-06, random_state=42),\n",
              " DecisionTreeClassifier(ccp_alpha=9.121923631255357e-06, random_state=42),\n",
              " DecisionTreeClassifier(ccp_alpha=9.121923631255357e-06, random_state=42),\n",
              " DecisionTreeClassifier(ccp_alpha=9.121923631255357e-06, random_state=42),\n",
              " DecisionTreeClassifier(ccp_alpha=9.121923631255357e-06, random_state=42),\n",
              " DecisionTreeClassifier(ccp_alpha=9.121923631255357e-06, random_state=42),\n",
              " DecisionTreeClassifier(ccp_alpha=9.121923631255357e-06, random_state=42),\n",
              " DecisionTreeClassifier(ccp_alpha=9.121923631255357e-06, random_state=42),\n",
              " DecisionTreeClassifier(ccp_alpha=9.121923631255357e-06, random_state=42),\n",
              " DecisionTreeClassifier(ccp_alpha=9.121923631255357e-06, random_state=42),\n",
              " DecisionTreeClassifier(ccp_alpha=9.121923631255357e-06, random_state=42),\n",
              " DecisionTreeClassifier(ccp_alpha=9.121923631255357e-06, random_state=42),\n",
              " DecisionTreeClassifier(ccp_alpha=9.121923631255357e-06, random_state=42),\n",
              " DecisionTreeClassifier(ccp_alpha=9.121923631255357e-06, random_state=42),\n",
              " DecisionTreeClassifier(ccp_alpha=9.121923631255357e-06, random_state=42),\n",
              " DecisionTreeClassifier(ccp_alpha=9.121923631255357e-06, random_state=42),\n",
              " DecisionTreeClassifier(ccp_alpha=9.121923631255357e-06, random_state=42),\n",
              " DecisionTreeClassifier(ccp_alpha=9.121923631255357e-06, random_state=42),\n",
              " DecisionTreeClassifier(ccp_alpha=9.121923631255357e-06, random_state=42),\n",
              " DecisionTreeClassifier(ccp_alpha=9.121923631255357e-06, random_state=42),\n",
              " DecisionTreeClassifier(ccp_alpha=9.121923631255357e-06, random_state=42),\n",
              " DecisionTreeClassifier(ccp_alpha=9.121923631255357e-06, random_state=42),\n",
              " DecisionTreeClassifier(ccp_alpha=9.121923631255357e-06, random_state=42),\n",
              " DecisionTreeClassifier(ccp_alpha=9.121923631255357e-06, random_state=42),\n",
              " DecisionTreeClassifier(ccp_alpha=9.121923631255357e-06, random_state=42),\n",
              " DecisionTreeClassifier(ccp_alpha=9.121923631255357e-06, random_state=42),\n",
              " DecisionTreeClassifier(ccp_alpha=9.121923631255357e-06, random_state=42),\n",
              " DecisionTreeClassifier(ccp_alpha=9.121923631255357e-06, random_state=42),\n",
              " DecisionTreeClassifier(ccp_alpha=9.121923631255357e-06, random_state=42),\n",
              " DecisionTreeClassifier(ccp_alpha=9.121923631255357e-06, random_state=42),\n",
              " DecisionTreeClassifier(ccp_alpha=9.121923631255357e-06, random_state=42),\n",
              " DecisionTreeClassifier(ccp_alpha=9.121923631255357e-06, random_state=42),\n",
              " DecisionTreeClassifier(ccp_alpha=9.121923631255357e-06, random_state=42),\n",
              " DecisionTreeClassifier(ccp_alpha=9.121923631255357e-06, random_state=42),\n",
              " DecisionTreeClassifier(ccp_alpha=9.121923631255357e-06, random_state=42),\n",
              " DecisionTreeClassifier(ccp_alpha=9.121923631255357e-06, random_state=42),\n",
              " DecisionTreeClassifier(ccp_alpha=9.121923631255357e-06, random_state=42),\n",
              " DecisionTreeClassifier(ccp_alpha=9.121923631255357e-06, random_state=42),\n",
              " DecisionTreeClassifier(ccp_alpha=9.121923631255357e-06, random_state=42),\n",
              " DecisionTreeClassifier(ccp_alpha=9.121923631255357e-06, random_state=42),\n",
              " DecisionTreeClassifier(ccp_alpha=9.121923631255357e-06, random_state=42),\n",
              " DecisionTreeClassifier(ccp_alpha=9.121923631255357e-06, random_state=42),\n",
              " DecisionTreeClassifier(ccp_alpha=9.121923631255357e-06, random_state=42),\n",
              " DecisionTreeClassifier(ccp_alpha=9.121923631255357e-06, random_state=42),\n",
              " DecisionTreeClassifier(ccp_alpha=9.121923631255357e-06, random_state=42),\n",
              " DecisionTreeClassifier(ccp_alpha=9.121923631255357e-06, random_state=42),\n",
              " DecisionTreeClassifier(ccp_alpha=9.121923631255357e-06, random_state=42),\n",
              " DecisionTreeClassifier(ccp_alpha=9.121923631255357e-06, random_state=42),\n",
              " DecisionTreeClassifier(ccp_alpha=9.121923631255357e-06, random_state=42),\n",
              " DecisionTreeClassifier(ccp_alpha=9.121923631255357e-06, random_state=42),\n",
              " DecisionTreeClassifier(ccp_alpha=9.121923631255357e-06, random_state=42),\n",
              " DecisionTreeClassifier(ccp_alpha=9.121923631255357e-06, random_state=42),\n",
              " DecisionTreeClassifier(ccp_alpha=9.121923631255357e-06, random_state=42),\n",
              " DecisionTreeClassifier(ccp_alpha=9.121923631255357e-06, random_state=42),\n",
              " DecisionTreeClassifier(ccp_alpha=9.121923631255357e-06, random_state=42),\n",
              " DecisionTreeClassifier(ccp_alpha=9.121923631255357e-06, random_state=42),\n",
              " DecisionTreeClassifier(ccp_alpha=9.121923631255357e-06, random_state=42),\n",
              " DecisionTreeClassifier(ccp_alpha=9.121923631255357e-06, random_state=42),\n",
              " DecisionTreeClassifier(ccp_alpha=9.121923631255357e-06, random_state=42),\n",
              " DecisionTreeClassifier(ccp_alpha=9.121923631255357e-06, random_state=42),\n",
              " DecisionTreeClassifier(ccp_alpha=9.121923631255357e-06, random_state=42),\n",
              " DecisionTreeClassifier(ccp_alpha=9.121923631255357e-06, random_state=42),\n",
              " DecisionTreeClassifier(ccp_alpha=9.121923631255357e-06, random_state=42),\n",
              " DecisionTreeClassifier(ccp_alpha=9.121923631255357e-06, random_state=42),\n",
              " DecisionTreeClassifier(ccp_alpha=9.121923631255357e-06, random_state=42),\n",
              " DecisionTreeClassifier(ccp_alpha=9.121923631255357e-06, random_state=42),\n",
              " DecisionTreeClassifier(ccp_alpha=9.121923631255357e-06, random_state=42),\n",
              " DecisionTreeClassifier(ccp_alpha=9.121923631255357e-06, random_state=42),\n",
              " DecisionTreeClassifier(ccp_alpha=9.121923631255357e-06, random_state=42),\n",
              " DecisionTreeClassifier(ccp_alpha=9.121923631255357e-06, random_state=42),\n",
              " DecisionTreeClassifier(ccp_alpha=9.121923631255357e-06, random_state=42),\n",
              " DecisionTreeClassifier(ccp_alpha=9.121923631255357e-06, random_state=42),\n",
              " DecisionTreeClassifier(ccp_alpha=9.121923631255357e-06, random_state=42),\n",
              " DecisionTreeClassifier(ccp_alpha=9.121923631255357e-06, random_state=42),\n",
              " DecisionTreeClassifier(ccp_alpha=9.121923631255357e-06, random_state=42),\n",
              " DecisionTreeClassifier(ccp_alpha=9.121923631255357e-06, random_state=42),\n",
              " DecisionTreeClassifier(ccp_alpha=9.121923631255357e-06, random_state=42),\n",
              " DecisionTreeClassifier(ccp_alpha=9.121923631255357e-06, random_state=42),\n",
              " DecisionTreeClassifier(ccp_alpha=9.121923631255357e-06, random_state=42),\n",
              " DecisionTreeClassifier(ccp_alpha=9.121923631255357e-06, random_state=42),\n",
              " DecisionTreeClassifier(ccp_alpha=9.121923631255357e-06, random_state=42),\n",
              " DecisionTreeClassifier(ccp_alpha=9.121923631255357e-06, random_state=42),\n",
              " DecisionTreeClassifier(ccp_alpha=9.121923631255357e-06, random_state=42),\n",
              " DecisionTreeClassifier(ccp_alpha=9.121923631255357e-06, random_state=42),\n",
              " DecisionTreeClassifier(ccp_alpha=9.121923631255357e-06, random_state=42),\n",
              " DecisionTreeClassifier(ccp_alpha=9.121923631255357e-06, random_state=42),\n",
              " DecisionTreeClassifier(ccp_alpha=9.121923631255357e-06, random_state=42),\n",
              " DecisionTreeClassifier(ccp_alpha=9.121923631255357e-06, random_state=42),\n",
              " DecisionTreeClassifier(ccp_alpha=9.121923631255357e-06, random_state=42),\n",
              " DecisionTreeClassifier(ccp_alpha=9.121923631255357e-06, random_state=42),\n",
              " DecisionTreeClassifier(ccp_alpha=9.121923631255357e-06, random_state=42),\n",
              " DecisionTreeClassifier(ccp_alpha=9.121923631255357e-06, random_state=42),\n",
              " DecisionTreeClassifier(ccp_alpha=9.121923631255357e-06, random_state=42),\n",
              " DecisionTreeClassifier(ccp_alpha=9.121923631255357e-06, random_state=42),\n",
              " DecisionTreeClassifier(ccp_alpha=9.121923631255357e-06, random_state=42),\n",
              " DecisionTreeClassifier(ccp_alpha=9.121923631255357e-06, random_state=42),\n",
              " DecisionTreeClassifier(ccp_alpha=9.121923631255357e-06, random_state=42),\n",
              " DecisionTreeClassifier(ccp_alpha=9.121923631255357e-06, random_state=42),\n",
              " DecisionTreeClassifier(ccp_alpha=9.121923631255357e-06, random_state=42),\n",
              " DecisionTreeClassifier(ccp_alpha=9.12192363125536e-06, random_state=42),\n",
              " DecisionTreeClassifier(ccp_alpha=9.121923631255364e-06, random_state=42),\n",
              " DecisionTreeClassifier(ccp_alpha=9.121923631255364e-06, random_state=42),\n",
              " DecisionTreeClassifier(ccp_alpha=9.121923631255364e-06, random_state=42),\n",
              " DecisionTreeClassifier(ccp_alpha=9.121923631255364e-06, random_state=42),\n",
              " DecisionTreeClassifier(ccp_alpha=9.121923631255364e-06, random_state=42),\n",
              " DecisionTreeClassifier(ccp_alpha=9.121923631255364e-06, random_state=42),\n",
              " DecisionTreeClassifier(ccp_alpha=9.121923631255364e-06, random_state=42),\n",
              " DecisionTreeClassifier(ccp_alpha=9.121923631255364e-06, random_state=42),\n",
              " DecisionTreeClassifier(ccp_alpha=9.121923631255364e-06, random_state=42),\n",
              " DecisionTreeClassifier(ccp_alpha=9.185713306998416e-06, random_state=42),\n",
              " DecisionTreeClassifier(ccp_alpha=9.382550020719765e-06, random_state=42),\n",
              " DecisionTreeClassifier(ccp_alpha=9.506004626255549e-06, random_state=42),\n",
              " DecisionTreeClassifier(ccp_alpha=9.529152364793548e-06, random_state=42),\n",
              " DecisionTreeClassifier(ccp_alpha=9.536556523585135e-06, random_state=42),\n",
              " DecisionTreeClassifier(ccp_alpha=9.536556523585142e-06, random_state=42),\n",
              " DecisionTreeClassifier(ccp_alpha=9.730051873339056e-06, random_state=42),\n",
              " DecisionTreeClassifier(ccp_alpha=9.74387296975004e-06, random_state=42),\n",
              " DecisionTreeClassifier(ccp_alpha=9.77348960491646e-06, random_state=42),\n",
              " DecisionTreeClassifier(ccp_alpha=9.77348960491646e-06, random_state=42),\n",
              " DecisionTreeClassifier(ccp_alpha=1.0021086860392818e-05, random_state=42),\n",
              " DecisionTreeClassifier(ccp_alpha=1.0077553725958288e-05, random_state=42),\n",
              " DecisionTreeClassifier(ccp_alpha=1.0262164085162278e-05, random_state=42),\n",
              " DecisionTreeClassifier(ccp_alpha=1.0262164085162278e-05, random_state=42),\n",
              " DecisionTreeClassifier(ccp_alpha=1.0262164085162278e-05, random_state=42),\n",
              " DecisionTreeClassifier(ccp_alpha=1.0262164085162278e-05, random_state=42),\n",
              " DecisionTreeClassifier(ccp_alpha=1.0262164085162278e-05, random_state=42),\n",
              " DecisionTreeClassifier(ccp_alpha=1.0385635667403998e-05, random_state=42),\n",
              " DecisionTreeClassifier(ccp_alpha=1.0425055578577564e-05, random_state=42),\n",
              " DecisionTreeClassifier(ccp_alpha=1.0425055578577564e-05, random_state=42),\n",
              " DecisionTreeClassifier(ccp_alpha=1.0425055578577564e-05, random_state=42),\n",
              " DecisionTreeClassifier(ccp_alpha=1.0425055578577564e-05, random_state=42),\n",
              " DecisionTreeClassifier(ccp_alpha=1.0425055578577564e-05, random_state=42),\n",
              " DecisionTreeClassifier(ccp_alpha=1.0425055578577564e-05, random_state=42),\n",
              " DecisionTreeClassifier(ccp_alpha=1.0425055578577564e-05, random_state=42),\n",
              " DecisionTreeClassifier(ccp_alpha=1.0425055578577564e-05, random_state=42),\n",
              " DecisionTreeClassifier(ccp_alpha=1.0425055578577564e-05, random_state=42),\n",
              " DecisionTreeClassifier(ccp_alpha=1.0525296497602334e-05, random_state=42),\n",
              " DecisionTreeClassifier(ccp_alpha=1.0642244236464583e-05, random_state=42),\n",
              " DecisionTreeClassifier(ccp_alpha=1.0642244236464583e-05, random_state=42),\n",
              " DecisionTreeClassifier(ccp_alpha=1.0677537393371223e-05, random_state=42),\n",
              " DecisionTreeClassifier(ccp_alpha=1.0815995162774219e-05, random_state=42),\n",
              " DecisionTreeClassifier(ccp_alpha=1.0827326744924818e-05, random_state=42),\n",
              " DecisionTreeClassifier(ccp_alpha=1.0835739586218464e-05, random_state=42),\n",
              " DecisionTreeClassifier(ccp_alpha=1.0835739586218508e-05, random_state=42),\n",
              " DecisionTreeClassifier(ccp_alpha=1.0859432894351576e-05, random_state=42),\n",
              " DecisionTreeClassifier(ccp_alpha=1.085943289435159e-05, random_state=42),\n",
              " DecisionTreeClassifier(ccp_alpha=1.090217001735519e-05, random_state=42),\n",
              " DecisionTreeClassifier(ccp_alpha=1.0946308357506426e-05, random_state=42),\n",
              " DecisionTreeClassifier(ccp_alpha=1.0946308357506426e-05, random_state=42),\n",
              " DecisionTreeClassifier(ccp_alpha=1.0946308357506426e-05, random_state=42),\n",
              " DecisionTreeClassifier(ccp_alpha=1.0946308357506426e-05, random_state=42),\n",
              " DecisionTreeClassifier(ccp_alpha=1.0946308357506426e-05, random_state=42),\n",
              " DecisionTreeClassifier(ccp_alpha=1.0946308357506433e-05, random_state=42),\n",
              " DecisionTreeClassifier(ccp_alpha=1.0946308357506436e-05, random_state=42),\n",
              " DecisionTreeClassifier(ccp_alpha=1.0946308357506436e-05, random_state=42),\n",
              " DecisionTreeClassifier(ccp_alpha=1.0946308357506436e-05, random_state=42),\n",
              " DecisionTreeClassifier(ccp_alpha=1.0946308357506436e-05, random_state=42),\n",
              " DecisionTreeClassifier(ccp_alpha=1.0946308357506436e-05, random_state=42),\n",
              " DecisionTreeClassifier(ccp_alpha=1.1007475775441945e-05, random_state=42),\n",
              " DecisionTreeClassifier(ccp_alpha=1.1174356448287822e-05, random_state=42),\n",
              " DecisionTreeClassifier(ccp_alpha=1.1226982930775827e-05, random_state=42),\n",
              " DecisionTreeClassifier(ccp_alpha=1.138623091560953e-05, random_state=42),\n",
              " DecisionTreeClassifier(ccp_alpha=1.1402404539069192e-05, random_state=42),\n",
              " DecisionTreeClassifier(ccp_alpha=1.1402404539069198e-05, random_state=42),\n",
              " DecisionTreeClassifier(ccp_alpha=1.1402404539069198e-05, random_state=42),\n",
              " DecisionTreeClassifier(ccp_alpha=1.1402404539069198e-05, random_state=42),\n",
              " DecisionTreeClassifier(ccp_alpha=1.1402404539069202e-05, random_state=42),\n",
              " DecisionTreeClassifier(ccp_alpha=1.1402404539069202e-05, random_state=42),\n",
              " DecisionTreeClassifier(ccp_alpha=1.1423011294260351e-05, random_state=42),\n",
              " DecisionTreeClassifier(ccp_alpha=1.1443867828302181e-05, random_state=42),\n",
              " DecisionTreeClassifier(ccp_alpha=1.1510338650113365e-05, random_state=42),\n",
              " DecisionTreeClassifier(ccp_alpha=1.1554436599590118e-05, random_state=42),\n",
              " DecisionTreeClassifier(ccp_alpha=1.1577826147362561e-05, random_state=42),\n",
              " DecisionTreeClassifier(ccp_alpha=1.1577826147362561e-05, random_state=42),\n",
              " DecisionTreeClassifier(ccp_alpha=1.1577826147362561e-05, random_state=42),\n",
              " DecisionTreeClassifier(ccp_alpha=1.1577826147362561e-05, random_state=42),\n",
              " DecisionTreeClassifier(ccp_alpha=1.1577826147362561e-05, random_state=42),\n",
              " DecisionTreeClassifier(ccp_alpha=1.1728187525899736e-05, random_state=42),\n",
              " DecisionTreeClassifier(ccp_alpha=1.1728187525899753e-05, random_state=42),\n",
              " DecisionTreeClassifier(ccp_alpha=1.1728187525899753e-05, random_state=42),\n",
              " DecisionTreeClassifier(ccp_alpha=1.1804842346330455e-05, random_state=42),\n",
              " DecisionTreeClassifier(ccp_alpha=1.1972524766022655e-05, random_state=42),\n",
              " DecisionTreeClassifier(ccp_alpha=1.1972524766022659e-05, random_state=42),\n",
              " DecisionTreeClassifier(ccp_alpha=1.1972524766022659e-05, random_state=42),\n",
              " DecisionTreeClassifier(ccp_alpha=1.1972524766022659e-05, random_state=42),\n",
              " DecisionTreeClassifier(ccp_alpha=1.2048540796283139e-05, random_state=42),\n",
              " DecisionTreeClassifier(ccp_alpha=1.207313421783798e-05, random_state=42),\n",
              " DecisionTreeClassifier(ccp_alpha=1.207313421783798e-05, random_state=42),\n",
              " DecisionTreeClassifier(ccp_alpha=1.216256484167381e-05, random_state=42),\n",
              " DecisionTreeClassifier(ccp_alpha=1.2162564841673811e-05, random_state=42),\n",
              " DecisionTreeClassifier(ccp_alpha=1.2162564841673811e-05, random_state=42),\n",
              " DecisionTreeClassifier(ccp_alpha=1.2162564841673816e-05, random_state=42),\n",
              " DecisionTreeClassifier(ccp_alpha=1.2162564841673816e-05, random_state=42),\n",
              " DecisionTreeClassifier(ccp_alpha=1.2162564841673816e-05, random_state=42),\n",
              " DecisionTreeClassifier(ccp_alpha=1.2162564841673816e-05, random_state=42),\n",
              " DecisionTreeClassifier(ccp_alpha=1.2314596902194709e-05, random_state=42),\n",
              " DecisionTreeClassifier(ccp_alpha=1.2314596902194736e-05, random_state=42),\n",
              " DecisionTreeClassifier(ccp_alpha=1.2417940623363699e-05, random_state=42),\n",
              " DecisionTreeClassifier(ccp_alpha=1.2438986769893673e-05, random_state=42),\n",
              " DecisionTreeClassifier(ccp_alpha=1.2438986769893673e-05, random_state=42),\n",
              " DecisionTreeClassifier(ccp_alpha=1.2438986769893693e-05, random_state=42),\n",
              " DecisionTreeClassifier(ccp_alpha=1.249306932106713e-05, random_state=42),\n",
              " DecisionTreeClassifier(ccp_alpha=1.2510066694293074e-05, random_state=42),\n",
              " DecisionTreeClassifier(ccp_alpha=1.2510066694293074e-05, random_state=42),\n",
              " DecisionTreeClassifier(ccp_alpha=1.2510066694293074e-05, random_state=42),\n",
              " DecisionTreeClassifier(ccp_alpha=1.2510066694293074e-05, random_state=42),\n",
              " DecisionTreeClassifier(ccp_alpha=1.2542644992976112e-05, random_state=42),\n",
              " DecisionTreeClassifier(ccp_alpha=1.2542644992976112e-05, random_state=42),\n",
              " DecisionTreeClassifier(ccp_alpha=1.2542644992976136e-05, random_state=42),\n",
              " DecisionTreeClassifier(ccp_alpha=1.2542644992976136e-05, random_state=42),\n",
              " DecisionTreeClassifier(ccp_alpha=1.2567194375171994e-05, random_state=42),\n",
              " DecisionTreeClassifier(ccp_alpha=1.26303557971228e-05, random_state=42),\n",
              " DecisionTreeClassifier(ccp_alpha=1.26303557971228e-05, random_state=42),\n",
              " DecisionTreeClassifier(ccp_alpha=1.2715408698113526e-05, random_state=42),\n",
              " DecisionTreeClassifier(ccp_alpha=1.2770693083757515e-05, random_state=42),\n",
              " DecisionTreeClassifier(ccp_alpha=1.2770693083757515e-05, random_state=42),\n",
              " DecisionTreeClassifier(ccp_alpha=1.2800118643858307e-05, random_state=42),\n",
              " DecisionTreeClassifier(ccp_alpha=1.282435145805901e-05, random_state=42),\n",
              " DecisionTreeClassifier(ccp_alpha=1.2843668472807546e-05, random_state=42),\n",
              " DecisionTreeClassifier(ccp_alpha=1.2922725144278423e-05, random_state=42),\n",
              " DecisionTreeClassifier(ccp_alpha=1.294327001732182e-05, random_state=42),\n",
              " DecisionTreeClassifier(ccp_alpha=1.2962733581257623e-05, random_state=42),\n",
              " DecisionTreeClassifier(ccp_alpha=1.3060936108388356e-05, random_state=42),\n",
              " DecisionTreeClassifier(ccp_alpha=1.3112765219929588e-05, random_state=42),\n",
              " DecisionTreeClassifier(ccp_alpha=1.3135570029007725e-05, random_state=42),\n",
              " DecisionTreeClassifier(ccp_alpha=1.3194210966637229e-05, random_state=42),\n",
              " DecisionTreeClassifier(ccp_alpha=1.320625690652332e-05, random_state=42),\n",
              " DecisionTreeClassifier(ccp_alpha=1.321219718075838e-05, random_state=42),\n",
              " DecisionTreeClassifier(ccp_alpha=1.3248508131108981e-05, random_state=42),\n",
              " DecisionTreeClassifier(ccp_alpha=1.3255295276667943e-05, random_state=42),\n",
              " DecisionTreeClassifier(ccp_alpha=1.3302805295580737e-05, random_state=42),\n",
              " DecisionTreeClassifier(ccp_alpha=1.3340813310710952e-05, random_state=42),\n",
              " DecisionTreeClassifier(ccp_alpha=1.3357102460052484e-05, random_state=42),\n",
              " DecisionTreeClassifier(ccp_alpha=1.3397825333406324e-05, random_state=42),\n",
              " DecisionTreeClassifier(ccp_alpha=1.3430666360304489e-05, random_state=42),\n",
              " DecisionTreeClassifier(ccp_alpha=1.3507463838589695e-05, random_state=42),\n",
              " DecisionTreeClassifier(ccp_alpha=1.3521910323978536e-05, random_state=42),\n",
              " DecisionTreeClassifier(ccp_alpha=1.3527398112259394e-05, random_state=42),\n",
              " DecisionTreeClassifier(ccp_alpha=1.3544674482773104e-05, random_state=42),\n",
              " DecisionTreeClassifier(ccp_alpha=1.364039201381824e-05, random_state=42),\n",
              " DecisionTreeClassifier(ccp_alpha=1.3668077129300031e-05, random_state=42),\n",
              " DecisionTreeClassifier(ccp_alpha=1.3682885446883038e-05, random_state=42),\n",
              " DecisionTreeClassifier(ccp_alpha=1.368288544688304e-05, random_state=42),\n",
              " DecisionTreeClassifier(ccp_alpha=1.368288544688304e-05, random_state=42),\n",
              " DecisionTreeClassifier(ccp_alpha=1.368288544688304e-05, random_state=42),\n",
              " DecisionTreeClassifier(ccp_alpha=1.368288544688304e-05, random_state=42),\n",
              " DecisionTreeClassifier(ccp_alpha=1.368288544688304e-05, random_state=42),\n",
              " DecisionTreeClassifier(ccp_alpha=1.368288544688304e-05, random_state=42),\n",
              " DecisionTreeClassifier(ccp_alpha=1.368288544688304e-05, random_state=42),\n",
              " DecisionTreeClassifier(ccp_alpha=1.368288544688304e-05, random_state=42),\n",
              " DecisionTreeClassifier(ccp_alpha=1.368288544688304e-05, random_state=42),\n",
              " DecisionTreeClassifier(ccp_alpha=1.368288544688304e-05, random_state=42),\n",
              " DecisionTreeClassifier(ccp_alpha=1.368288544688304e-05, random_state=42),\n",
              " DecisionTreeClassifier(ccp_alpha=1.368288544688304e-05, random_state=42),\n",
              " DecisionTreeClassifier(ccp_alpha=1.368288544688304e-05, random_state=42),\n",
              " DecisionTreeClassifier(ccp_alpha=1.368288544688304e-05, random_state=42),\n",
              " DecisionTreeClassifier(ccp_alpha=1.368288544688304e-05, random_state=42),\n",
              " DecisionTreeClassifier(ccp_alpha=1.368288544688304e-05, random_state=42),\n",
              " DecisionTreeClassifier(ccp_alpha=1.368288544688304e-05, random_state=42),\n",
              " DecisionTreeClassifier(ccp_alpha=1.368288544688304e-05, random_state=42),\n",
              " DecisionTreeClassifier(ccp_alpha=1.368288544688304e-05, random_state=42),\n",
              " DecisionTreeClassifier(ccp_alpha=1.368288544688304e-05, random_state=42),\n",
              " DecisionTreeClassifier(ccp_alpha=1.368288544688304e-05, random_state=42),\n",
              " DecisionTreeClassifier(ccp_alpha=1.368288544688304e-05, random_state=42),\n",
              " DecisionTreeClassifier(ccp_alpha=1.368288544688304e-05, random_state=42),\n",
              " DecisionTreeClassifier(ccp_alpha=1.368288544688304e-05, random_state=42),\n",
              " DecisionTreeClassifier(ccp_alpha=1.368288544688304e-05, random_state=42),\n",
              " DecisionTreeClassifier(ccp_alpha=1.368288544688304e-05, random_state=42),\n",
              " DecisionTreeClassifier(ccp_alpha=1.368288544688304e-05, random_state=42),\n",
              " DecisionTreeClassifier(ccp_alpha=1.368288544688304e-05, random_state=42),\n",
              " DecisionTreeClassifier(ccp_alpha=1.368288544688304e-05, random_state=42),\n",
              " DecisionTreeClassifier(ccp_alpha=1.368288544688304e-05, random_state=42),\n",
              " DecisionTreeClassifier(ccp_alpha=1.368288544688304e-05, random_state=42),\n",
              " DecisionTreeClassifier(ccp_alpha=1.368288544688304e-05, random_state=42),\n",
              " DecisionTreeClassifier(ccp_alpha=1.3716105435327016e-05, random_state=42),\n",
              " DecisionTreeClassifier(ccp_alpha=1.4008668433713586e-05, random_state=42),\n",
              " DecisionTreeClassifier(ccp_alpha=1.4073825031079694e-05, random_state=42),\n",
              " DecisionTreeClassifier(ccp_alpha=1.4138981628445806e-05, random_state=42),\n",
              " DecisionTreeClassifier(ccp_alpha=1.4247575957389349e-05, random_state=42),\n",
              " DecisionTreeClassifier(ccp_alpha=1.42530056738365e-05, random_state=42),\n",
              " DecisionTreeClassifier(ccp_alpha=1.4284131111673697e-05, random_state=42),\n",
              " DecisionTreeClassifier(ccp_alpha=1.4334451420544134e-05, random_state=42),\n",
              " DecisionTreeClassifier(ccp_alpha=1.4367029719227188e-05, random_state=42),\n",
              " DecisionTreeClassifier(ccp_alpha=1.4367029719227191e-05, random_state=42),\n",
              " DecisionTreeClassifier(ccp_alpha=1.4435680329754687e-05, random_state=42),\n",
              " DecisionTreeClassifier(ccp_alpha=1.447924385913549e-05, random_state=42),\n",
              " DecisionTreeClassifier(ccp_alpha=1.459129800739881e-05, random_state=42),\n",
              " DecisionTreeClassifier(ccp_alpha=1.459507781000857e-05, random_state=42),\n",
              " DecisionTreeClassifier(ccp_alpha=1.459507781000857e-05, random_state=42),\n",
              " DecisionTreeClassifier(ccp_alpha=1.459507781000857e-05, random_state=42),\n",
              " DecisionTreeClassifier(ccp_alpha=1.459507781000857e-05, random_state=42),\n",
              " DecisionTreeClassifier(ccp_alpha=1.459507781000857e-05, random_state=42),\n",
              " DecisionTreeClassifier(ccp_alpha=1.459507781000857e-05, random_state=42),\n",
              " DecisionTreeClassifier(ccp_alpha=1.459507781000857e-05, random_state=42),\n",
              " DecisionTreeClassifier(ccp_alpha=1.459507781000857e-05, random_state=42),\n",
              " DecisionTreeClassifier(ccp_alpha=1.459507781000857e-05, random_state=42),\n",
              " DecisionTreeClassifier(ccp_alpha=1.459507781000857e-05, random_state=42),\n",
              " DecisionTreeClassifier(ccp_alpha=1.4595077810008574e-05, random_state=42),\n",
              " DecisionTreeClassifier(ccp_alpha=1.4595077810008574e-05, random_state=42),\n",
              " DecisionTreeClassifier(ccp_alpha=1.4595077810008574e-05, random_state=42),\n",
              " DecisionTreeClassifier(ccp_alpha=1.4595077810008574e-05, random_state=42),\n",
              " DecisionTreeClassifier(ccp_alpha=1.4595077810008574e-05, random_state=42),\n",
              " DecisionTreeClassifier(ccp_alpha=1.4595077810008574e-05, random_state=42),\n",
              " DecisionTreeClassifier(ccp_alpha=1.4595077810008574e-05, random_state=42),\n",
              " DecisionTreeClassifier(ccp_alpha=1.4595077810008574e-05, random_state=42),\n",
              " DecisionTreeClassifier(ccp_alpha=1.4595077810008574e-05, random_state=42),\n",
              " DecisionTreeClassifier(ccp_alpha=1.4595077810008574e-05, random_state=42),\n",
              " DecisionTreeClassifier(ccp_alpha=1.4595077810008574e-05, random_state=42),\n",
              " DecisionTreeClassifier(ccp_alpha=1.4595077810008574e-05, random_state=42),\n",
              " DecisionTreeClassifier(ccp_alpha=1.4595077810008574e-05, random_state=42),\n",
              " DecisionTreeClassifier(ccp_alpha=1.4595077810008574e-05, random_state=42),\n",
              " DecisionTreeClassifier(ccp_alpha=1.4595077810008574e-05, random_state=42),\n",
              " DecisionTreeClassifier(ccp_alpha=1.4595077810008574e-05, random_state=42),\n",
              " DecisionTreeClassifier(ccp_alpha=1.4606346723781297e-05, random_state=42),\n",
              " DecisionTreeClassifier(ccp_alpha=1.4640687428164851e-05, random_state=42),\n",
              " DecisionTreeClassifier(ccp_alpha=1.4696432517022517e-05, random_state=42),\n",
              " DecisionTreeClassifier(ccp_alpha=1.473541509664327e-05, random_state=42),\n",
              " DecisionTreeClassifier(ccp_alpha=1.4735415096643275e-05, random_state=42),\n",
              " DecisionTreeClassifier(ccp_alpha=1.4761339472253125e-05, random_state=42),\n",
              " DecisionTreeClassifier(ccp_alpha=1.4909626900741509e-05, random_state=42),\n",
              " DecisionTreeClassifier(ccp_alpha=1.4926784123872399e-05, random_state=42),\n",
              " DecisionTreeClassifier(ccp_alpha=1.4973934011427452e-05, random_state=42),\n",
              " DecisionTreeClassifier(ccp_alpha=1.4979629492502668e-05, random_state=42),\n",
              " DecisionTreeClassifier(ccp_alpha=1.5024344804420586e-05, random_state=42),\n",
              " DecisionTreeClassifier(ccp_alpha=1.5051173991571336e-05, random_state=42),\n",
              " DecisionTreeClassifier(ccp_alpha=1.5078757867530842e-05, random_state=42),\n",
              " DecisionTreeClassifier(ccp_alpha=1.5088896232151727e-05, random_state=42),\n",
              " DecisionTreeClassifier(ccp_alpha=1.5147935432480532e-05, random_state=42),\n",
              " DecisionTreeClassifier(ccp_alpha=1.5163717205203713e-05, random_state=42),\n",
              " DecisionTreeClassifier(ccp_alpha=1.5203206052092267e-05, random_state=42),\n",
              " DecisionTreeClassifier(ccp_alpha=1.5203206052092267e-05, random_state=42),\n",
              " DecisionTreeClassifier(ccp_alpha=1.5203206052092267e-05, random_state=42),\n",
              " DecisionTreeClassifier(ccp_alpha=1.5203206052092267e-05, random_state=42),\n",
              " DecisionTreeClassifier(ccp_alpha=1.5203206052092267e-05, random_state=42),\n",
              " DecisionTreeClassifier(ccp_alpha=1.5203206052092267e-05, random_state=42),\n",
              " DecisionTreeClassifier(ccp_alpha=1.5203206052092267e-05, random_state=42),\n",
              " DecisionTreeClassifier(ccp_alpha=1.5246643783669672e-05, random_state=42),\n",
              " DecisionTreeClassifier(ccp_alpha=1.5402431738274345e-05, random_state=42),\n",
              " DecisionTreeClassifier(ccp_alpha=1.5431254142873662e-05, random_state=42),\n",
              " DecisionTreeClassifier(ccp_alpha=1.55072701731341e-05, random_state=42),\n",
              " DecisionTreeClassifier(ccp_alpha=1.5507270173134108e-05, random_state=42),\n",
              " DecisionTreeClassifier(ccp_alpha=1.553734244884155e-05, random_state=42),\n",
              " DecisionTreeClassifier(ccp_alpha=1.554873346236709e-05, random_state=42),\n",
              " DecisionTreeClassifier(ccp_alpha=1.559848940944667e-05, random_state=42),\n",
              " DecisionTreeClassifier(ccp_alpha=1.563758336786633e-05, random_state=42),\n",
              " DecisionTreeClassifier(ccp_alpha=1.563758336786633e-05, random_state=42),\n",
              " DecisionTreeClassifier(ccp_alpha=1.5637583367866332e-05, random_state=42),\n",
              " DecisionTreeClassifier(ccp_alpha=1.5637583367866332e-05, random_state=42),\n",
              " DecisionTreeClassifier(ccp_alpha=1.5637583367866332e-05, random_state=42),\n",
              " DecisionTreeClassifier(ccp_alpha=1.5637583367866332e-05, random_state=42),\n",
              " DecisionTreeClassifier(ccp_alpha=1.5637583367866332e-05, random_state=42),\n",
              " DecisionTreeClassifier(ccp_alpha=1.5637583367866332e-05, random_state=42),\n",
              " DecisionTreeClassifier(ccp_alpha=1.5637583367866332e-05, random_state=42),\n",
              " DecisionTreeClassifier(ccp_alpha=1.5637583367866342e-05, random_state=42),\n",
              " DecisionTreeClassifier(ccp_alpha=1.5838976486997947e-05, random_state=42),\n",
              " DecisionTreeClassifier(ccp_alpha=1.584199622234824e-05, random_state=42),\n",
              " DecisionTreeClassifier(ccp_alpha=1.592332993970075e-05, random_state=42),\n",
              " DecisionTreeClassifier(ccp_alpha=1.5950335035223646e-05, random_state=42),\n",
              " DecisionTreeClassifier(ccp_alpha=1.5963366354696874e-05, random_state=42),\n",
              " DecisionTreeClassifier(ccp_alpha=1.5963366354696877e-05, random_state=42),\n",
              " DecisionTreeClassifier(ccp_alpha=1.5963366354696877e-05, random_state=42),\n",
              " DecisionTreeClassifier(ccp_alpha=1.5963366354696877e-05, random_state=42),\n",
              " DecisionTreeClassifier(ccp_alpha=1.5963366354696877e-05, random_state=42),\n",
              " DecisionTreeClassifier(ccp_alpha=1.5963366354696877e-05, random_state=42),\n",
              " DecisionTreeClassifier(ccp_alpha=1.6028522952062984e-05, random_state=42),\n",
              " DecisionTreeClassifier(ccp_alpha=1.6032471836751834e-05, random_state=42),\n",
              " DecisionTreeClassifier(ccp_alpha=1.6071960683640392e-05, random_state=42),\n",
              " DecisionTreeClassifier(ccp_alpha=1.6113050429727126e-05, random_state=42),\n",
              " DecisionTreeClassifier(ccp_alpha=1.6216753122231745e-05, random_state=42),\n",
              " DecisionTreeClassifier(ccp_alpha=1.6216753122231745e-05, random_state=42),\n",
              " DecisionTreeClassifier(ccp_alpha=1.621675312223175e-05, random_state=42),\n",
              " DecisionTreeClassifier(ccp_alpha=1.621675312223175e-05, random_state=42),\n",
              " DecisionTreeClassifier(ccp_alpha=1.621675312223175e-05, random_state=42),\n",
              " DecisionTreeClassifier(ccp_alpha=1.621675312223175e-05, random_state=42),\n",
              " DecisionTreeClassifier(ccp_alpha=1.621675312223175e-05, random_state=42),\n",
              " DecisionTreeClassifier(ccp_alpha=1.621675312223175e-05, random_state=42),\n",
              " DecisionTreeClassifier(ccp_alpha=1.621675312223175e-05, random_state=42),\n",
              " DecisionTreeClassifier(ccp_alpha=1.6289149341527405e-05, random_state=42),\n",
              " DecisionTreeClassifier(ccp_alpha=1.6323442287509588e-05, random_state=42),\n",
              " DecisionTreeClassifier(ccp_alpha=1.6419462536259632e-05, random_state=42),\n",
              " DecisionTreeClassifier(ccp_alpha=1.6419462536259632e-05, random_state=42),\n",
              " DecisionTreeClassifier(ccp_alpha=1.6419462536259632e-05, random_state=42),\n",
              " DecisionTreeClassifier(ccp_alpha=1.6419462536259632e-05, random_state=42),\n",
              " DecisionTreeClassifier(ccp_alpha=1.641946253625964e-05, random_state=42),\n",
              " DecisionTreeClassifier(ccp_alpha=1.6419462536259646e-05, random_state=42),\n",
              " DecisionTreeClassifier(ccp_alpha=1.6419462536259646e-05, random_state=42),\n",
              " DecisionTreeClassifier(ccp_alpha=1.6419462536259646e-05, random_state=42),\n",
              " DecisionTreeClassifier(ccp_alpha=1.6419462536259646e-05, random_state=42),\n",
              " DecisionTreeClassifier(ccp_alpha=1.6419462536259646e-05, random_state=42),\n",
              " DecisionTreeClassifier(ccp_alpha=1.6419462536259646e-05, random_state=42),\n",
              " DecisionTreeClassifier(ccp_alpha=1.6419462536259646e-05, random_state=42),\n",
              " DecisionTreeClassifier(ccp_alpha=1.6419462536259646e-05, random_state=42),\n",
              " DecisionTreeClassifier(ccp_alpha=1.6419462536259646e-05, random_state=42),\n",
              " DecisionTreeClassifier(ccp_alpha=1.6419462536259646e-05, random_state=42),\n",
              " DecisionTreeClassifier(ccp_alpha=1.641946253625965e-05, random_state=42),\n",
              " DecisionTreeClassifier(ccp_alpha=1.641946253625965e-05, random_state=42),\n",
              " DecisionTreeClassifier(ccp_alpha=1.641946253625965e-05, random_state=42),\n",
              " DecisionTreeClassifier(ccp_alpha=1.641946253625965e-05, random_state=42),\n",
              " DecisionTreeClassifier(ccp_alpha=1.641946253625965e-05, random_state=42),\n",
              " DecisionTreeClassifier(ccp_alpha=1.6419462536259653e-05, random_state=42),\n",
              " DecisionTreeClassifier(ccp_alpha=1.6419462536259653e-05, random_state=42),\n",
              " DecisionTreeClassifier(ccp_alpha=1.6419462536259653e-05, random_state=42),\n",
              " DecisionTreeClassifier(ccp_alpha=1.6419462536259653e-05, random_state=42),\n",
              " DecisionTreeClassifier(ccp_alpha=1.6419462536259653e-05, random_state=42),\n",
              " DecisionTreeClassifier(ccp_alpha=1.6419462536259653e-05, random_state=42),\n",
              " DecisionTreeClassifier(ccp_alpha=1.6419462536259653e-05, random_state=42),\n",
              " DecisionTreeClassifier(ccp_alpha=1.650366490824047e-05, random_state=42),\n",
              " DecisionTreeClassifier(ccp_alpha=1.6533486581650337e-05, random_state=42),\n",
              " DecisionTreeClassifier(ccp_alpha=1.6533486581650337e-05, random_state=42),\n",
              " DecisionTreeClassifier(ccp_alpha=1.6585315693191557e-05, random_state=42),\n",
              " DecisionTreeClassifier(ccp_alpha=1.6585315693191564e-05, random_state=42),\n",
              " DecisionTreeClassifier(ccp_alpha=1.6585315693191564e-05, random_state=42),\n",
              " DecisionTreeClassifier(ccp_alpha=1.6585315693191564e-05, random_state=42),\n",
              " DecisionTreeClassifier(ccp_alpha=1.6585315693191564e-05, random_state=42),\n",
              " DecisionTreeClassifier(ccp_alpha=1.6585315693191564e-05, random_state=42),\n",
              " DecisionTreeClassifier(ccp_alpha=1.668008892572409e-05, random_state=42),\n",
              " DecisionTreeClassifier(ccp_alpha=1.6712667224407152e-05, random_state=42),\n",
              " DecisionTreeClassifier(ccp_alpha=1.6723526657301492e-05, random_state=42),\n",
              " DecisionTreeClassifier(ccp_alpha=1.6723526657301492e-05, random_state=42),\n",
              " DecisionTreeClassifier(ccp_alpha=1.6723526657301495e-05, random_state=42),\n",
              " DecisionTreeClassifier(ccp_alpha=1.6723526657301495e-05, random_state=42),\n",
              " DecisionTreeClassifier(ccp_alpha=1.6723526657301495e-05, random_state=42),\n",
              " DecisionTreeClassifier(ccp_alpha=1.6765183441136636e-05, random_state=42),\n",
              " DecisionTreeClassifier(ccp_alpha=1.678433948150986e-05, random_state=42),\n",
              " DecisionTreeClassifier(ccp_alpha=1.6792632139356442e-05, random_state=42),\n",
              " DecisionTreeClassifier(ccp_alpha=1.6792632139356456e-05, random_state=42),\n",
              " DecisionTreeClassifier(ccp_alpha=1.6799127538215953e-05, random_state=42),\n",
              " DecisionTreeClassifier(ccp_alpha=1.6840474396163735e-05, random_state=42),\n",
              " DecisionTreeClassifier(ccp_alpha=1.685848559872648e-05, random_state=42),\n",
              " DecisionTreeClassifier(ccp_alpha=1.6902387904973166e-05, random_state=42),\n",
              " DecisionTreeClassifier(ccp_alpha=1.6909267183729765e-05, random_state=42),\n",
              " DecisionTreeClassifier(ccp_alpha=1.694071531518852e-05, random_state=42),\n",
              " DecisionTreeClassifier(ccp_alpha=1.694071531518853e-05, random_state=42),\n",
              " DecisionTreeClassifier(ccp_alpha=1.694071531518853e-05, random_state=42),\n",
              " DecisionTreeClassifier(ccp_alpha=1.7027590778343327e-05, random_state=42),\n",
              " DecisionTreeClassifier(ccp_alpha=1.7027590778343334e-05, random_state=42),\n",
              " DecisionTreeClassifier(ccp_alpha=1.7027590778343334e-05, random_state=42),\n",
              " DecisionTreeClassifier(ccp_alpha=1.702759077834334e-05, random_state=42),\n",
              " DecisionTreeClassifier(ccp_alpha=1.702759077834334e-05, random_state=42),\n",
              " DecisionTreeClassifier(ccp_alpha=1.702759077834334e-05, random_state=42),\n",
              " DecisionTreeClassifier(ccp_alpha=1.702759077834334e-05, random_state=42),\n",
              " DecisionTreeClassifier(ccp_alpha=1.7103606808603794e-05, random_state=42),\n",
              " DecisionTreeClassifier(ccp_alpha=1.7103606808603797e-05, random_state=42),\n",
              " DecisionTreeClassifier(ccp_alpha=1.7103606808603797e-05, random_state=42),\n",
              " DecisionTreeClassifier(ccp_alpha=1.7103606808603797e-05, random_state=42),\n",
              " DecisionTreeClassifier(ccp_alpha=1.71036068086038e-05, random_state=42),\n",
              " DecisionTreeClassifier(ccp_alpha=1.71036068086038e-05, random_state=42),\n",
              " DecisionTreeClassifier(ccp_alpha=1.71036068086038e-05, random_state=42),\n",
              " DecisionTreeClassifier(ccp_alpha=1.7138159549631276e-05, random_state=42),\n",
              " DecisionTreeClassifier(ccp_alpha=1.7140040527249344e-05, random_state=42),\n",
              " DecisionTreeClassifier(ccp_alpha=1.717067977648068e-05, random_state=42),\n",
              " DecisionTreeClassifier(ccp_alpha=1.718141145134098e-05, random_state=42),\n",
              " DecisionTreeClassifier(ccp_alpha=1.7191317612750477e-05, random_state=42),\n",
              " DecisionTreeClassifier(ccp_alpha=1.7191317612750477e-05, random_state=42),\n",
              " DecisionTreeClassifier(ccp_alpha=1.7191317612750477e-05, random_state=42),\n",
              " DecisionTreeClassifier(ccp_alpha=1.7201341704652973e-05, random_state=42),\n",
              " DecisionTreeClassifier(ccp_alpha=1.7230300192371235e-05, random_state=42),\n",
              " DecisionTreeClassifier(ccp_alpha=1.723030019237124e-05, random_state=42),\n",
              " DecisionTreeClassifier(ccp_alpha=1.7331654899385177e-05, random_state=42),\n",
              " DecisionTreeClassifier(ccp_alpha=1.7375092630962588e-05, random_state=42),\n",
              " DecisionTreeClassifier(ccp_alpha=1.7375092630962595e-05, random_state=42),\n",
              " DecisionTreeClassifier(ccp_alpha=1.740182354270251e-05, random_state=42),\n",
              " DecisionTreeClassifier(ccp_alpha=1.7406776623407323e-05, random_state=42),\n",
              " DecisionTreeClassifier(ccp_alpha=1.7414581477851146e-05, random_state=42),\n",
              " DecisionTreeClassifier(ccp_alpha=1.741458147785115e-05, random_state=42),\n",
              " DecisionTreeClassifier(ccp_alpha=1.741458147785115e-05, random_state=42),\n",
              " DecisionTreeClassifier(ccp_alpha=1.7450636511966778e-05, random_state=42),\n",
              " DecisionTreeClassifier(ccp_alpha=1.7478273182429526e-05, random_state=42),\n",
              " DecisionTreeClassifier(ccp_alpha=1.7483686959906117e-05, random_state=42),\n",
              " DecisionTreeClassifier(ccp_alpha=1.7483686959906117e-05, random_state=42),\n",
              " DecisionTreeClassifier(ccp_alpha=1.7483686959906123e-05, random_state=42),\n",
              " DecisionTreeClassifier(ccp_alpha=1.75055332090719e-05, random_state=42),\n",
              " DecisionTreeClassifier(ccp_alpha=1.7514093372010284e-05, random_state=42),\n",
              " DecisionTreeClassifier(ccp_alpha=1.7514093372010284e-05, random_state=42),\n",
              " DecisionTreeClassifier(ccp_alpha=1.7514093372010287e-05, random_state=42),\n",
              " DecisionTreeClassifier(ccp_alpha=1.751877128156478e-05, random_state=42),\n",
              " DecisionTreeClassifier(ccp_alpha=1.754216082933724e-05, random_state=42),\n",
              " DecisionTreeClassifier(ccp_alpha=1.7558542969468422e-05, random_state=42),\n",
              " DecisionTreeClassifier(ccp_alpha=1.7568149215751055e-05, random_state=42),\n",
              " DecisionTreeClassifier(ccp_alpha=1.75684918618194e-05, random_state=42),\n",
              " DecisionTreeClassifier(ccp_alpha=1.759228128884962e-05, random_state=42),\n",
              " DecisionTreeClassifier(ccp_alpha=1.7604919421959427e-05, random_state=42),\n",
              " DecisionTreeClassifier(ccp_alpha=1.7614749081044817e-05, random_state=42),\n",
              " DecisionTreeClassifier(ccp_alpha=1.765533606049423e-05, random_state=42),\n",
              " DecisionTreeClassifier(ccp_alpha=1.7673727035557258e-05, random_state=42),\n",
              " DecisionTreeClassifier(ccp_alpha=1.7673727035557264e-05, random_state=42),\n",
              " DecisionTreeClassifier(ccp_alpha=1.7691003406071e-05, random_state=42),\n",
              " DecisionTreeClassifier(ccp_alpha=1.7707263519495692e-05, random_state=42),\n",
              " DecisionTreeClassifier(ccp_alpha=1.7714187180695877e-05, random_state=42),\n",
              " DecisionTreeClassifier(ccp_alpha=1.7722594483581842e-05, random_state=42),\n",
              " DecisionTreeClassifier(ccp_alpha=1.7732337526178602e-05, random_state=42),\n",
              " DecisionTreeClassifier(ccp_alpha=1.773707372744098e-05, random_state=42),\n",
              " DecisionTreeClassifier(ccp_alpha=1.773707372744098e-05, random_state=42),\n",
              " DecisionTreeClassifier(ccp_alpha=1.7750770309469905e-05, random_state=42),\n",
              " DecisionTreeClassifier(ccp_alpha=1.7750770309469905e-05, random_state=42),\n",
              " DecisionTreeClassifier(ccp_alpha=1.7750770309469905e-05, random_state=42),\n",
              " DecisionTreeClassifier(ccp_alpha=1.7787751080947936e-05, random_state=42),\n",
              " DecisionTreeClassifier(ccp_alpha=1.7795895655618717e-05, random_state=42),\n",
              " DecisionTreeClassifier(ccp_alpha=1.7831090537114548e-05, random_state=42),\n",
              " DecisionTreeClassifier(ccp_alpha=1.784724188723873e-05, random_state=42),\n",
              " DecisionTreeClassifier(ccp_alpha=1.784724188723874e-05, random_state=42),\n",
              " DecisionTreeClassifier(ccp_alpha=1.7851636893613673e-05, random_state=42),\n",
              " DecisionTreeClassifier(ccp_alpha=1.7888447640513767e-05, random_state=42),\n",
              " DecisionTreeClassifier(ccp_alpha=1.790599823913087e-05, random_state=42),\n",
              " DecisionTreeClassifier(ccp_alpha=1.7909710865761455e-05, random_state=42),\n",
              " DecisionTreeClassifier(ccp_alpha=1.7910546206753322e-05, random_state=42),\n",
              " DecisionTreeClassifier(ccp_alpha=1.7912140948646882e-05, random_state=42),\n",
              " DecisionTreeClassifier(ccp_alpha=1.7912140948646882e-05, random_state=42),\n",
              " DecisionTreeClassifier(ccp_alpha=1.7912140948646886e-05, random_state=42),\n",
              " DecisionTreeClassifier(ccp_alpha=1.7912140948646906e-05, random_state=42),\n",
              " DecisionTreeClassifier(ccp_alpha=1.7912140948646906e-05, random_state=42),\n",
              " DecisionTreeClassifier(ccp_alpha=1.791806427568018e-05, random_state=42),\n",
              " DecisionTreeClassifier(ccp_alpha=1.793978314146888e-05, random_state=42),\n",
              " DecisionTreeClassifier(ccp_alpha=1.7954917554733403e-05, random_state=42),\n",
              " DecisionTreeClassifier(ccp_alpha=1.7963172689241325e-05, random_state=42),\n",
              " DecisionTreeClassifier(ccp_alpha=1.7963172689241325e-05, random_state=42),\n",
              " DecisionTreeClassifier(ccp_alpha=1.7965739834728533e-05, random_state=42),\n",
              " DecisionTreeClassifier(ccp_alpha=1.79949556850628e-05, random_state=42),\n",
              " DecisionTreeClassifier(ccp_alpha=1.8015799171729315e-05, random_state=42),\n",
              " DecisionTreeClassifier(ccp_alpha=1.8029213765304706e-05, random_state=42),\n",
              " DecisionTreeClassifier(ccp_alpha=1.8061408789885604e-05, random_state=42),\n",
              " DecisionTreeClassifier(ccp_alpha=1.80737414605293e-05, random_state=42),\n",
              " DecisionTreeClassifier(ccp_alpha=1.8085205112401927e-05, random_state=42),\n",
              " DecisionTreeClassifier(ccp_alpha=1.812538072184506e-05, random_state=42),\n",
              " DecisionTreeClassifier(ccp_alpha=1.8137531136272235e-05, random_state=42),\n",
              " DecisionTreeClassifier(ccp_alpha=1.8172302763442116e-05, random_state=42),\n",
              " DecisionTreeClassifier(ccp_alpha=1.8177746366631943e-05, random_state=42),\n",
              " DecisionTreeClassifier(ccp_alpha=1.8243847262510715e-05, random_state=42),\n",
              " DecisionTreeClassifier(ccp_alpha=1.8243847262510715e-05, random_state=42),\n",
              " DecisionTreeClassifier(ccp_alpha=1.8243847262510715e-05, random_state=42),\n",
              " DecisionTreeClassifier(ccp_alpha=1.8243847262510718e-05, random_state=42),\n",
              " DecisionTreeClassifier(ccp_alpha=1.8243847262510718e-05, random_state=42),\n",
              " DecisionTreeClassifier(ccp_alpha=1.8243847262510718e-05, random_state=42),\n",
              " DecisionTreeClassifier(ccp_alpha=1.8243847262510718e-05, random_state=42),\n",
              " DecisionTreeClassifier(ccp_alpha=1.8243847262510718e-05, random_state=42),\n",
              " DecisionTreeClassifier(ccp_alpha=1.8243847262510718e-05, random_state=42),\n",
              " DecisionTreeClassifier(ccp_alpha=1.8243847262510718e-05, random_state=42),\n",
              " DecisionTreeClassifier(ccp_alpha=1.8243847262510718e-05, random_state=42),\n",
              " DecisionTreeClassifier(ccp_alpha=1.8243847262510718e-05, random_state=42),\n",
              " DecisionTreeClassifier(ccp_alpha=1.8243847262510718e-05, random_state=42),\n",
              " DecisionTreeClassifier(ccp_alpha=1.8243847262510718e-05, random_state=42),\n",
              " DecisionTreeClassifier(ccp_alpha=1.8243847262510718e-05, random_state=42),\n",
              " DecisionTreeClassifier(ccp_alpha=1.8243847262510718e-05, random_state=42),\n",
              " DecisionTreeClassifier(ccp_alpha=1.8243847262510718e-05, random_state=42),\n",
              " DecisionTreeClassifier(ccp_alpha=1.8243847262510718e-05, random_state=42),\n",
              " DecisionTreeClassifier(ccp_alpha=1.8243847262510718e-05, random_state=42),\n",
              " DecisionTreeClassifier(ccp_alpha=1.8243847262510718e-05, random_state=42),\n",
              " DecisionTreeClassifier(ccp_alpha=1.8243847262510718e-05, random_state=42),\n",
              " DecisionTreeClassifier(ccp_alpha=1.8243847262510718e-05, random_state=42),\n",
              " DecisionTreeClassifier(ccp_alpha=1.8243847262510718e-05, random_state=42),\n",
              " DecisionTreeClassifier(ccp_alpha=1.8243847262510718e-05, random_state=42),\n",
              " DecisionTreeClassifier(ccp_alpha=1.8243847262510718e-05, random_state=42),\n",
              " DecisionTreeClassifier(ccp_alpha=1.8243847262510718e-05, random_state=42),\n",
              " DecisionTreeClassifier(ccp_alpha=1.8243847262510718e-05, random_state=42),\n",
              " DecisionTreeClassifier(ccp_alpha=1.8243847262510718e-05, random_state=42),\n",
              " DecisionTreeClassifier(ccp_alpha=1.8243847262510718e-05, random_state=42),\n",
              " DecisionTreeClassifier(ccp_alpha=1.8243847262510718e-05, random_state=42),\n",
              " DecisionTreeClassifier(ccp_alpha=1.8243847262510718e-05, random_state=42),\n",
              " DecisionTreeClassifier(ccp_alpha=1.8243847262510718e-05, random_state=42),\n",
              " DecisionTreeClassifier(ccp_alpha=1.8243847262510718e-05, random_state=42),\n",
              " DecisionTreeClassifier(ccp_alpha=1.8243847262510718e-05, random_state=42),\n",
              " DecisionTreeClassifier(ccp_alpha=1.8243847262510718e-05, random_state=42),\n",
              " DecisionTreeClassifier(ccp_alpha=1.8243847262510718e-05, random_state=42),\n",
              " DecisionTreeClassifier(ccp_alpha=1.8243847262510718e-05, random_state=42),\n",
              " DecisionTreeClassifier(ccp_alpha=1.8243847262510718e-05, random_state=42),\n",
              " DecisionTreeClassifier(ccp_alpha=1.8243847262510718e-05, random_state=42),\n",
              " DecisionTreeClassifier(ccp_alpha=1.8243847262510718e-05, random_state=42),\n",
              " DecisionTreeClassifier(ccp_alpha=1.8243847262510718e-05, random_state=42),\n",
              " DecisionTreeClassifier(ccp_alpha=1.8243847262510718e-05, random_state=42),\n",
              " DecisionTreeClassifier(ccp_alpha=1.8243847262510718e-05, random_state=42),\n",
              " DecisionTreeClassifier(ccp_alpha=1.8243847262510718e-05, random_state=42),\n",
              " DecisionTreeClassifier(ccp_alpha=1.8243847262510718e-05, random_state=42),\n",
              " DecisionTreeClassifier(ccp_alpha=1.8243847262510718e-05, random_state=42),\n",
              " DecisionTreeClassifier(ccp_alpha=1.8243847262510718e-05, random_state=42),\n",
              " DecisionTreeClassifier(ccp_alpha=1.8243847262510718e-05, random_state=42),\n",
              " DecisionTreeClassifier(ccp_alpha=1.8243847262510718e-05, random_state=42),\n",
              " DecisionTreeClassifier(ccp_alpha=1.8243847262510718e-05, random_state=42),\n",
              " DecisionTreeClassifier(ccp_alpha=1.8243847262510718e-05, random_state=42),\n",
              " DecisionTreeClassifier(ccp_alpha=1.8243847262510718e-05, random_state=42),\n",
              " DecisionTreeClassifier(ccp_alpha=1.8243847262510718e-05, random_state=42),\n",
              " DecisionTreeClassifier(ccp_alpha=1.8243847262510718e-05, random_state=42),\n",
              " DecisionTreeClassifier(ccp_alpha=1.8243847262510718e-05, random_state=42),\n",
              " DecisionTreeClassifier(ccp_alpha=1.8243847262510718e-05, random_state=42),\n",
              " DecisionTreeClassifier(ccp_alpha=1.8243847262510718e-05, random_state=42),\n",
              " DecisionTreeClassifier(ccp_alpha=1.8243847262510718e-05, random_state=42),\n",
              " DecisionTreeClassifier(ccp_alpha=1.8243847262510718e-05, random_state=42),\n",
              " DecisionTreeClassifier(ccp_alpha=1.8243847262510718e-05, random_state=42),\n",
              " DecisionTreeClassifier(ccp_alpha=1.8243847262510718e-05, random_state=42),\n",
              " DecisionTreeClassifier(ccp_alpha=1.8243847262510718e-05, random_state=42),\n",
              " DecisionTreeClassifier(ccp_alpha=1.8243847262510718e-05, random_state=42),\n",
              " DecisionTreeClassifier(ccp_alpha=1.8243847262510718e-05, random_state=42),\n",
              " DecisionTreeClassifier(ccp_alpha=1.8243847262510718e-05, random_state=42),\n",
              " DecisionTreeClassifier(ccp_alpha=1.8243847262510718e-05, random_state=42),\n",
              " DecisionTreeClassifier(ccp_alpha=1.8243847262510718e-05, random_state=42),\n",
              " DecisionTreeClassifier(ccp_alpha=1.8243847262510718e-05, random_state=42),\n",
              " DecisionTreeClassifier(ccp_alpha=1.8243847262510718e-05, random_state=42),\n",
              " DecisionTreeClassifier(ccp_alpha=1.8243847262510718e-05, random_state=42),\n",
              " DecisionTreeClassifier(ccp_alpha=1.8243847262510718e-05, random_state=42),\n",
              " DecisionTreeClassifier(ccp_alpha=1.8243847262510718e-05, random_state=42),\n",
              " DecisionTreeClassifier(ccp_alpha=1.8243847262510718e-05, random_state=42),\n",
              " DecisionTreeClassifier(ccp_alpha=1.8243847262510718e-05, random_state=42),\n",
              " DecisionTreeClassifier(ccp_alpha=1.8243847262510718e-05, random_state=42),\n",
              " DecisionTreeClassifier(ccp_alpha=1.8243847262510718e-05, random_state=42),\n",
              " DecisionTreeClassifier(ccp_alpha=1.8243847262510718e-05, random_state=42),\n",
              " DecisionTreeClassifier(ccp_alpha=1.8243847262510718e-05, random_state=42),\n",
              " DecisionTreeClassifier(ccp_alpha=1.8243847262510718e-05, random_state=42),\n",
              " DecisionTreeClassifier(ccp_alpha=1.8243847262510718e-05, random_state=42),\n",
              " DecisionTreeClassifier(ccp_alpha=1.8243847262510718e-05, random_state=42),\n",
              " DecisionTreeClassifier(ccp_alpha=1.8243847262510718e-05, random_state=42),\n",
              " DecisionTreeClassifier(ccp_alpha=1.8243847262510718e-05, random_state=42),\n",
              " DecisionTreeClassifier(ccp_alpha=1.8243847262510718e-05, random_state=42),\n",
              " DecisionTreeClassifier(ccp_alpha=1.8243847262510718e-05, random_state=42),\n",
              " DecisionTreeClassifier(ccp_alpha=1.8243847262510718e-05, random_state=42),\n",
              " DecisionTreeClassifier(ccp_alpha=1.8243847262510718e-05, random_state=42),\n",
              " DecisionTreeClassifier(ccp_alpha=1.8243847262510718e-05, random_state=42),\n",
              " DecisionTreeClassifier(ccp_alpha=1.8243847262510718e-05, random_state=42),\n",
              " DecisionTreeClassifier(ccp_alpha=1.8243847262510718e-05, random_state=42),\n",
              " DecisionTreeClassifier(ccp_alpha=1.8243847262510718e-05, random_state=42),\n",
              " DecisionTreeClassifier(ccp_alpha=1.8243847262510718e-05, random_state=42),\n",
              " DecisionTreeClassifier(ccp_alpha=1.8243847262510718e-05, random_state=42),\n",
              " DecisionTreeClassifier(ccp_alpha=1.8243847262510718e-05, random_state=42),\n",
              " DecisionTreeClassifier(ccp_alpha=1.8243847262510718e-05, random_state=42),\n",
              " DecisionTreeClassifier(ccp_alpha=1.8243847262510718e-05, random_state=42),\n",
              " DecisionTreeClassifier(ccp_alpha=1.8243847262510718e-05, random_state=42),\n",
              " DecisionTreeClassifier(ccp_alpha=1.8243847262510718e-05, random_state=42),\n",
              " DecisionTreeClassifier(ccp_alpha=1.8243847262510718e-05, random_state=42),\n",
              " DecisionTreeClassifier(ccp_alpha=1.8243847262510718e-05, random_state=42),\n",
              " DecisionTreeClassifier(ccp_alpha=1.8243847262510718e-05, random_state=42),\n",
              " DecisionTreeClassifier(ccp_alpha=1.8243847262510718e-05, random_state=42),\n",
              " DecisionTreeClassifier(ccp_alpha=1.8243847262510718e-05, random_state=42),\n",
              " DecisionTreeClassifier(ccp_alpha=1.8243847262510718e-05, random_state=42),\n",
              " DecisionTreeClassifier(ccp_alpha=1.8243847262510718e-05, random_state=42),\n",
              " DecisionTreeClassifier(ccp_alpha=1.8243847262510718e-05, random_state=42),\n",
              " DecisionTreeClassifier(ccp_alpha=1.8243847262510718e-05, random_state=42),\n",
              " DecisionTreeClassifier(ccp_alpha=1.8243847262510718e-05, random_state=42),\n",
              " DecisionTreeClassifier(ccp_alpha=1.8243847262510718e-05, random_state=42),\n",
              " DecisionTreeClassifier(ccp_alpha=1.8243847262510718e-05, random_state=42),\n",
              " DecisionTreeClassifier(ccp_alpha=1.8243847262510718e-05, random_state=42),\n",
              " DecisionTreeClassifier(ccp_alpha=1.8243847262510718e-05, random_state=42),\n",
              " DecisionTreeClassifier(ccp_alpha=1.8243847262510718e-05, random_state=42),\n",
              " DecisionTreeClassifier(ccp_alpha=1.8243847262510718e-05, random_state=42),\n",
              " DecisionTreeClassifier(ccp_alpha=1.8243847262510718e-05, random_state=42),\n",
              " DecisionTreeClassifier(ccp_alpha=1.8243847262510718e-05, random_state=42),\n",
              " DecisionTreeClassifier(ccp_alpha=1.8243847262510718e-05, random_state=42),\n",
              " DecisionTreeClassifier(ccp_alpha=1.8243847262510718e-05, random_state=42),\n",
              " DecisionTreeClassifier(ccp_alpha=1.8243847262510718e-05, random_state=42),\n",
              " DecisionTreeClassifier(ccp_alpha=1.824384726251072e-05, random_state=42),\n",
              " DecisionTreeClassifier(ccp_alpha=1.824384726251072e-05, random_state=42),\n",
              " DecisionTreeClassifier(ccp_alpha=1.824384726251072e-05, random_state=42),\n",
              " DecisionTreeClassifier(ccp_alpha=1.824384726251072e-05, random_state=42),\n",
              " DecisionTreeClassifier(ccp_alpha=1.824384726251072e-05, random_state=42),\n",
              " DecisionTreeClassifier(ccp_alpha=1.824384726251072e-05, random_state=42),\n",
              " ...]"
            ]
          },
          "metadata": {},
          "execution_count": 29
        }
      ]
    },
    {
      "cell_type": "code",
      "source": [
        "# Checking train and testing scores of ccp alpha values\n",
        "\n",
        "train_scores = [clf.score(xtrain, ytrain) for clf in clfs_list]\n",
        "test_scores = [clf.score(xtest, ytest) for clf in clfs_list]"
      ],
      "metadata": {
        "id": "AQs-4otVls-a"
      },
      "execution_count": null,
      "outputs": []
    },
    {
      "cell_type": "code",
      "source": [
        "# Plotting scores of training and testing data\n",
        "import matplotlib.pyplot as plt\n",
        "\n",
        "plt.figure(figsize=(12,8)) # define the size of plot\n",
        "\n",
        "plt.plot(ccp_alpha_values, train_scores, '-o', label='Training Scores')\n",
        "plt.plot(ccp_alpha_values, test_scores, '-o', label='Testing Scores')\n",
        "\n",
        "plt.legend()"
      ],
      "metadata": {
        "colab": {
          "base_uri": "https://localhost:8080/",
          "height": 500
        },
        "id": "Wi6vEc7dodXZ",
        "outputId": "3a7c9934-4160-433e-ca0e-6e15356f0eae"
      },
      "execution_count": null,
      "outputs": [
        {
          "output_type": "execute_result",
          "data": {
            "text/plain": [
              "<matplotlib.legend.Legend at 0x7f2901f661f0>"
            ]
          },
          "metadata": {},
          "execution_count": 31
        },
        {
          "output_type": "display_data",
          "data": {
            "text/plain": [
              "<Figure size 864x576 with 1 Axes>"
            ],
            "image/png": "[encoded data removed]"
          },
          "metadata": {
            "needs_background": "light"
          }
        }
      ]
    },
    {
      "cell_type": "code",
      "source": [
        "fig, ax = plt.subplots()\n",
        "ax.set_xlabel(\"Alpha\")\n",
        "ax.set_ylabel(\"Accuracy\")\n",
        "\n",
        "ax.plot(ccp_alpha_values, train_scores, marker='o', label=\"training accuracy\", drawstyle=\"steps-post\")\n",
        "ax.plot(ccp_alpha_values, test_scores, marker='o', label=\"testing accuracy\", drawstyle=\"steps-post\")\n",
        "ax.legend()"
      ],
      "metadata": {
        "colab": {
          "base_uri": "https://localhost:8080/",
          "height": 296
        },
        "id": "8fXHvhuuoff5",
        "outputId": "aefd9ca9-8a9e-4cc0-df2d-6bf70e61210b"
      },
      "execution_count": null,
      "outputs": [
        {
          "output_type": "execute_result",
          "data": {
            "text/plain": [
              "<matplotlib.legend.Legend at 0x7f2901e861f0>"
            ]
          },
          "metadata": {},
          "execution_count": 32
        },
        {
          "output_type": "display_data",
          "data": {
            "text/plain": [
              "<Figure size 432x288 with 1 Axes>"
            ],
            "image/png": "[encoded data removed]"
          },
          "metadata": {
            "needs_background": "light"
          }
        }
      ]
    },
    {
      "cell_type": "code",
      "source": [
        "# Setting decision tree parameter\n",
        "import numpy as np\n",
        "max_features = ['sqrt', 'log2']\n",
        "max_depth = np.random.randint(10,30,50)\n",
        "criterion = ['gini', 'entropy']\n",
        "min_samples_split = [20,30,40]\n",
        "ccp_alpha = [0.00,0.001,0.00001 ]\n",
        "\n",
        "grids = {\n",
        "  \n",
        "    'max_features': max_features,\n",
        "    'max_depth': max_depth,\n",
        "    'criterion': criterion,\n",
        "    'min_samples_split': min_samples_split,\n",
        "    'ccp_alpha': ccp_alpha\n",
        "}"
      ],
      "metadata": {
        "id": "7XLN3wYQ56i5"
      },
      "execution_count": null,
      "outputs": []
    },
    {
      "cell_type": "code",
      "source": [
        "from sklearn.model_selection import GridSearchCV"
      ],
      "metadata": {
        "id": "GxubKJ9IqRVJ"
      },
      "execution_count": null,
      "outputs": []
    },
    {
      "cell_type": "code",
      "source": [
        "gc = GridSearchCV(model, grids,cv=5) # defining grid search object"
      ],
      "metadata": {
        "id": "Lo8K-FevqZEy"
      },
      "execution_count": null,
      "outputs": []
    },
    {
      "cell_type": "code",
      "source": [
        "gc.fit(xtrain, ytrain)"
      ],
      "metadata": {
        "colab": {
          "base_uri": "https://localhost:8080/"
        },
        "id": "L8sPIMdCrDai",
        "outputId": "9c60fece-8307-4787-f9f0-8db640b3bfe0"
      },
      "execution_count": null,
      "outputs": [
        {
          "output_type": "execute_result",
          "data": {
            "text/plain": [
              "GridSearchCV(cv=5, estimator=DecisionTreeClassifier(),\n",
              "             param_grid={'ccp_alpha': [0.0, 0.001, 1e-05],\n",
              "                         'criterion': ['gini', 'entropy'],\n",
              "                         'max_depth': array([28, 14, 26, 11, 15, 22, 22, 28, 19, 29, 18, 11, 18, 12, 11, 18, 20,\n",
              "       10, 27, 11, 15, 14, 26, 18, 18, 15, 18, 18, 29, 25, 26, 14, 28, 13,\n",
              "       22, 11, 15, 12, 28, 19, 25, 25, 19, 28, 10, 17, 10, 19, 15, 14]),\n",
              "                         'max_features': ['sqrt', 'log2'],\n",
              "                         'min_samples_split': [20, 30, 40]})"
            ]
          },
          "metadata": {},
          "execution_count": 39
        }
      ]
    },
    {
      "cell_type": "code",
      "source": [
        "gc.best_estimator_ # best paramter"
      ],
      "metadata": {
        "colab": {
          "base_uri": "https://localhost:8080/"
        },
        "id": "JwN6J3zAOvBY",
        "outputId": "5c42f142-c190-4427-9baf-a33c3ba20ee2"
      },
      "execution_count": null,
      "outputs": [
        {
          "output_type": "execute_result",
          "data": {
            "text/plain": [
              "DecisionTreeClassifier(ccp_alpha=1e-05, max_depth=19, max_features='sqrt',\n",
              "                       min_samples_split=30)"
            ]
          },
          "metadata": {},
          "execution_count": 40
        }
      ]
    },
    {
      "cell_type": "markdown",
      "source": [
        "5. Applying Decision Tree Model\n",
        "\n",
        "---\n",
        "\n"
      ],
      "metadata": {
        "id": "ceO4eNe1TVcz"
      }
    },
    {
      "cell_type": "code",
      "source": [
        "# Defining model with best parameter\n",
        "model2=DecisionTreeClassifier(ccp_alpha=1e-05, max_depth=19, max_features='sqrt',\n",
        "                       min_samples_split=30)"
      ],
      "metadata": {
        "id": "MsBxdfUBroB0"
      },
      "execution_count": null,
      "outputs": []
    },
    {
      "cell_type": "code",
      "source": [
        "model2.fit(xtrain, ytrain)"
      ],
      "metadata": {
        "colab": {
          "base_uri": "https://localhost:8080/",
          "height": 92
        },
        "id": "PeTo_6qqrsfp",
        "outputId": "0ab17353-8ceb-43d4-af66-cfe985500a42"
      },
      "execution_count": null,
      "outputs": [
        {
          "output_type": "execute_result",
          "data": {
            "text/plain": [
              "DecisionTreeClassifier(ccp_alpha=1e-05, max_depth=19, max_features='sqrt',\n",
              "                       min_samples_split=30)"
            ],
            "text/html": [
              "<style>#sk-container-id-1 {color: black;background-color: white;}#sk-container-id-1 pre{padding: 0;}#sk-container-id-1 div.sk-toggleable {background-color: white;}#sk-container-id-1 label.sk-toggleable__label {cursor: pointer;display: block;width: 100%;margin-bottom: 0;padding: 0.3em;box-sizing: border-box;text-align: center;}#sk-container-id-1 label.sk-toggleable__label-arrow:before {content: \"▸\";float: left;margin-right: 0.25em;color: #696969;}#sk-container-id-1 label.sk-toggleable__label-arrow:hover:before {color: black;}#sk-container-id-1 div.sk-estimator:hover label.sk-toggleable__label-arrow:before {color: black;}#sk-container-id-1 div.sk-toggleable__content {max-height: 0;max-width: 0;overflow: hidden;text-align: left;background-color: #f0f8ff;}#sk-container-id-1 div.sk-toggleable__content pre {margin: 0.2em;color: black;border-radius: 0.25em;background-color: #f0f8ff;}#sk-container-id-1 input.sk-toggleable__control:checked~div.sk-toggleable__content {max-height: 200px;max-width: 100%;overflow: auto;}#sk-container-id-1 input.sk-toggleable__control:checked~label.sk-toggleable__label-arrow:before {content: \"▾\";}#sk-container-id-1 div.sk-estimator input.sk-toggleable__control:checked~label.sk-toggleable__label {background-color: #d4ebff;}#sk-container-id-1 div.sk-label input.sk-toggleable__control:checked~label.sk-toggleable__label {background-color: #d4ebff;}#sk-container-id-1 input.sk-hidden--visually {border: 0;clip: rect(1px 1px 1px 1px);clip: rect(1px, 1px, 1px, 1px);height: 1px;margin: -1px;overflow: hidden;padding: 0;position: absolute;width: 1px;}#sk-container-id-1 div.sk-estimator {font-family: monospace;background-color: #f0f8ff;border: 1px dotted black;border-radius: 0.25em;box-sizing: border-box;margin-bottom: 0.5em;}#sk-container-id-1 div.sk-estimator:hover {background-color: #d4ebff;}#sk-container-id-1 div.sk-parallel-item::after {content: \"\";width: 100%;border-bottom: 1px solid gray;flex-grow: 1;}#sk-container-id-1 div.sk-label:hover label.sk-toggleable__label {background-color: #d4ebff;}#sk-container-id-1 div.sk-serial::before {content: \"\";position: absolute;border-left: 1px solid gray;box-sizing: border-box;top: 0;bottom: 0;left: 50%;z-index: 0;}#sk-container-id-1 div.sk-serial {display: flex;flex-direction: column;align-items: center;background-color: white;padding-right: 0.2em;padding-left: 0.2em;position: relative;}#sk-container-id-1 div.sk-item {position: relative;z-index: 1;}#sk-container-id-1 div.sk-parallel {display: flex;align-items: stretch;justify-content: center;background-color: white;position: relative;}#sk-container-id-1 div.sk-item::before, #sk-container-id-1 div.sk-parallel-item::before {content: \"\";position: absolute;border-left: 1px solid gray;box-sizing: border-box;top: 0;bottom: 0;left: 50%;z-index: -1;}#sk-container-id-1 div.sk-parallel-item {display: flex;flex-direction: column;z-index: 1;position: relative;background-color: white;}#sk-container-id-1 div.sk-parallel-item:first-child::after {align-self: flex-end;width: 50%;}#sk-container-id-1 div.sk-parallel-item:last-child::after {align-self: flex-start;width: 50%;}#sk-container-id-1 div.sk-parallel-item:only-child::after {width: 0;}#sk-container-id-1 div.sk-dashed-wrapped {border: 1px dashed gray;margin: 0 0.4em 0.5em 0.4em;box-sizing: border-box;padding-bottom: 0.4em;background-color: white;}#sk-container-id-1 div.sk-label label {font-family: monospace;font-weight: bold;display: inline-block;line-height: 1.2em;}#sk-container-id-1 div.sk-label-container {text-align: center;}#sk-container-id-1 div.sk-container {/* jupyter's `normalize.less` sets `[hidden] { display: none; }` but bootstrap.min.css set `[hidden] { display: none !important; }` so we also need the `!important` here to be able to override the default hidden behavior on the sphinx rendered scikit-learn.org. See: https://github.com/scikit-learn/scikit-learn/issues/21755 */display: inline-block !important;position: relative;}#sk-container-id-1 div.sk-text-repr-fallback {display: none;}</style><div id=\"sk-container-id-1\" class=\"sk-top-container\"><div class=\"sk-text-repr-fallback\"><pre>DecisionTreeClassifier(ccp_alpha=1e-05, max_depth=19, max_features=&#x27;sqrt&#x27;,\n",
              "                       min_samples_split=30)</pre><b>In a Jupyter environment, please rerun this cell to show the HTML representation or trust the notebook. <br />On GitHub, the HTML representation is unable to render, please try loading this page with nbviewer.org.</b></div><div class=\"sk-container\" hidden><div class=\"sk-item\"><div class=\"sk-estimator sk-toggleable\"><input class=\"sk-toggleable__control sk-hidden--visually\" id=\"sk-estimator-id-1\" type=\"checkbox\" checked><label for=\"sk-estimator-id-1\" class=\"sk-toggleable__label sk-toggleable__label-arrow\">DecisionTreeClassifier</label><div class=\"sk-toggleable__content\"><pre>DecisionTreeClassifier(ccp_alpha=1e-05, max_depth=19, max_features=&#x27;sqrt&#x27;,\n",
              "                       min_samples_split=30)</pre></div></div></div></div></div>"
            ]
          },
          "metadata": {},
          "execution_count": 21
        }
      ]
    },
    {
      "cell_type": "code",
      "source": [
        "model2.score(xtest, ytest) # testing score"
      ],
      "metadata": {
        "colab": {
          "base_uri": "https://localhost:8080/"
        },
        "id": "9JLazmy6r8vr",
        "outputId": "e3a33937-501d-495c-f552-c3f916a6ba33"
      },
      "execution_count": null,
      "outputs": [
        {
          "output_type": "execute_result",
          "data": {
            "text/plain": [
              "0.8815604648193078"
            ]
          },
          "metadata": {},
          "execution_count": 43
        }
      ]
    },
    {
      "cell_type": "code",
      "source": [
        "pred = model2.predict(xtest) # storing predicting result"
      ],
      "metadata": {
        "id": "gWshlLUvsjkq"
      },
      "execution_count": null,
      "outputs": []
    },
    {
      "cell_type": "markdown",
      "source": [
        "Evaluating Model"
      ],
      "metadata": {
        "id": "odrllNb4sWzQ"
      }
    },
    {
      "cell_type": "code",
      "source": [
        "from sklearn.metrics import classification_report , accuracy_score, confusion_matrix, RocCurveDisplay"
      ],
      "metadata": {
        "id": "qkQvjn1isZau"
      },
      "execution_count": null,
      "outputs": []
    },
    {
      "cell_type": "code",
      "source": [
        "print(classification_report(ytest,pred))"
      ],
      "metadata": {
        "colab": {
          "base_uri": "https://localhost:8080/"
        },
        "id": "nojlwSmksenX",
        "outputId": "ff829130-492e-4eec-f382-75ef45223cd5"
      },
      "execution_count": null,
      "outputs": [
        {
          "output_type": "stream",
          "name": "stdout",
          "text": [
            "              precision    recall  f1-score   support\n",
            "\n",
            "           0       0.83      0.95      0.89      7797\n",
            "           1       0.94      0.81      0.87      7865\n",
            "\n",
            "    accuracy                           0.88     15662\n",
            "   macro avg       0.89      0.88      0.88     15662\n",
            "weighted avg       0.89      0.88      0.88     15662\n",
            "\n"
          ]
        }
      ]
    },
    {
      "cell_type": "code",
      "source": [
        "test_confusion_matrix = confusion_matrix(ytest,pred)"
      ],
      "metadata": {
        "id": "xvpGF9asCVIo"
      },
      "execution_count": null,
      "outputs": []
    },
    {
      "cell_type": "code",
      "source": [
        "tp, fn, fp, tn = confusion_matrix(ytest,pred).reshape(-1)"
      ],
      "metadata": {
        "id": "pnLwT2xPCWuD"
      },
      "execution_count": null,
      "outputs": []
    },
    {
      "cell_type": "code",
      "source": [
        "tp"
      ],
      "metadata": {
        "colab": {
          "base_uri": "https://localhost:8080/"
        },
        "id": "0vRjcoOdGU9o",
        "outputId": "df3819f5-797c-432e-f4ea-50fbb4e47dbe"
      },
      "execution_count": null,
      "outputs": [
        {
          "output_type": "execute_result",
          "data": {
            "text/plain": [
              "7403"
            ]
          },
          "metadata": {},
          "execution_count": 32
        }
      ]
    },
    {
      "cell_type": "code",
      "source": [
        "fn"
      ],
      "metadata": {
        "colab": {
          "base_uri": "https://localhost:8080/"
        },
        "id": "eBn5PaVyGZ5X",
        "outputId": "6531f4b3-e05c-4713-c2a2-a94ef46e7eb0"
      },
      "execution_count": null,
      "outputs": [
        {
          "output_type": "execute_result",
          "data": {
            "text/plain": [
              "394"
            ]
          },
          "metadata": {},
          "execution_count": 33
        }
      ]
    },
    {
      "cell_type": "code",
      "source": [
        "fp"
      ],
      "metadata": {
        "colab": {
          "base_uri": "https://localhost:8080/"
        },
        "id": "ehaXbWkiGlNd",
        "outputId": "9d4b41b7-6780-4bb4-f71c-2ad57a40676d"
      },
      "execution_count": null,
      "outputs": [
        {
          "output_type": "execute_result",
          "data": {
            "text/plain": [
              "1468"
            ]
          },
          "metadata": {},
          "execution_count": 36
        }
      ]
    },
    {
      "cell_type": "code",
      "source": [
        "test_confusion_matrix"
      ],
      "metadata": {
        "colab": {
          "base_uri": "https://localhost:8080/"
        },
        "id": "Uad9RtTVGdhI",
        "outputId": "565a05fb-3979-4f11-82a0-b82899bddc0d"
      },
      "execution_count": null,
      "outputs": [
        {
          "output_type": "execute_result",
          "data": {
            "text/plain": [
              "array([[7403,  394],\n",
              "       [1468, 6397]])"
            ]
          },
          "metadata": {},
          "execution_count": 34
        }
      ]
    },
    {
      "cell_type": "code",
      "source": [
        "import matplotlib.pyplot as plt\n",
        "RocCurveDisplay.from_estimator(model2, xtest, ytest)\n",
        "plt.show()"
      ],
      "metadata": {
        "colab": {
          "base_uri": "https://localhost:8080/",
          "height": 279
        },
        "id": "AXqVmBr4syBg",
        "outputId": "9f7ce476-7374-4816-c649-4ea81ab97253"
      },
      "execution_count": null,
      "outputs": [
        {
          "output_type": "display_data",
          "data": {
            "text/plain": [
              "<Figure size 432x288 with 1 Axes>"
            ],
            "image/png": "[encoded data removed]"
          },
          "metadata": {
            "needs_background": "light"
          }
        }
      ]
    },
    {
      "cell_type": "code",
      "source": [
        "from sklearn.model_selection import KFold, cross_val_score"
      ],
      "metadata": {
        "id": "gbeK1tI1HPsG"
      },
      "execution_count": null,
      "outputs": []
    },
    {
      "cell_type": "code",
      "source": [
        "kfold = KFold(n_splits=10, shuffle=True)"
      ],
      "metadata": {
        "id": "FjdClF6XHf4G"
      },
      "execution_count": null,
      "outputs": []
    },
    {
      "cell_type": "code",
      "source": [
        "result = cross_val_score(model2, X, Y, cv=kfold)"
      ],
      "metadata": {
        "id": "Ew1cIuSnHfsO"
      },
      "execution_count": null,
      "outputs": []
    },
    {
      "cell_type": "code",
      "source": [
        "result"
      ],
      "metadata": {
        "colab": {
          "base_uri": "https://localhost:8080/"
        },
        "id": "66HLG2aIHfel",
        "outputId": "da07712f-3218-468f-91dd-68b0b1f48524"
      },
      "execution_count": null,
      "outputs": [
        {
          "output_type": "execute_result",
          "data": {
            "text/plain": [
              "array([0.87684352, 0.88201494, 0.87377897, 0.88373875, 0.88908046,\n",
              "       0.88314176, 0.8954023 , 0.8802682 , 0.88295019, 0.88467433])"
            ]
          },
          "metadata": {},
          "execution_count": 43
        }
      ]
    },
    {
      "cell_type": "code",
      "source": [
        "result.mean()"
      ],
      "metadata": {
        "id": "CWc7DiraHu3X",
        "outputId": "0ab13da9-2a02-433a-804a-d0e0ac076f8a",
        "colab": {
          "base_uri": "https://localhost:8080/"
        }
      },
      "execution_count": null,
      "outputs": [
        {
          "output_type": "execute_result",
          "data": {
            "text/plain": [
              "0.8831893414526217"
            ]
          },
          "metadata": {},
          "execution_count": 44
        }
      ]
    },
    {
      "cell_type": "markdown",
      "source": [
        "**Random forest Classifier**\n",
        "\n",
        "---\n",
        "\n",
        "\n",
        "\n",
        "---\n",
        "\n"
      ],
      "metadata": {
        "id": "AYDyyMnDtFqW"
      }
    },
    {
      "cell_type": "code",
      "source": [
        "from sklearn.ensemble import RandomForestClassifier\n",
        "cls = RandomForestClassifier()"
      ],
      "metadata": {
        "id": "5njSPPrXpcQm"
      },
      "execution_count": null,
      "outputs": []
    },
    {
      "cell_type": "code",
      "source": [
        "cls.fit(xtrain, ytrain)"
      ],
      "metadata": {
        "colab": {
          "base_uri": "https://localhost:8080/"
        },
        "id": "duc1s3ld6XyT",
        "outputId": "7c66faab-cc24-42ef-cead-5929fbe68208"
      },
      "execution_count": null,
      "outputs": [
        {
          "output_type": "execute_result",
          "data": {
            "text/plain": [
              "RandomForestClassifier()"
            ]
          },
          "metadata": {},
          "execution_count": 49
        }
      ]
    },
    {
      "cell_type": "code",
      "source": [
        "cls.score(xtest, ytest)"
      ],
      "metadata": {
        "colab": {
          "base_uri": "https://localhost:8080/"
        },
        "id": "I_Ja8BytAAZ9",
        "outputId": "6829e6b0-94ee-474c-dfe8-8efedbb5d7f7"
      },
      "execution_count": null,
      "outputs": [
        {
          "output_type": "execute_result",
          "data": {
            "text/plain": [
              "0.848039841654961"
            ]
          },
          "metadata": {},
          "execution_count": 50
        }
      ]
    },
    {
      "cell_type": "code",
      "source": [
        "import numpy as np\n",
        "trees = np.random.randint(15,150,30)"
      ],
      "metadata": {
        "id": "G7MXbHklATqB"
      },
      "execution_count": null,
      "outputs": []
    },
    {
      "cell_type": "code",
      "source": [
        "trees"
      ],
      "metadata": {
        "colab": {
          "base_uri": "https://localhost:8080/"
        },
        "id": "wVpjxnNgtJNb",
        "outputId": "068d1749-7f8c-4170-8112-615288f7ffdc"
      },
      "execution_count": null,
      "outputs": [
        {
          "output_type": "execute_result",
          "data": {
            "text/plain": [
              "array([143,  68, 124,  77, 140, 108,  79, 145,  22,  95,  49,  32,  21,\n",
              "        44, 148, 142,  62,  80,  30,  67, 125,  34, 121, 149,  58,  87,\n",
              "        66, 143, 117,  17])"
            ]
          },
          "metadata": {},
          "execution_count": 17
        }
      ]
    },
    {
      "cell_type": "code",
      "source": [
        "max_features = ['sqrt', 'log2']\n",
        "max_depth = np.random.randint(10,30,50)\n",
        "criterion = ['gini', 'entropy']\n",
        "min_samples_split = [20,30,40]\n",
        "\n",
        "grids2 = {\n",
        "    'n_estimators': trees,\n",
        "    'max_features': max_features,\n",
        "    'max_depth': max_depth,\n",
        "    'criterion': criterion,\n",
        "    'min_samples_split': min_samples_split\n",
        "}"
      ],
      "metadata": {
        "id": "m6yLAOwJtKyo"
      },
      "execution_count": null,
      "outputs": []
    },
    {
      "cell_type": "code",
      "source": [
        "from sklearn.model_selection import RandomizedSearchCV"
      ],
      "metadata": {
        "id": "g5PKXtGYxl8t"
      },
      "execution_count": null,
      "outputs": []
    },
    {
      "cell_type": "code",
      "source": [
        "rcv = RandomizedSearchCV(cls, grids2, n_iter=50, cv=5)"
      ],
      "metadata": {
        "id": "KJBe9vRsxypa"
      },
      "execution_count": null,
      "outputs": []
    },
    {
      "cell_type": "code",
      "source": [
        "rcv.fit(xtrain, ytrain)"
      ],
      "metadata": {
        "colab": {
          "base_uri": "https://localhost:8080/"
        },
        "id": "NqF3k2vPx8ah",
        "outputId": "6fced4ad-ca02-4adb-d2c3-43d5dab51ba7"
      },
      "execution_count": null,
      "outputs": [
        {
          "output_type": "execute_result",
          "data": {
            "text/plain": [
              "RandomizedSearchCV(cv=5, estimator=RandomForestClassifier(), n_iter=50,\n",
              "                   param_distributions={'criterion': ['gini', 'entropy'],\n",
              "                                        'max_depth': array([23, 19, 23, 21, 11, 14, 26, 25, 14, 14, 27, 27, 10, 26, 28, 14, 29,\n",
              "       25, 25, 29, 21, 25, 14, 16, 26, 23, 21, 27, 20, 27, 27, 14, 26, 23,\n",
              "       21, 19, 23, 14, 28, 21, 12, 29, 18, 25, 11, 27, 26, 12, 18, 16]),\n",
              "                                        'max_features': ['sqrt', 'log2'],\n",
              "                                        'min_samples_split': [20, 30, 40],\n",
              "                                        'n_estimators': array([143,  68, 124,  77, 140, 108,  79, 145,  22,  95,  49,  32,  21,\n",
              "        44, 148, 142,  62,  80,  30,  67, 125,  34, 121, 149,  58,  87,\n",
              "        66, 143, 117,  17])})"
            ]
          },
          "metadata": {},
          "execution_count": 23
        }
      ]
    },
    {
      "cell_type": "code",
      "source": [
        "rcv.best_params_"
      ],
      "metadata": {
        "colab": {
          "base_uri": "https://localhost:8080/"
        },
        "id": "zHlhNcUwG8cd",
        "outputId": "17c82bcb-27cf-4796-85ad-b04738f6b7c2"
      },
      "execution_count": null,
      "outputs": [
        {
          "output_type": "execute_result",
          "data": {
            "text/plain": [
              "{'n_estimators': 149,\n",
              " 'min_samples_split': 40,\n",
              " 'max_features': 'log2',\n",
              " 'max_depth': 21,\n",
              " 'criterion': 'gini'}"
            ]
          },
          "metadata": {},
          "execution_count": 24
        }
      ]
    },
    {
      "cell_type": "code",
      "source": [
        "clf2 = rcv.best_estimator_"
      ],
      "metadata": {
        "id": "kpdL30ZaHIgx"
      },
      "execution_count": null,
      "outputs": []
    },
    {
      "cell_type": "code",
      "source": [
        "clf2 = RandomForestClassifier(max_depth=21, max_features='log2', min_samples_split=40,\n",
        "                       n_estimators=149)"
      ],
      "metadata": {
        "id": "ikgesunUDFVu"
      },
      "execution_count": null,
      "outputs": []
    },
    {
      "cell_type": "code",
      "source": [
        "clf2.fit(xtrain, ytrain)"
      ],
      "metadata": {
        "colab": {
          "base_uri": "https://localhost:8080/",
          "height": 92
        },
        "id": "Rczc7BM7DJvw",
        "outputId": "e39f9325-9a5b-4010-87a3-cc483b4605b7"
      },
      "execution_count": null,
      "outputs": [
        {
          "output_type": "execute_result",
          "data": {
            "text/plain": [
              "RandomForestClassifier(max_depth=21, max_features='log2', min_samples_split=40,\n",
              "                       n_estimators=149)"
            ],
            "text/html": [
              "<style>#sk-container-id-1 {color: black;background-color: white;}#sk-container-id-1 pre{padding: 0;}#sk-container-id-1 div.sk-toggleable {background-color: white;}#sk-container-id-1 label.sk-toggleable__label {cursor: pointer;display: block;width: 100%;margin-bottom: 0;padding: 0.3em;box-sizing: border-box;text-align: center;}#sk-container-id-1 label.sk-toggleable__label-arrow:before {content: \"▸\";float: left;margin-right: 0.25em;color: #696969;}#sk-container-id-1 label.sk-toggleable__label-arrow:hover:before {color: black;}#sk-container-id-1 div.sk-estimator:hover label.sk-toggleable__label-arrow:before {color: black;}#sk-container-id-1 div.sk-toggleable__content {max-height: 0;max-width: 0;overflow: hidden;text-align: left;background-color: #f0f8ff;}#sk-container-id-1 div.sk-toggleable__content pre {margin: 0.2em;color: black;border-radius: 0.25em;background-color: #f0f8ff;}#sk-container-id-1 input.sk-toggleable__control:checked~div.sk-toggleable__content {max-height: 200px;max-width: 100%;overflow: auto;}#sk-container-id-1 input.sk-toggleable__control:checked~label.sk-toggleable__label-arrow:before {content: \"▾\";}#sk-container-id-1 div.sk-estimator input.sk-toggleable__control:checked~label.sk-toggleable__label {background-color: #d4ebff;}#sk-container-id-1 div.sk-label input.sk-toggleable__control:checked~label.sk-toggleable__label {background-color: #d4ebff;}#sk-container-id-1 input.sk-hidden--visually {border: 0;clip: rect(1px 1px 1px 1px);clip: rect(1px, 1px, 1px, 1px);height: 1px;margin: -1px;overflow: hidden;padding: 0;position: absolute;width: 1px;}#sk-container-id-1 div.sk-estimator {font-family: monospace;background-color: #f0f8ff;border: 1px dotted black;border-radius: 0.25em;box-sizing: border-box;margin-bottom: 0.5em;}#sk-container-id-1 div.sk-estimator:hover {background-color: #d4ebff;}#sk-container-id-1 div.sk-parallel-item::after {content: \"\";width: 100%;border-bottom: 1px solid gray;flex-grow: 1;}#sk-container-id-1 div.sk-label:hover label.sk-toggleable__label {background-color: #d4ebff;}#sk-container-id-1 div.sk-serial::before {content: \"\";position: absolute;border-left: 1px solid gray;box-sizing: border-box;top: 0;bottom: 0;left: 50%;z-index: 0;}#sk-container-id-1 div.sk-serial {display: flex;flex-direction: column;align-items: center;background-color: white;padding-right: 0.2em;padding-left: 0.2em;position: relative;}#sk-container-id-1 div.sk-item {position: relative;z-index: 1;}#sk-container-id-1 div.sk-parallel {display: flex;align-items: stretch;justify-content: center;background-color: white;position: relative;}#sk-container-id-1 div.sk-item::before, #sk-container-id-1 div.sk-parallel-item::before {content: \"\";position: absolute;border-left: 1px solid gray;box-sizing: border-box;top: 0;bottom: 0;left: 50%;z-index: -1;}#sk-container-id-1 div.sk-parallel-item {display: flex;flex-direction: column;z-index: 1;position: relative;background-color: white;}#sk-container-id-1 div.sk-parallel-item:first-child::after {align-self: flex-end;width: 50%;}#sk-container-id-1 div.sk-parallel-item:last-child::after {align-self: flex-start;width: 50%;}#sk-container-id-1 div.sk-parallel-item:only-child::after {width: 0;}#sk-container-id-1 div.sk-dashed-wrapped {border: 1px dashed gray;margin: 0 0.4em 0.5em 0.4em;box-sizing: border-box;padding-bottom: 0.4em;background-color: white;}#sk-container-id-1 div.sk-label label {font-family: monospace;font-weight: bold;display: inline-block;line-height: 1.2em;}#sk-container-id-1 div.sk-label-container {text-align: center;}#sk-container-id-1 div.sk-container {/* jupyter's `normalize.less` sets `[hidden] { display: none; }` but bootstrap.min.css set `[hidden] { display: none !important; }` so we also need the `!important` here to be able to override the default hidden behavior on the sphinx rendered scikit-learn.org. See: https://github.com/scikit-learn/scikit-learn/issues/21755 */display: inline-block !important;position: relative;}#sk-container-id-1 div.sk-text-repr-fallback {display: none;}</style><div id=\"sk-container-id-1\" class=\"sk-top-container\"><div class=\"sk-text-repr-fallback\"><pre>RandomForestClassifier(max_depth=21, max_features=&#x27;log2&#x27;, min_samples_split=40,\n",
              "                       n_estimators=149)</pre><b>In a Jupyter environment, please rerun this cell to show the HTML representation or trust the notebook. <br />On GitHub, the HTML representation is unable to render, please try loading this page with nbviewer.org.</b></div><div class=\"sk-container\" hidden><div class=\"sk-item\"><div class=\"sk-estimator sk-toggleable\"><input class=\"sk-toggleable__control sk-hidden--visually\" id=\"sk-estimator-id-1\" type=\"checkbox\" checked><label for=\"sk-estimator-id-1\" class=\"sk-toggleable__label sk-toggleable__label-arrow\">RandomForestClassifier</label><div class=\"sk-toggleable__content\"><pre>RandomForestClassifier(max_depth=21, max_features=&#x27;log2&#x27;, min_samples_split=40,\n",
              "                       n_estimators=149)</pre></div></div></div></div></div>"
            ]
          },
          "metadata": {},
          "execution_count": 17
        }
      ]
    },
    {
      "cell_type": "code",
      "source": [
        "clf2.score(xtest, ytest)"
      ],
      "metadata": {
        "colab": {
          "base_uri": "https://localhost:8080/"
        },
        "id": "0D-N6wGcDPd2",
        "outputId": "26435016-445b-4633-9459-557b74260a18"
      },
      "execution_count": null,
      "outputs": [
        {
          "output_type": "execute_result",
          "data": {
            "text/plain": [
              "0.8922232154258716"
            ]
          },
          "metadata": {},
          "execution_count": 18
        }
      ]
    },
    {
      "cell_type": "code",
      "source": [
        "pred2 = clf2.predict(xtest)"
      ],
      "metadata": {
        "id": "bYvAMKIaH8nh"
      },
      "execution_count": null,
      "outputs": []
    },
    {
      "cell_type": "code",
      "source": [
        "from sklearn.metrics import classification_report , accuracy_score, confusion_matrix, RocCurveDisplay"
      ],
      "metadata": {
        "id": "VgP-9NjfvFp9"
      },
      "execution_count": null,
      "outputs": []
    },
    {
      "cell_type": "code",
      "source": [
        "print(classification_report(ytest,pred2))"
      ],
      "metadata": {
        "id": "x2RP63ypvMSW",
        "colab": {
          "base_uri": "https://localhost:8080/"
        },
        "outputId": "d97205f7-526f-43eb-e014-d063377d4b7c"
      },
      "execution_count": null,
      "outputs": [
        {
          "output_type": "stream",
          "name": "stdout",
          "text": [
            "              precision    recall  f1-score   support\n",
            "\n",
            "           0       0.86      0.94      0.90      7797\n",
            "           1       0.94      0.84      0.89      7865\n",
            "\n",
            "    accuracy                           0.89     15662\n",
            "   macro avg       0.90      0.89      0.89     15662\n",
            "weighted avg       0.90      0.89      0.89     15662\n",
            "\n"
          ]
        }
      ]
    },
    {
      "cell_type": "code",
      "source": [
        "import matplotlib.pyplot as plt\n",
        "RocCurveDisplay.from_estimator(clf2, xtest, ytest)\n",
        "plt.show()"
      ],
      "metadata": {
        "id": "IM2q5thMvVRZ",
        "colab": {
          "base_uri": "https://localhost:8080/",
          "height": 279
        },
        "outputId": "404a85af-e547-450f-d977-eb00d8d9ffa6"
      },
      "execution_count": null,
      "outputs": [
        {
          "output_type": "display_data",
          "data": {
            "text/plain": [
              "<Figure size 432x288 with 1 Axes>"
            ],
            "image/png": "[encoded data removed]"
          },
          "metadata": {
            "needs_background": "light"
          }
        }
      ]
    },
    {
      "cell_type": "code",
      "source": [
        "test_confusion_matrix = confusion_matrix(ytest,pred2)"
      ],
      "metadata": {
        "id": "_Ylqeu_hwlDH"
      },
      "execution_count": null,
      "outputs": []
    },
    {
      "cell_type": "code",
      "source": [
        "test_confusion_matrix"
      ],
      "metadata": {
        "colab": {
          "base_uri": "https://localhost:8080/"
        },
        "id": "BDWFDXvkDt93",
        "outputId": "4daed804-6abd-49f7-a708-09244513bf34"
      },
      "execution_count": null,
      "outputs": [
        {
          "output_type": "execute_result",
          "data": {
            "text/plain": [
              "array([[7338,  459],\n",
              "       [1229, 6636]])"
            ]
          },
          "metadata": {},
          "execution_count": 24
        }
      ]
    },
    {
      "cell_type": "code",
      "source": [
        "sns.heatmap(test_confusion_matrix, annot=True)"
      ],
      "metadata": {
        "id": "aVRxcuPSwrJk",
        "colab": {
          "base_uri": "https://localhost:8080/",
          "height": 283
        },
        "outputId": "90377483-ddae-4fb9-cc70-d83839d39466"
      },
      "execution_count": null,
      "outputs": [
        {
          "output_type": "execute_result",
          "data": {
            "text/plain": [
              "<AxesSubplot:>"
            ]
          },
          "metadata": {},
          "execution_count": 35
        },
        {
          "output_type": "display_data",
          "data": {
            "text/plain": [
              "<Figure size 432x288 with 2 Axes>"
            ],
            "image/png": "[encoded data removed]"
          },
          "metadata": {
            "needs_background": "light"
          }
        }
      ]
    }
  ]
}